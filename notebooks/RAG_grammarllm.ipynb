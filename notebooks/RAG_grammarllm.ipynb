{
 "cells": [
  {
   "cell_type": "code",
   "execution_count": 1,
   "metadata": {},
   "outputs": [],
   "source": [
    "import os, sys\n",
    "os.environ[\"CUDA_VISIBLE_DEVICES\"] = \"0\"\n",
    "sys.path.append(os.path.abspath(os.path.join(os.getcwd(), \"../src\")))\n",
    "\n",
    "from tqdm import tqdm\n",
    "from rag_prompt_template import *\n",
    "from rag_util import *\n",
    "from rag_moduler import *\n",
    "from rag_extraction import *\n",
    "from grammar_llm_utils import *\n",
    "import json"
   ]
  },
  {
   "cell_type": "markdown",
   "metadata": {},
   "source": [
    "Initialise RAG pipeline\n",
    "------"
   ]
  },
  {
   "cell_type": "code",
   "execution_count": null,
   "metadata": {},
   "outputs": [],
   "source": [
    "using_llm = \"mistralsmall\"\n",
    "using_embed = \"hitsnomed\"\n",
    "task = \"tripleextraction\"\n",
    "eval_dataset = \"processed_data_pubmed_aggregated_annotations_5\"\n",
    "\n",
    "PARAMETERS = {\n",
    "    \"llm_model_name\": LLM[using_llm],\n",
    "    \"tokenizer_name\": LLM[using_llm],\n",
    "    \"embed_model_name\": EMBED_MODEL[using_embed],\n",
    "    \"storage_dir\": f\"../index/snomed_dataset_nodoc_commandr_hitsnomed\", # this is a partial KG indices for testing\n",
    "    # \"storage_dir\": f\"index/snomed_all_dataset_nodoc_hitsnomed\",  # this is a full KG indices for testing\n",
    "    \"input_text_dir\": f\"../data/humandx_data/humandx_findings.json\",\n",
    "    \"context_window\": 32768,\n",
    "    \"max_new_tokens\": 1024,\n",
    "    \"case_num\":50,\n",
    "    \"verbose\": True,\n",
    "    \"similarity_top_k\": 30,\n",
    "    \"graph_store_query_depth\": 5,\n",
    "    \"retriever_mode\": \"hybrid\",\n",
    "    \"test_id\": f\"_test_{task}_{eval_dataset}_{using_llm}_{using_embed}_grammar_predicate_constrained\"\n",
    "}"
   ]
  },
  {
   "cell_type": "code",
   "execution_count": null,
   "metadata": {},
   "outputs": [
    {
     "name": "stderr",
     "output_type": "stream",
     "text": [
      "/opt/conda/envs/hacid/lib/python3.8/site-packages/torch/cuda/__init__.py:628: UserWarning: Can't initialize NVML\n",
      "  warnings.warn(\"Can't initialize NVML\")\n"
     ]
    },
    {
     "data": {
      "application/vnd.jupyter.widget-view+json": {
       "model_id": "eea5097f84d04abfb9776e76c043ee40",
       "version_major": 2,
       "version_minor": 0
      },
      "text/plain": [
       "Loading checkpoint shards:   0%|          | 0/9 [00:00<?, ?it/s]"
      ]
     },
     "metadata": {},
     "output_type": "display_data"
    }
   ],
   "source": [
    "# initialise llm service context\n",
    "llm = init_llm_service_context(llm_model_name=PARAMETERS[\"llm_model_name\"], \n",
    "                                    tokenizer_name=PARAMETERS[\"tokenizer_name\"], \n",
    "                                    embed_model_name=PARAMETERS[\"embed_model_name\"],\n",
    "                                    context_window=PARAMETERS[\"context_window\"],\n",
    "                                    max_new_tokens=PARAMETERS[\"max_new_tokens\"],\n",
    "                                    # quantization_config=None,\n",
    "                                )"
   ]
  },
  {
   "cell_type": "code",
   "execution_count": null,
   "metadata": {},
   "outputs": [],
   "source": [
    "# Initialize and load knowledge graph index\n",
    "kg_index = init_kg_storage_context(llm, storage_dir=PARAMETERS[\"storage_dir\"])"
   ]
  },
  {
   "cell_type": "code",
   "execution_count": null,
   "metadata": {},
   "outputs": [
    {
     "name": "stdout",
     "output_type": "stream",
     "text": [
      "Retriever created, retriever: <class 'llama_index.core.indices.knowledge_graph.retrievers.KGTableRetriever'>, retriever_mode: hybrid\n"
     ]
    }
   ],
   "source": [
    "# Initialize retriever\n",
    "retriever = init_retriever(kg_index=kg_index,\n",
    "                            similarity_top_k=30,\n",
    "                            graph_store_query_depth=2,\n",
    "                            verbose=False\n",
    "                            )"
   ]
  },
  {
   "cell_type": "markdown",
   "metadata": {},
   "source": [
    "Triple Extraction example\n",
    "------"
   ]
  },
  {
   "cell_type": "code",
   "execution_count": null,
   "metadata": {},
   "outputs": [
    {
     "name": "stderr",
     "output_type": "stream",
     "text": [
      "Setting `pad_token_id` to `eos_token_id`:2 for open-end generation.\n"
     ]
    },
    {
     "data": {
      "text/plain": [
       "'You are a syntax generator that produces sentences conforming to the following format:\\n    [ (SUBJECT; PREDICATE; OBJECT), (SUBJECT; PREDICATE; OBJECT), ... ]\\n\\n\\n    Rules to follow:\\n    Each triple must be enclosed in parentheses ()\\n    Each triple must be separated by a comma\\n    The entire list of triples must be enclosed in square brackets [ ... ]\\n    Generate at least two triples per output, optionally more\\n\\n\\nHere are the triples to use as a reference: [\"(\\'International neuroblastoma pathology classification: Favorable histology group, patient of any age with ganglioneuroma (Schwannian stroma-dominant) maturing, or mature (finding)\\', \\'associated morphology\\', \\'Lesion (morphologic abnormality)\\')\", \"(\\'Intracranial hemorrhage following injury with prolonged loss of consciousness AND return to pre-existing conscious level (disorder)\\', \\'type\\', \\'Disorder\\')\", \"(\\'Cerebrovascular accident due to thrombus of left middle cerebral artery (disorder)\\', \\'due to\\', \\'Thrombosis of left middle cerebral artery (disorder)\\')\", \"(\\'Compression of brain co-occurrent and due to spontaneous cerebral hemorrhage (disorder)\\', \\'associated morphology\\', \\'Damage (morphologic abnormality)\\')\", \"(\\'International neuroblastoma pathology classification cannot be determined (finding)\\', \\'associated morphology\\', \\'Lesion (morphologic abnormality)\\')\", \"(\\'Intracranial hemorrhage co-occurrent and due to closed skull fracture (disorder)\\', \\'associated morphology\\', \\'Fracture (morphologic abnormality)\\')\", \"(\\'Cerebrovascular accident due to thrombus of left middle cerebral artery (disorder)\\', \\'associated morphology\\', \\'Damage (morphologic abnormality)\\')\", \"(\\'Cerebral infarction due to cerebral venous thrombosis, non-pyogenic (disorder)\\', \\'associated morphology\\', \\'Infarct (morphologic abnormality)\\')\", \"(\\'Cerebral degeneration due to neoplastic disease (disorder)\\', \\'associated morphology\\', \\'Degenerative abnormality (morphologic abnormality)\\')\", \"(\\'Intracranial injury with prolonged coma with open wound (disorder)\\', \\'associated morphology\\', \\'Open wound (morphologic abnormality)\\')\", \"(\\'Leak of cranial cerebrospinal fluid due to invasion by neoplasm of skull (disorder)\\', \\'due to\\', \\'Tumor invades bone (finding)\\')\", \"(\\'Multi-infarct dementia, uncomplicated (disorder)\\', \\'associated morphology\\', \\'Complete obstruction (morphologic abnormality)\\')\", \"(\\'International neuroblastoma staging system stage 4 (finding)\\', \\'associated morphology\\', \\'Lesion (morphologic abnormality)\\')\", \"(\\'Non-communicating cerebrospinal fluid retention (morphologic abnormality)\\', \\'type\\', \\'Morphologically Abnormal Structure\\')\", \"(\\'Cerebrovascular accident due to occlusion of left posterior cerebral artery by embolus (disorder)\\', \\'type\\', \\'Disorder\\')\", \"(\\'Leak of cranial cerebrospinal fluid due to osteomyelitis (disorder)\\', \\'due to\\', \\'Osteomyelitis of cranium (disorder)\\')\", \"(\\'International neuroblastoma pathology classification cannot be determined (finding)\\', \\'type\\', \\'Clinical Finding\\')\", \"(\\'Cerebellar laceration with open intracranial wound AND no loss of consciousness (disorder)\\', \\'type\\', \\'Disorder\\')\", \"(\\'Compression of brain co-occurrent and due to spontaneous cerebral hemorrhage (disorder)\\', \\'type\\', \\'Disorder\\')\", \"(\\'Brain stem contusion without open intracranial wound AND with concussion (disorder)\\', \\'type\\', \\'Disorder\\')\", \"(\\'Leak of cranial cerebrospinal fluid due to invasion by neoplasm of skull (disorder)\\', \\'type\\', \\'Disorder\\')\", \"(\\'Cerebrovascular accident due to thrombus of left middle cerebral artery (disorder)\\', \\'type\\', \\'Disorder\\')\", \"(\\'Intracranial hemorrhage co-occurrent and due to closed skull fracture (disorder)\\', \\'type\\', \\'Disorder\\')\", \"(\\'Cerebrospinal fluid leakage (morphologic abnormality)\\', \\'type\\', \\'Morphologically Abnormal Structure\\')\", \"(\\'Cerebral infarction due to cerebral venous thrombosis, non-pyogenic (disorder)\\', \\'type\\', \\'Disorder\\')\", \"(\\'Leak of cranial cerebrospinal fluid due to osteomyelitis (disorder)\\', \\'type\\', \\'Disorder\\')\", \"(\\'Cerebral ischemic stroke due to subarachnoid hemorrhage (disorder)\\', \\'type\\', \\'Disorder\\')\", \"(\\'Intracranial injury with prolonged coma with open wound (disorder)\\', \\'type\\', \\'Disorder\\')\", \"(\\'Posterior cerebral circulation hemorrhagic infarction (disorder)\\', \\'type\\', \\'Disorder\\')\", \"(\\'Cerebral degeneration due to neoplastic disease (disorder)\\', \\'type\\', \\'Disorder\\')\"]\\n\\nNow extract the triples from the following text: Results: Clinical data from our institution reveals that Leak of cranial cerebrospinal fluid due to and following procedure on central nervous system shows pathological morphology typical of Cerebrospinal fluid leakage, establishing a critical pathophysiological relationship. Moreover, Cerebrospinal fluid leakage belongs to the category of Morphologically Abnormal Structure. Clinical manifestations develop through well-defined pathological processes affecting specific organ systems and cellular functions. Accurate diagnosis depends on recognition of characteristic clinical patterns, appropriate use of diagnostic testing, and careful interpretation of results within the clinical context. Clinical management requires systematic approach including accurate diagnosis, appropriate treatment selection, and ongoing monitoring of therapeutic response. Treatment protocols emphasize patient safety, efficacy optimization, and quality of life considerations. Comprehensive care includes patient education, support services, and coordination with healthcare team members. Long-term prognosis is generally positive with early intervention and appropriate ongoing management. Success depends on multifactorial considerations including patient characteristics, disease severity, treatment response, and adherence to recommended care protocols. Systematic follow-up ensures continued treatment effectiveness.\\n'"
      ]
     },
     "execution_count": 9,
     "metadata": {},
     "output_type": "execute_result"
    }
   ],
   "source": [
    "# Example text for triple extraction\n",
    "\n",
    "text = \"Results: Clinical data from our institution reveals that Leak of cranial cerebrospinal fluid due to and following procedure on central nervous system shows pathological morphology typical of Cerebrospinal fluid leakage, establishing a critical pathophysiological relationship. Moreover, Cerebrospinal fluid leakage belongs to the category of Morphologically Abnormal Structure. Clinical manifestations develop through well-defined pathological processes affecting specific organ systems and cellular functions. Accurate diagnosis depends on recognition of characteristic clinical patterns, appropriate use of diagnostic testing, and careful interpretation of results within the clinical context. Clinical management requires systematic approach including accurate diagnosis, appropriate treatment selection, and ongoing monitoring of therapeutic response. Treatment protocols emphasize patient safety, efficacy optimization, and quality of life considerations. Comprehensive care includes patient education, support services, and coordination with healthcare team members. Long-term prognosis is generally positive with early intervention and appropriate ongoing management. Success depends on multifactorial considerations including patient characteristics, disease severity, treatment response, and adherence to recommended care protocols. Systematic follow-up ensures continued treatment effectiveness.\"\n",
    "\n",
    "system_prompt= \"\"\"You are a syntax generator that produces sentences conforming to the following format:\n",
    "    [ (SUBJECT; PREDICATE; OBJECT), (SUBJECT; PREDICATE; OBJECT), ... ]\\n\\n\n",
    "    Rules to follow:\n",
    "    Each triple must be enclosed in parentheses ()\n",
    "    Each triple must be separated by a comma\n",
    "    The entire list of triples must be enclosed in square brackets [ ... ]\n",
    "    Generate at least two triples per output, optionally more\n",
    "\"\"\"\n",
    "\n",
    "retrieved_results = retriever.retrieve(text)\n",
    "retrieved_triples = retrieved_results[1].node.metadata['kg_rel_texts']\n",
    "\n",
    "prompt = f\"\"\"{system_prompt}\n",
    "\n",
    "Here are the triples to use as a reference: {retrieved_triples}\n",
    "\n",
    "Now extract the triples from the following text: {text}\n",
    "\"\"\"\n",
    "\n",
    "prompt"
   ]
  },
  {
   "cell_type": "code",
   "execution_count": 6,
   "metadata": {},
   "outputs": [
    {
     "name": "stdout",
     "output_type": "stream",
     "text": [
      "Using device: cuda\n",
      "Using GPU: NVIDIA A100-PCIE-40GB\n"
     ]
    },
    {
     "data": {
      "application/vnd.jupyter.widget-view+json": {
       "model_id": "40c7f47cc4ca4451b9db9abd1c6a6c16",
       "version_major": 2,
       "version_minor": 0
      },
      "text/plain": [
       "Loading checkpoint shards:   0%|          | 0/9 [00:00<?, ?it/s]"
      ]
     },
     "metadata": {},
     "output_type": "display_data"
    }
   ],
   "source": [
    "# Initialize tokenizer\n",
    "# print(f\"Using GPU is CUDA:{os.environ['CUDA_VISIBLE_DEVICES']}\")\n",
    "device = torch.device(\"cuda\" if torch.cuda.is_available() else \"cpu\")\n",
    "print(f\"Using device: {device}\")\n",
    "gpu_name = torch.cuda.get_device_name(0)\n",
    "print(f\"Using GPU: {gpu_name}\")\n",
    "if \"A100\" in gpu_name or \"L4\" in gpu_name or \"H100\" in gpu_name:\n",
    "    dtype = torch.bfloat16\n",
    "else:\n",
    "    dtype = torch.float16\n",
    "\n",
    "model = AutoModelForCausalLM.from_pretrained(LLM[using_llm], \n",
    "                                                torch_dtype=dtype,\n",
    "                                            device_map=\"balanced\",\n",
    "                                            quantization_config=quantization_config,\n",
    ")\n",
    "tokenizer = AutoTokenizer.from_pretrained(LLM[using_llm])"
   ]
  },
  {
   "cell_type": "code",
   "execution_count": null,
   "metadata": {},
   "outputs": [
    {
     "name": "stdout",
     "output_type": "stream",
     "text": [
      "Initializing grammar in entpred mode...\n"
     ]
    }
   ],
   "source": [
    "# Initialize grammar\n",
    "productions, regex_dict = init_grammar(MODE=\"entpred\") # MODE=\"pred\" or \"entpred\"\n",
    "\n",
    "pars_table, map_terminal_tokens = get_parsing_table_and_map_tt(\n",
    "        tokenizer, \n",
    "        productions=productions, \n",
    "        regex_dict=regex_dict,\n",
    "    )"
   ]
  },
  {
   "cell_type": "code",
   "execution_count": null,
   "metadata": {},
   "outputs": [
    {
     "name": "stderr",
     "output_type": "stream",
     "text": [
      "0it [00:00, ?it/s]Setting `pad_token_id` to `eos_token_id`:2 for open-end generation.\n"
     ]
    },
    {
     "name": "stdout",
     "output_type": "stream",
     "text": [
      "Processing case 1/5: Traditional, trans-cervical thyroidectomy results ...\n",
      "length of retrieved triples: 30\n"
     ]
    },
    {
     "name": "stderr",
     "output_type": "stream",
     "text": [
      "1it [00:07,  7.22s/it]Setting `pad_token_id` to `eos_token_id`:2 for open-end generation.\n"
     ]
    },
    {
     "name": "stdout",
     "output_type": "stream",
     "text": [
      "Generated output: [('Trandolapril';'type';'Drug or medicament')]\n",
      "Processing case 2/5: Cardiac sarcoidosis is an inflammatory myocardial ...\n",
      "length of retrieved triples: 30\n"
     ]
    },
    {
     "name": "stderr",
     "output_type": "stream",
     "text": [
      "2it [00:20, 10.60s/it]Setting `pad_token_id` to `eos_token_id`:2 for open-end generation.\n"
     ]
    },
    {
     "name": "stdout",
     "output_type": "stream",
     "text": [
      "Generated output: [('Cardiac sarcoidosis';'is modification of';'Inflammatory myopathy with abundant macrophages')]\n",
      "Processing case 3/5: Tracheal resection and anastomosis surgery is a sa...\n",
      "length of retrieved triples: 30\n"
     ]
    },
    {
     "name": "stderr",
     "output_type": "stream",
     "text": [
      "3it [00:28,  9.69s/it]Setting `pad_token_id` to `eos_token_id`:2 for open-end generation.\n"
     ]
    },
    {
     "name": "stdout",
     "output_type": "stream",
     "text": [
      "Generated output: [('Tracheal stenosis following tracheostomy';'associated morphology';'Stenosis of trachea')]\n",
      "Processing case 4/5: Airborne aerosol transmission, an established mech...\n",
      "length of retrieved triples: 30\n"
     ]
    },
    {
     "name": "stderr",
     "output_type": "stream",
     "text": [
      "4it [00:37,  9.31s/it]Setting `pad_token_id` to `eos_token_id`:2 for open-end generation.\n"
     ]
    },
    {
     "name": "stdout",
     "output_type": "stream",
     "text": [
      "Generated output: [('Airway trauma';'due to';'Upper respiratory inflammation caused by chemical fumes')]\n",
      "Processing case 5/5: Adenoid cystic carcinoma (ACC) is the most common ...\n",
      "length of retrieved triples: 30\n"
     ]
    },
    {
     "name": "stderr",
     "output_type": "stream",
     "text": [
      "5it [00:47,  9.57s/it]"
     ]
    },
    {
     "name": "stdout",
     "output_type": "stream",
     "text": [
      "Generated output: [('Adenoid cystic carcinoma of lacrimal gland';'associated morphology';'Adenoid cystic carcinoma of lacrimal gland')]\n"
     ]
    },
    {
     "name": "stderr",
     "output_type": "stream",
     "text": [
      "\n"
     ]
    }
   ],
   "source": [
    "# Evaluate on the eval dataset\n",
    "from datetime import datetime\n",
    "from tqdm import tqdm\n",
    "now = datetime.now().strftime(\"%Y%m%d_%H%M%S\")\n",
    "\n",
    "eval_dataset = \"../data/dataset_example/processed_pubmed_annotations_5/csv/triple_extraction_dataset_eval.csv\"\n",
    "eval_df = pd.read_csv(eval_dataset)\n",
    "eval_df['output'] = eval_df['output'].apply(lambda x: x.replace(\"; \",\";\").replace(\"), \", \"),\"))\n",
    "\n",
    "predictions = []\n",
    "\n",
    "for index, row in tqdm(eval_df.iterrows()):\n",
    "    input_text = row['input']\n",
    "\n",
    "    print(f\"Processing case {index+1}/{len(eval_df)}: {input_text[:50]}...\")\n",
    "    retrieved_triples = retriever.retrieve(input_text)[1].node.metadata['kg_rel_texts']\n",
    "    print(f\"length of retrieved triples: {len(retrieved_triples)}\")\n",
    "\n",
    "    if len(retrieved_triples) == 0:\n",
    "        print(\"No triples retrieved, skipping this case.\")\n",
    "        predictions.append(\"No triples retrieved\")\n",
    "        continue\n",
    "    \n",
    "    prompt = f\"\"\"\n",
    "{system_prompt}\n",
    "\n",
    "Here are the triples to use as a reference: {retrieved_triples}\n",
    "\n",
    "Now extract the triples from the following text: {input_text}\n",
    "\n",
    "\"\"\"\n",
    "    # print(f\"Prompt: {prompt}\")\n",
    "\n",
    "    LogitProcessor, Streamer = generate_grammar_parameters(tokenizer, pars_table, map_terminal_tokens)\n",
    "\n",
    "    with torch.no_grad():\n",
    "        # output = generate_text(model, tokenizer, prompt, LogitProcessor, Streamer, chat_template, max_new_tokens=500, do_sample=True, temperature=0.7, top_p=0.9)\n",
    "        output = generate_text(model, tokenizer, prompt, LogitProcessor, Streamer, chat_template, max_new_tokens=500)\n",
    "        predictions.append(output)\n",
    "    \n",
    "    print(f\"Generated output: {output}\")\n",
    "\n",
    "eval_df['pred_output'] = predictions\n",
    "eval_df[['output','pred_output']].to_csv(f\"../results/{PARAMETERS['test_id']}_{now}.csv\", index=False)\n"
   ]
  }
 ],
 "metadata": {
  "kernelspec": {
   "display_name": "hacid",
   "language": "python",
   "name": "python3"
  },
  "language_info": {
   "codemirror_mode": {
    "name": "ipython",
    "version": 3
   },
   "file_extension": ".py",
   "mimetype": "text/x-python",
   "name": "python",
   "nbconvert_exporter": "python",
   "pygments_lexer": "ipython3",
   "version": "3.8.20"
  }
 },
 "nbformat": 4,
 "nbformat_minor": 2
}
