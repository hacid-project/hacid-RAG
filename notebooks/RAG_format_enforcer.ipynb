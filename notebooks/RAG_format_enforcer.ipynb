{
 "cells": [
  {
   "cell_type": "code",
   "execution_count": 1,
   "metadata": {},
   "outputs": [],
   "source": [
    "import os, sys\n",
    "os.environ[\"CUDA_VISIBLE_DEVICES\"] = \"0\"\n",
    "sys.path.append(os.path.abspath(os.path.join(os.getcwd(), \"../src\")))\n",
    "\n",
    "from tqdm import tqdm\n",
    "from rag_prompt_template import *\n",
    "from rag_util import *\n",
    "from rag_moduler import *\n",
    "from rag_extraction import *\n",
    "from format_enforcer_wrapper import *\n",
    "import json"
   ]
  },
  {
   "cell_type": "code",
   "execution_count": 2,
   "metadata": {},
   "outputs": [],
   "source": [
    "abstract_samples = [\n",
    "    \"Traditional, trans-cervical thyroidectomy results in the presence of a neck scar, which has been shown to correlate with lower quality of life and lower patient satisfaction. Transoral thyroid surgery (TOTS) has been utilized as an alternative approach to avoid a cutaneous incision and scar by accessing the neck and thyroid through the oral cavity. This study was designed to evaluate patient preference through health-state utility scores for TOTS as compared to conventional trans-cervical thyroidectomy.\",\n",
    "\n",
    "    \"Cardiac sarcoidosis is an inflammatory myocardial disease of unknown etiology. It is characterized by the deposition of non-caseating granulomas that may involve any part of the heart. Cardiac sarcoidosis is often under-diagnosed or recognized partly due to the heterogeneous clinical presentation of the disease. The three most frequent clinical manifestations of cardiac sarcoidosis are atrioventricular block, ventricular arrhythmias, and heart failure. A definitive diagnosis of cardiac sarcoidosis can be made with histology findings from an endomyocardial biopsy. However, the diagnosis in the majority of cases is based on findings from the clinical presentation and advanced imaging due to the low sensitivity of endomyocardial biopsy. The Heart Rhythm Society (HRS) 2014 expert consensus statement and the Japanese Ministry of Health and Welfare criteria are the two most commonly used diagnostic criteria sets. This review article summarizes the available evidence on cardiac sarcoidosis, focusing on the diagnostic criteria and stepwise approach to its management.\",\n",
    "\n",
    "    \"Tracheal resection and anastomosis surgery is a safe operation and is used to treat various benign and malignant diseases of the trachea. However, tracheal stenosis is among the main anastomotic complications following this procedure. Surgeons use both the continuous and the interrupted suture techniques for tracheal anastomosis, but contradicting results in each technique's complications have been reported in various studies. In this study, we aimed to compare the outcome of these two different suture techniques and a relevant literature review.\",\n",
    "\n",
    "    \"Airborne aerosol transmission, an established mechanism of SARS-CoV-2 spread, has been successfully mitigated in the health care setting through the adoption of universal masking. Upper airway endoscopy, however, requires direct access to the face, thereby potentially exposing the clinic environment to infectious particles. This study quantifies aerosol production during rigid nasal endoscopy (RNE) and RNE with debridement (RNED) as compared with intubation, a posited gold standard aerosol-generating procedure.\",\n",
    "\n",
    "    \"Adenoid cystic carcinoma (ACC) is the most common malignant neoplasm involving the lacrimal glands, with high rates of recurrence and metastasis. During the pregnancy, reports of recurrence of ACC of the salivary glands and trachea have previously been published, but no lacrimal gland ACC recurrence has been reported. We present a 35-year-old woman with lacrimal gland ACC who was initially treated by surgical resection and adjunctive radiotherapy, but her cancer recurred during pregnancy, with rapid progression to cavernous sinuses and brain. Estrogen and progesterone receptors have been detected on lacrimal glands and ACCs of salivary glands. Thus, hormonal changes during pregnancy might contribute to the recurrence of ACC. However, the inherent invasive and recurrent nature of ACC could also account for the regrowth in this patient and further molecular studies can provide more accurate explanations.\"\n",
    "]"
   ]
  },
  {
   "cell_type": "code",
   "execution_count": 3,
   "metadata": {},
   "outputs": [],
   "source": [
    "# using_llm = \"ds-r1-qwen\"\n",
    "using_llm = \"mistralsmall\"\n",
    "# using_llm = \"mistral-ft-multitask\"\n",
    "using_embed = \"hitsnomed\"\n",
    "task = \"infoextraction\"\n",
    "eval_dataset = \"multitask\"\n",
    "using_extractor = \"None\"\n",
    "using_generator = \"None\"\n",
    "using_parser = \"nuparser\"\n",
    "import datetime\n",
    "from datetime import datetime\n",
    "date = datetime.now().strftime(\"%Y%m%d_%H%M%S\")\n",
    "\n",
    "PARAMETERS = {\n",
    "    \"llm_model_name\": LLM[using_llm],\n",
    "    \"tokenizer_name\": LLM[\"mistralsmall\"],\n",
    "    \"embed_model_name\": EMBED_MODEL[using_embed],\n",
    "    \"storage_dir\": f\"../index/snomed_dataset_nodoc_commandr_hitsnomed\", # this is a partial KG indices for testing\n",
    "    # \"storage_dir\": f\"index/snomed_all_dataset_nodoc_hitsnomed\", # this is a full KG indices for testing\n",
    "    \"input_text_dir\": f\"../data/humandx_data/humandx_findings.json\",\n",
    "    \"context_window\": 32768,\n",
    "    \"max_new_tokens\": 512,\n",
    "    \"case_num\":50,\n",
    "    \"verbose\": True,\n",
    "    \"similarity_top_k\": 30,\n",
    "    \"graph_store_query_depth\": 2,\n",
    "    \"retriever_mode\": \"hybrid\",\n",
    "    \"test_id\": f\"{date}_test_{task}_{using_llm}_{eval_dataset}_extractor_{using_extractor}_{date}\"\n",
    "}"
   ]
  },
  {
   "cell_type": "code",
   "execution_count": 4,
   "metadata": {},
   "outputs": [
    {
     "name": "stderr",
     "output_type": "stream",
     "text": [
      "/opt/conda/envs/hacid/lib/python3.8/site-packages/torch/cuda/__init__.py:628: UserWarning: Can't initialize NVML\n",
      "  warnings.warn(\"Can't initialize NVML\")\n"
     ]
    },
    {
     "data": {
      "application/vnd.jupyter.widget-view+json": {
       "model_id": "00717add1aa44cd2b7c5b34ed8e3bffd",
       "version_major": 2,
       "version_minor": 0
      },
      "text/plain": [
       "Loading checkpoint shards:   0%|          | 0/9 [00:00<?, ?it/s]"
      ]
     },
     "metadata": {},
     "output_type": "display_data"
    }
   ],
   "source": [
    "llm = init_llm_service_context(llm_model_name=PARAMETERS[\"llm_model_name\"], \n",
    "                                    tokenizer_name=PARAMETERS[\"tokenizer_name\"], \n",
    "                                    embed_model_name=PARAMETERS[\"embed_model_name\"],\n",
    "                                    context_window=PARAMETERS[\"context_window\"],\n",
    "                                    max_new_tokens=PARAMETERS[\"max_new_tokens\"],\n",
    "                                    # quantization_config=None,\n",
    "                                )"
   ]
  },
  {
   "cell_type": "code",
   "execution_count": 5,
   "metadata": {},
   "outputs": [],
   "source": [
    "kg_index = init_kg_storage_context(llm, storage_dir=PARAMETERS[\"storage_dir\"])"
   ]
  },
  {
   "cell_type": "code",
   "execution_count": 6,
   "metadata": {},
   "outputs": [],
   "source": [
    "query_engine = init_rag_pipeline(kg_index, \n",
    "                                 similarity_top_k=30, \n",
    "                                 graph_store_query_depth=2, \n",
    "                                 include_text=False, \n",
    "                                 retriever_mode=\"hybrid\", \n",
    "                                 verbose=False)"
   ]
  },
  {
   "cell_type": "code",
   "execution_count": 7,
   "metadata": {},
   "outputs": [
    {
     "name": "stderr",
     "output_type": "stream",
     "text": [
      "  0%|          | 0/1 [00:00<?, ?it/s]Setting `pad_token_id` to `eos_token_id`:2 for open-end generation.\n"
     ]
    },
    {
     "name": "stdout",
     "output_type": "stream",
     "text": [
      "Processing abstract: Traditional, trans-cervical thyroidectomy results in the presence of a neck scar, which has been shown to correlate with lower quality of life and lower patient satisfaction. Transoral thyroid surgery (TOTS) has been utilized as an alternative approach to avoid a cutaneous incision and scar by accessing the neck and thyroid through the oral cavity. This study was designed to evaluate patient preference through health-state utility scores for TOTS as compared to conventional trans-cervical thyroidectomy.\n"
     ]
    },
    {
     "name": "stderr",
     "output_type": "stream",
     "text": [
      "Setting `pad_token_id` to `eos_token_id`:2 for open-end generation.\n"
     ]
    },
    {
     "name": "stdout",
     "output_type": "stream",
     "text": [
      "Response: 1. (Transoral thyroid surgery (TOTS); is modification of; Traditional, trans-cervical thyroidectomy) 2. (Transoral thyroid surgery (TOTS); associated finding; Presence of neck scar) 3. (Presence of neck scar; associated finding; Lower quality of life) 4. (Presence of neck scar; associated finding; Lower patient satisfaction) 5. (Trans-cervical thyroidectomy; associated finding; Presence of neck scar) 6. (Health-state utility scores; type; Method of measuring preference) 7. (Transoral thyroid surgery (TOTS); temporally follows; Traditional, trans-cervical thyroidectomy)\n",
      "========================================\n"
     ]
    },
    {
     "name": "stderr",
     "output_type": "stream",
     "text": [
      "Setting `pad_token_id` to `eos_token_id`:2 for open-end generation.\n",
      "Setting `pad_token_id` to `eos_token_id`:2 for open-end generation.\n",
      "Setting `pad_token_id` to `eos_token_id`:2 for open-end generation.\n",
      "100%|██████████| 1/1 [01:07<00:00, 67.20s/it]"
     ]
    },
    {
     "name": "stdout",
     "output_type": "stream",
     "text": [
      "extracted triples: ['(Traditional trans-cervical thyroidectomy; has definitional manifestation; Neck scar)', '(Traditional trans-cervical thyroidectomy; associated finding; Lower quality of life)', '(Traditional trans-cervical thyroidectomy; associated finding; Lower patient satisfaction)', '(Transoral thyroid surgery; course; Through oral cavity)', '(Transoral thyroid surgery; is modification of; Traditional trans-cervical thyroidectomy)']\n"
     ]
    },
    {
     "name": "stderr",
     "output_type": "stream",
     "text": [
      "\n"
     ]
    }
   ],
   "source": [
    "triple_extraction_prompt = \"\"\"\n",
    "Task: Extract SNOMED CT knowledge triples from the given medical text. \n",
    "\n",
    "Context: The input text is an excerpt from a medical document (e.g., research paper abstract, clinical note).\n",
    "\n",
    "Extract triples in the format (entity; predicate; entity) where both entities are medical concepts, and predicate describes their semantic relationship.\n",
    "\n",
    "Available predicate: [temporally follows, after, due to, has realization, associated with, has definitional manifestation, associated finding, associated aetiologic finding, interprets, associated morphology, causative agent, course, finding site, temporally related to, pathological process, direct morphology, is modification of, measures, direct substance, has active ingredient, using, part of, type].\n",
    "\n",
    "This is the input: {text}\n",
    "\n",
    "\"\"\"\n",
    "for abstract in tqdm(abstract_samples[:1]):\n",
    "    print(f\"Processing abstract: {abstract}\")\n",
    "    response = query_engine.query(triple_extraction_prompt.format(text=abstract))\n",
    "    # print(f\"Response: {response}\")\n",
    "    print(\"Response: {}\".format(response.response.replace(\"\\n\", \" \")))\n",
    "    print(\"========================================\")\n",
    "\n",
    "    my_query_engine = create_hybrid_triple_engine(query_engine, llm)\n",
    "    response = my_query_engine(triple_extraction_prompt.format(text=abstract))\n",
    "\n",
    "    triple_list = [f\"({triple.subject}; {triple.predicate}; {triple.object})\" for triple in response]\n",
    "\n",
    "    print(f\"extracted triples: {triple_list}\")"
   ]
  }
 ],
 "metadata": {
  "kernelspec": {
   "display_name": "hacid",
   "language": "python",
   "name": "python3"
  },
  "language_info": {
   "codemirror_mode": {
    "name": "ipython",
    "version": 3
   },
   "file_extension": ".py",
   "mimetype": "text/x-python",
   "name": "python",
   "nbconvert_exporter": "python",
   "pygments_lexer": "ipython3",
   "version": "3.8.20"
  }
 },
 "nbformat": 4,
 "nbformat_minor": 2
}
