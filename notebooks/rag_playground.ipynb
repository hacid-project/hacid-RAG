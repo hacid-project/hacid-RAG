{
 "cells": [
  {
   "cell_type": "code",
   "execution_count": 1,
   "metadata": {},
   "outputs": [],
   "source": [
    "import os, sys\n",
    "os.environ[\"CUDA_VISIBLE_DEVICES\"] = \"0\"\n",
    "sys.path.append(os.path.abspath(os.path.join(os.getcwd(), \"../src\")))\n",
    "\n",
    "from tqdm import tqdm\n",
    "from rag_prompt_template import *\n",
    "from rag_util import *\n",
    "from rag_moduler import *\n",
    "from rag_extraction import *\n",
    "import json"
   ]
  },
  {
   "cell_type": "markdown",
   "metadata": {},
   "source": [
    "Initialise RAG pipeline\n",
    "------"
   ]
  },
  {
   "cell_type": "code",
   "execution_count": null,
   "metadata": {},
   "outputs": [
    {
     "name": "stderr",
     "output_type": "stream",
     "text": [
      "/opt/conda/envs/hacid-pub/lib/python3.8/site-packages/torch/cuda/__init__.py:628: UserWarning: Can't initialize NVML\n",
      "  warnings.warn(\"Can't initialize NVML\")\n"
     ]
    },
    {
     "data": {
      "application/vnd.jupyter.widget-view+json": {
       "model_id": "020a085c06ee4f838595a90dfb1944a3",
       "version_major": 2,
       "version_minor": 0
      },
      "text/plain": [
       "Loading checkpoint shards:   0%|          | 0/9 [00:00<?, ?it/s]"
      ]
     },
     "metadata": {},
     "output_type": "display_data"
    }
   ],
   "source": [
    "using_llm = \"mistralsmall\"\n",
    "# using_llm = \"mistral-ft-multitask\"\n",
    "using_embed = \"hitsnomed\"\n",
    "task = \"entityextraction\"\n",
    "eval_dataset = \"mimicivchunk\"\n",
    "using_extractor = \"None\"\n",
    "using_generator = \"None\"\n",
    "\n",
    "PARAMETERS = {\n",
    "    \"llm_model_name\": LLM[using_llm],\n",
    "    \"tokenizer_name\": LLM[using_llm],\n",
    "    \"embed_model_name\": EMBED_MODEL[using_embed],\n",
    "    \"storage_dir\": f\"../index/snomed_dataset_nodoc_commandr_hitsnomed\", # this is a partial KG indices for testing\n",
    "    # \"storage_dir\": f\"index/snomed_all_dataset_nodoc_hitsnomed\",  # this is a full KG indices for testing\n",
    "    \"input_text_dir\": f\"../data/humandx_data/humandx_findings.json\",\n",
    "    \"context_window\": 32768,\n",
    "    \"max_new_tokens\": 512,\n",
    "    \"case_num\":50,\n",
    "    \"verbose\": True,\n",
    "    \"similarity_top_k\": 30,\n",
    "    \"graph_store_query_depth\": 5,\n",
    "    \"retriever_mode\": \"hybrid\",\n",
    "    \"test_id\": f\"_test_{task}_{eval_dataset}_{using_generator}_extractor_{using_extractor}\"\n",
    "}\n",
    "\n",
    "llm = init_llm_service_context(llm_model_name=PARAMETERS[\"llm_model_name\"], \n",
    "                                    tokenizer_name=PARAMETERS[\"tokenizer_name\"], \n",
    "                                    embed_model_name=PARAMETERS[\"embed_model_name\"],\n",
    "                                    context_window=PARAMETERS[\"context_window\"],\n",
    "                                    max_new_tokens=PARAMETERS[\"max_new_tokens\"],\n",
    "                                    # quantization_config=None,\n",
    "                                )"
   ]
  },
  {
   "cell_type": "code",
   "execution_count": 3,
   "metadata": {},
   "outputs": [],
   "source": [
    "kg_index = init_kg_storage_context(llm, storage_dir=PARAMETERS[\"storage_dir\"])"
   ]
  },
  {
   "cell_type": "code",
   "execution_count": 5,
   "metadata": {},
   "outputs": [],
   "source": [
    "query_engine = init_rag_pipeline(kg_index, \n",
    "                                 similarity_top_k=30, \n",
    "                                 graph_store_query_depth=5, \n",
    "                                 include_text=False, \n",
    "                                 retriever_mode=\"hybrid\", \n",
    "                                 verbose=PARAMETERS[\"verbose\"])"
   ]
  },
  {
   "cell_type": "markdown",
   "metadata": {},
   "source": [
    "Simple Question-Ansuwer example\n",
    "------"
   ]
  },
  {
   "cell_type": "code",
   "execution_count": 6,
   "metadata": {},
   "outputs": [
    {
     "name": "stderr",
     "output_type": "stream",
     "text": [
      "Setting `pad_token_id` to `eos_token_id`:2 for open-end generation.\n"
     ]
    },
    {
     "name": "stdout",
     "output_type": "stream",
     "text": [
      "\u001b[1;3;32mExtracted keywords: ['pancreatitis', 'Biliary', 'concept', 'type']\n",
      "\u001b[0m"
     ]
    },
    {
     "name": "stderr",
     "output_type": "stream",
     "text": [
      "Setting `pad_token_id` to `eos_token_id`:2 for open-end generation.\n"
     ]
    },
    {
     "name": "stdout",
     "output_type": "stream",
     "text": [
      "\u001b[1;3;34mKG context:\n",
      "The following are knowledge sequence in max depth 5 in the form of directed graph like:\n",
      "`subject -[predicate]->, object, <-[predicate_next_hop]-, object_next_hop ...`\n",
      "('Neoplasm of uncertain behavior of common bile duct (disorder)', 'associated morphology', 'Neoplasm of uncertain behavior (morphologic abnormality)')\n",
      "('Drug-induced chronic pancreatitis (disorder)', 'associated morphology', 'Chronic inflammatory morphology (morphologic abnormality)')\n",
      "('Idiopathic chronic pancreatitis (disorder)', 'associated morphology', 'Chronic inflammation (morphologic abnormality)')\n",
      "('Congenital stricture of common bile duct (disorder)', 'associated morphology', 'Stricture (morphologic abnormality)')\n",
      "('Pancreas divisum (disorder)', 'associated morphology', 'Developmental failure of fusion (morphologic abnormality)')\n",
      "('Partial agenesis of pancreas (disorder)', 'associated morphology', 'Congenital absence (morphologic abnormality)')\n",
      "('Pancreatic duct anastomotic stricture (disorder)', 'associated morphology', 'Stricture (morphologic abnormality)')\n",
      "('Benign neoplasm of pancreas (disorder)', 'associated morphology', 'Neoplasm, benign (morphologic abnormality)')\n",
      "('Pancreatic duct anastomotic stricture (disorder)', 'finding site', 'Anastomosis (morphologic abnormality)')\n",
      "('Pancreatic duct obstruction (disorder)', 'associated morphology', 'Obstruction (morphologic abnormality)')\n",
      "('Biliary cirrhosis (disorder)', 'associated morphology', 'Fibrosis (morphologic abnormality)')\n",
      "('Cyst of gallbladder (disorder)', 'associated morphology', 'Cyst (morphologic abnormality)')\n",
      "('Cyst of bile duct (disorder)', 'associated morphology', 'Cyst (morphologic abnormality)')\n",
      "('Neoplasm of uncertain behavior of common bile duct (disorder)', 'type', 'Disorder')\n",
      "('Chronic pancreatitis due to chronic alcoholism (disorder)', 'type', 'Disorder')\n",
      "('Congenital stricture of common bile duct (disorder)', 'type', 'Disorder')\n",
      "('Accumulation of bile in abdominal cavity (disorder)', 'type', 'Disorder')\n",
      "('Pancreatic duct anastomotic stricture (disorder)', 'type', 'Disorder')\n",
      "('Gallbladder and bile duct calculi (disorder)', 'type', 'Disorder')\n",
      "('Drug-induced chronic pancreatitis (disorder)', 'type', 'Disorder')\n",
      "('Idiopathic chronic pancreatitis (disorder)', 'type', 'Disorder')\n",
      "('Benign neoplasm of pancreas (disorder)', 'type', 'Disorder')\n",
      "('Pancreatic duct obstruction (disorder)', 'type', 'Disorder')\n",
      "('Cystadenoma of pancreas (disorder)', 'type', 'Disorder')\n",
      "('Lesion of gallbladder (disorder)', 'type', 'Disorder')\n",
      "('Disorder of pancreas (disorder)', 'type', 'Disorder')\n",
      "('Cyst of gallbladder (disorder)', 'type', 'Disorder')\n",
      "('Biliary cirrhosis (disorder)', 'type', 'Disorder')\n",
      "('Cyst of bile duct (disorder)', 'type', 'Disorder')\n",
      "('Pancreas divisum (disorder)', 'type', 'Disorder')\n",
      "\u001b[0m"
     ]
    },
    {
     "data": {
      "text/markdown": [
       "<b> The type of the concept 'Biliary pancreatitis' is 'Disorder'.</b>"
      ],
      "text/plain": [
       "<IPython.core.display.Markdown object>"
      ]
     },
     "metadata": {},
     "output_type": "display_data"
    }
   ],
   "source": [
    "response = query_engine.query(\"What is the type of the concept 'Biliary pancreatitis'?\")\n",
    "display(Markdown(f\"<b>{response}</b>\"))"
   ]
  },
  {
   "cell_type": "markdown",
   "metadata": {},
   "source": [
    "Concept/Entity Extraction example\n",
    "------"
   ]
  },
  {
   "cell_type": "code",
   "execution_count": 7,
   "metadata": {},
   "outputs": [
    {
     "name": "stderr",
     "output_type": "stream",
     "text": [
      "Setting `pad_token_id` to `eos_token_id`:2 for open-end generation.\n"
     ]
    },
    {
     "name": "stdout",
     "output_type": "stream",
     "text": [
      "\u001b[1;3;32mExtracted keywords: ['anxiety', 'morphologic', 'regimen/therapy', 'therapy', 'procedure', 'structure', 'Esophageal ulcer', 'metastatic lung cancer', 'lung', 'abnormality', 'Hiatal Hernia', 'metastatic', 'cholecystectomy', 'discharge', 'discharge note', 'Esophageal', 'concepts', 'CT', 'cancer', 'SNOMED CT', 'morphologic abnormality', 'finding', 'ulcer', 'Hernia', 'disorder', 'SNOMED', 'note', 'body structure', 'regimen', 'MI', 'body', 'CVA', 'Hiatal', 'cell structure', 'cell']\n",
      "\u001b[0m"
     ]
    },
    {
     "name": "stderr",
     "output_type": "stream",
     "text": [
      "Setting `pad_token_id` to `eos_token_id`:2 for open-end generation.\n"
     ]
    },
    {
     "name": "stdout",
     "output_type": "stream",
     "text": [
      "\u001b[1;3;34mKG context:\n",
      "The following are knowledge sequence in max depth 5 in the form of directed graph like:\n",
      "`subject -[predicate]->, object, <-[predicate_next_hop]-, object_next_hop ...`\n",
      "('International neuroblastoma pathology classification: Favorable histology group, patient of any age with ganglioneuroma (Schwannian stroma-dominant) maturing, or mature (finding)', 'associated morphology', 'Lesion (morphologic abnormality)')\n",
      "('Traumatic amputation thumb tip, type 3 (partial loss of terminal phalanx with corresponding loss of pulp and nail but not involving lunula) (disorder)', 'associated morphology', 'Open amputated structure (morphologic abnormality)')\n",
      "('Intergroup rhabdomyosarcoma study post-surgical clinical group IIC: Locally extensive tumor (spread to regional lymph nodes), gross total resection, but microscopic residual disease (finding)', 'type', 'Clinical Finding')\n",
      "('International neuroblastoma pathology classification: Favorable histology group, patient of any age with ganglioneuroma (Schwannian stroma-dominant) maturing, or mature (finding)', 'type', 'Clinical Finding')\n",
      "('Acquired obstruction of systemic to pulmonary arterial shunt due to and following procedure (disorder)', 'finding site', 'Systemic to pulmonary arterial shunt (morphologic abnormality)')\n",
      "('Traumatic amputation thumb tip, type 3 (partial loss of terminal phalanx with corresponding loss of pulp and nail but not involving lunula) (disorder)', 'type', 'Disorder')\n",
      "('Acquired regurgitation of left ventricular component of common atrioventricular valve following repair of biventricular connection (disorder)', 'type', 'Disorder')\n",
      "('B-cell lymphoma unclassifiable with features intermediate between classical Hodgkin lymphoma and diffuse large B-cell lymphoma (disorder)', 'type', 'Disorder')\n",
      "('Mendelian susceptibility to mycobacterial disease due to partial signal transducer and activator of transcription 1 deficiency (disorder)', 'type', 'Disorder')\n",
      "('Primary degenerative dementia of the Alzheimer type, senile onset, with depression (disorder)', 'has definitional manifestation', 'Dementia (disorder)')\n",
      "('Accidental anticholinesterase overdose (disorder)', 'causative agent', 'Substance with acetylcholinesterase inhibitor mechanism of action (substance)')\n",
      "('Major systemic to pulmonary collateral artery with absent pulmonary arteries proximal to hilar bifurcation (disorder)', 'type', 'Disorder')\n",
      "('Incisional hernia of anterior abdominal wall at trocar puncture site following laparoscopic procedure (disorder)', 'type', 'Disorder')\n",
      "('Acute ST segment elevation myocardial infarction of anterior wall involving right ventricle (disorder)', 'type', 'Disorder')\n",
      "('Hematoma of spleen without rupture of capsule AND without open wound into abdominal cavity (disorder)', 'type', 'Disorder')\n",
      "('Acute gastrojejunal ulcer without hemorrhage, without perforation AND without obstruction (disorder)', 'type', 'Disorder')\n",
      "('Chronic gastrojejunal ulcer with hemorrhage and with perforation but without obstruction (disorder)', 'type', 'Disorder')\n",
      "('Left ventricular failure with normal ejection fraction due to coronary arteriosclerosis (disorder)', 'type', 'Disorder')\n",
      "('Hematoma of kidney without rupture of capsule AND with open wound into abdominal cavity (disorder)', 'type', 'Disorder')\n",
      "('Primary degenerative dementia of the Alzheimer type, senile onset, with depression (disorder)', 'type', 'Disorder')\n",
      "('Chronic peptic ulcer with hemorrhage AND with perforation but without obstruction (disorder)', 'type', 'Disorder')\n",
      "('Retained magnetic foreign body in bilateral eyes due to and following eye injury (disorder)', 'type', 'Disorder')\n",
      "('Calculus of common bile duct with acute cholecystitis without obstruction (disorder)', 'type', 'Disorder')\n",
      "('Mural thrombus of right ventricle following acute myocardial infarction (disorder)', 'type', 'Disorder')\n",
      "('Perforation of gallbladder due to chronic cholecystitis with calculus (disorder)', 'type', 'Disorder')\n",
      "('Chronic sclerosing nonsuppurative osteomyelitis of frontal bone (disorder)', 'type', 'Disorder')\n",
      "('International neuroblastoma staging system stage 4 (finding)', 'type', 'Clinical Finding')\n",
      "('Multiple self-healing epithelioma of Ferguson-Smith (disorder)', 'type', 'Disorder')\n",
      "(\"Non-familial Alzheimer's disease of late onset (disorder)\", 'type', 'Disorder')\n",
      "('Wound sinus due to and following tracheostomy (disorder)', 'type', 'Disorder')\n",
      "\u001b[0m"
     ]
    },
    {
     "data": {
      "text/markdown": [
       "<b>1. Hiatal hernia\n",
       "2. Esophageal ulcer\n",
       "3. Metastatic lung cancer\n",
       "4. CVA\n",
       "5. MI\n",
       "6. Elective cholecystectomy</b>"
      ],
      "text/plain": [
       "<IPython.core.display.Markdown object>"
      ]
     },
     "metadata": {},
     "output_type": "display_data"
    },
    {
     "name": "stdout",
     "output_type": "stream",
     "text": [
      "========================================\n",
      "response: 1. Hiatal hernia\n",
      "2. Esophageal ulcer\n",
      "3. Metastatic lung cancer\n",
      "4. CVA\n",
      "5. MI\n",
      "6. Elective cholecystectomy\n"
     ]
    }
   ],
   "source": [
    "# text = \"___ is a ___ man who had severe biliary  pancreatitis resulting in pancreatic necrosis for which he was  treated with nasojejunal feedings and pancreatic rest.  He had  initially had multisystem organ failure, which improved. Mr.  ___ has a large postnecrotic pseudocyst, which has been  drained through a minimally invasive approach into his GI tract.   He has some debris, but this is not currently infected. The  patient was followed by Dr. ___ in his ___  clinic to discuss cholecystectomy. \"\n",
    "\n",
    "text = \"After discussion of all  risks, benefits and possible outcomes, patient was scheduled for  elective cholecystectomy on ___.   Past Medical History: Hiatal Hernia   ___ esophagus   Esophageal ulcer   anxiety   Back pain    Social History: ___ Family History: Mother passed of metastatic lung cancer. Father alive, had CVA  and MI.  No  history of pancreatic malignancy      Physical Exam: Prior Discharge: VS: 98.3, 83, 137/69, 16, 98% RA GEN: NAD, \"\n",
    "\n",
    "entity_extraction_prompt = \"\"\"\\\n",
    "Extract the mentioned SNOMED CT concepts from the given discharge note.\n",
    "\n",
    "Here is the desired types of the concepts: [finding, disorder, procedure, regimen/therapy, morphologic abnormality, body structure, cell structure]\n",
    "\n",
    "Here is the discharge note: {text}.\n",
    "\n",
    "\"\"\"\n",
    "\n",
    "response = query_engine.query(entity_extraction_prompt.format(text=text))\n",
    "display(Markdown(f\"<b>{response}</b>\"))\n",
    "print(\"========================================\")\n",
    "# response = \", \".join(list(dict.fromkeys(response.split(\",\"))))\n",
    "print(f\"response: {response}\")"
   ]
  },
  {
   "cell_type": "markdown",
   "metadata": {},
   "source": [
    "Entity-type Pair Extraction example\n",
    "------"
   ]
  },
  {
   "cell_type": "code",
   "execution_count": 8,
   "metadata": {},
   "outputs": [
    {
     "name": "stderr",
     "output_type": "stream",
     "text": [
      "Setting `pad_token_id` to `eos_token_id`:2 for open-end generation.\n"
     ]
    },
    {
     "name": "stdout",
     "output_type": "stream",
     "text": [
      "\u001b[1;3;32mExtracted keywords: ['out-patients', 'dopa', 'psychiatric', 'histories', 'mood', 'rating', 'depression', 'chronically', 'hypertension', 'methyl', 'methyl dopa', 'prevalence', 'referral', 'scale', 'psychiatric histories', 'mood rating scale', 'physically', 'ill', 'treatment', 'patients', 'chronically physically ill']\n",
      "\u001b[0m"
     ]
    },
    {
     "name": "stderr",
     "output_type": "stream",
     "text": [
      "Setting `pad_token_id` to `eos_token_id`:2 for open-end generation.\n"
     ]
    },
    {
     "name": "stdout",
     "output_type": "stream",
     "text": [
      "\u001b[1;3;34mKG context:\n",
      "The following are knowledge sequence in max depth 5 in the form of directed graph like:\n",
      "`subject -[predicate]->, object, <-[predicate_next_hop]-, object_next_hop ...`\n",
      "('Panic disorder with agoraphobia, agoraphobic avoidance in full remission AND panic attacks in full remission (disorder)', 'has definitional manifestation', 'Phobia (finding)')\n",
      "('Panic disorder with agoraphobia, moderate agoraphobic avoidance AND panic attacks in partial remission (disorder)', 'has definitional manifestation', 'Panic (finding)')\n",
      "('Panic disorder with agoraphobia, agoraphobic avoidance in partial remission AND severe panic attacks (disorder)', 'has definitional manifestation', 'Panic (finding)')\n",
      "('Panic disorder with agoraphobia, mild agoraphobic avoidance AND panic attacks in full remission (disorder)', 'has definitional manifestation', 'Phobia (finding)')\n",
      "('High risk proliferative retinopathy not amenable to photocoagulation due to diabetes mellitus (disorder)', 'associated with', 'Diabetes mellitus (disorder)')\n",
      "('Primary degenerative dementia of the Alzheimer type, senile onset, with depression (disorder)', 'has definitional manifestation', 'Dementia (disorder)')\n",
      "('At high risk of ulcer of right foot due to diabetes mellitus (finding)', 'has realization', 'Ulcer of right foot due to diabetes mellitus (disorder)')\n",
      "('Severe nonproliferative retinopathy of right eye due to diabetes mellitus type 2 (disorder)', 'due to', 'Diabetes mellitus type 2 (disorder)')\n",
      "('Panic disorder with agoraphobia, agoraphobic avoidance in full remission AND panic attacks in full remission (disorder)', 'type', 'Disorder')\n",
      "('Hypertension in chronic kidney disease stage 4 due to type 2 diabetes mellitus (disorder)', 'due to', 'Diabetes mellitus type 2 (disorder)')\n",
      "('Mild nonproliferative retinopathy of right eye due to diabetes mellitus type 2 (disorder)', 'due to', 'Diabetes mellitus type 2 (disorder)')\n",
      "('Nonproliferative retinopathy of right eye due to diabetes mellitus type 1 (disorder)', 'due to', 'Diabetes mellitus type 1 (disorder)')\n",
      "('Panic disorder with agoraphobia, moderate agoraphobic avoidance AND panic attacks in partial remission (disorder)', 'type', 'Disorder')\n",
      "('Panic disorder with agoraphobia, agoraphobic avoidance in partial remission AND severe panic attacks (disorder)', 'type', 'Disorder')\n",
      "('Panic disorder with agoraphobia, mild agoraphobic avoidance AND panic attacks in full remission (disorder)', 'type', 'Disorder')\n",
      "('Arteriosclerotic dementia with depression (disorder)', 'associated morphology', 'Multiple infarcts (morphologic abnormality)')\n",
      "('High risk proliferative retinopathy not amenable to photocoagulation due to diabetes mellitus (disorder)', 'type', 'Disorder')\n",
      "('Panic disorder with agoraphobia, moderate agoraphobic avoidance AND severe panic attacks (disorder)', 'type', 'Disorder')\n",
      "('Left ventricular failure with normal ejection fraction due to coronary arteriosclerosis (disorder)', 'type', 'Disorder')\n",
      "('Panic disorder with agoraphobia, mild agoraphobic avoidance AND severe panic attacks (disorder)', 'type', 'Disorder')\n",
      "('Mood disorder with mixed depressive and manic symptoms caused by synthetic cathinone (disorder)', 'type', 'Disorder')\n",
      "('Primary degenerative dementia of the Alzheimer type, senile onset, with depression (disorder)', 'type', 'Disorder')\n",
      "('Hypertension in chronic kidney disease stage 4 due to type 2 diabetes mellitus (disorder)', 'type', 'Disorder')\n",
      "('Mood disorder with mixed depressive and manic symptoms caused by stimulant (disorder)', 'type', 'Disorder')\n",
      "('Panic disorder with agoraphobia AND moderate panic attacks (disorder)', 'type', 'Disorder')\n",
      "('Malignant hypertensive chronic kidney disease stage 4 (disorder)', 'type', 'Disorder')\n",
      "('Acute myeloid leukemia in complete remission (disorder)', 'type', 'Disorder')\n",
      "('Myocardial infarction due to demand ischemia (disorder)', 'type', 'Disorder')\n",
      "('Arteriosclerotic dementia with depression (disorder)', 'type', 'Disorder')\n",
      "(\"Graves' disease in remission (disorder)\", 'type', 'Disorder')\n",
      "\u001b[0m"
     ]
    },
    {
     "data": {
      "text/markdown": [
       "<b> Pairs: (Hypertensive patients with psychiatric histories; Disorder), (Depression; Disorder), (Methyl dopa; Substance)</b>"
      ],
      "text/plain": [
       "<IPython.core.display.Markdown object>"
      ]
     },
     "metadata": {},
     "output_type": "display_data"
    }
   ],
   "source": [
    "text = \"Antihypertensive drugs and depression: a reappraisal. Eighty-nine new referral hypertensive out-patients and 46 new referral non-hypertensive chronically physically ill out-patients completed a mood rating scale at regular intervals for one year. The results showed a high prevalence of depression in both groups of patients, with no preponderance in the hypertensive group. Hypertensive patients with psychiatric histories had a higher prevalence of depression than the comparison patients. This was accounted for by a significant number of depressions occurring in methyl dopa treated patients with psychiatric histories.\"\n",
    "\n",
    "pair_extraction_prompt = \"\"\"\\\n",
    "Here is the context: {text}.\\\n",
    "\n",
    "Task: Extract the entity-type pairs from the given context with the format of (entity ; type).\\\n",
    "\n",
    "Here is the type list: [Disorder, Substance].\\\n",
    "\n",
    "The steps are as follows:\\\n",
    "1. extract the entity from the given context abstract, using the retrieved sub-graph.\n",
    "2. select ONE most likely type from the list for the extracted entity.\n",
    "3. output the pairs in the format of (entity ; type) strictly.\n",
    "4. repeat the step 1 to step 3.\\\n",
    "\\\n",
    "\n",
    "Provide your answer as follows:\n",
    "\n",
    "Answer:::\n",
    "Pairs: (All extracted pairs)\\\n",
    "Answer End:::\\\n",
    "\n",
    "Requirements:\\\n",
    "You MUST provide values for 'Pairs:' in your answer. \\\n",
    "ONLY use the type in the type list: [Disorder, Substance].\\\n",
    "ONLY output valid entity-type pairs without any reasoning.\n",
    "\n",
    "\"\"\"\n",
    "\n",
    "response = query_engine.query(pair_extraction_prompt.format(text=text))\n",
    "display(Markdown(f\"<b>{response}</b>\"))"
   ]
  },
  {
   "cell_type": "markdown",
   "metadata": {},
   "source": [
    "Triple Extraction example\n",
    "------"
   ]
  },
  {
   "cell_type": "code",
   "execution_count": 9,
   "metadata": {},
   "outputs": [
    {
     "name": "stderr",
     "output_type": "stream",
     "text": [
      "Setting `pad_token_id` to `eos_token_id`:2 for open-end generation.\n"
     ]
    },
    {
     "name": "stdout",
     "output_type": "stream",
     "text": [
      "\u001b[1;3;32mExtracted keywords: ['alternative approach', 'neck', 'scar', 'patient preference', 'alternative', 'quality', 'satisfaction', 'TOTS', 'surgery', 'utility', 'patient', 'transoral thyroid surgery', 'preference', 'approach', 'life', 'state', 'thyroid', 'quality of life', 'neck scar', 'cervical', 'trans-cervical thyroidectomy', 'health-state utility scores', 'patient satisfaction', 'transoral', 'health', 'trans', 'scores', 'thyroidectomy']\n",
      "\u001b[0m"
     ]
    },
    {
     "name": "stderr",
     "output_type": "stream",
     "text": [
      "Setting `pad_token_id` to `eos_token_id`:2 for open-end generation.\n"
     ]
    },
    {
     "name": "stdout",
     "output_type": "stream",
     "text": [
      "\u001b[1;3;34mKG context:\n",
      "The following are knowledge sequence in max depth 5 in the form of directed graph like:\n",
      "`subject -[predicate]->, object, <-[predicate_next_hop]-, object_next_hop ...`\n",
      "('International neuroblastoma pathology classification: Favorable histology group, patient of any age with ganglioneuroma (Schwannian stroma-dominant) maturing, or mature (finding)', 'type', 'Clinical Finding')\n",
      "('B-cell lymphoma unclassifiable with features intermediate between classical Hodgkin lymphoma and diffuse large B-cell lymphoma (disorder)', 'type', 'Disorder')\n",
      "('Iodine (124-I) labeled monoclonal antibody (substance)', 'is modification of', 'Monoclonal antibody (substance)')\n",
      "('Iodine (131-I) labeled monoclonal antibody (substance)', 'is modification of', 'Monoclonal antibody (substance)')\n",
      "('Neoplasm of uncertain behavior of hypopharyngeal aspect of interarytenoid fold (disorder)', 'type', 'Disorder')\n",
      "('Metastatic malignant neoplasm to hypopharyngeal aspect of interarytenoid fold (disorder)', 'type', 'Disorder')\n",
      "('Stage III: Macroscopic invasion of neighboring organs (thymus gland) (finding)', 'type', 'Clinical Finding')\n",
      "('G1: Well differentiated (greater than 95 percent gland forming) (finding)', 'type', 'Clinical Finding')\n",
      "('Epididymis involved by direct extension of malignant neoplasm (finding)', 'type', 'Clinical Finding')\n",
      "('Allergy to goserelin (finding)', 'has definitional manifestation', 'Immune system finding (finding)')\n",
      "('Closed fracture of T1-T6 level with incomplete spinal cord lesion (disorder)', 'type', 'Disorder')\n",
      "('Tetracycline phosphate complex (substance)', 'is modification of', 'Tetracycline (substance)')\n",
      "('Technetium (99-Tc) lidofenin (substance)', 'is modification of', 'Technetium-99 (substance)')\n",
      "('Local recurrence of malignant tumor of thyroid gland (disorder)', 'type', 'Disorder')\n",
      "('Eosinophil count above reference range (finding)', 'type', 'Clinical Finding')\n",
      "('Thymidine (18-F) (substance)', 'is modification of', 'Thymidine (substance)')\n",
      "('No tumor invasion of adjacent tissue (finding)', 'type', 'Clinical Finding')\n",
      "('Allergy to thymol (finding)', 'causative agent', 'Thymol (substance)')\n",
      "('Secondary syphilis, relapse (treated) (disorder)', 'type', 'Disorder')\n",
      "('Degenerative sequelae of disorders (disorder)', 'type', 'Disorder')\n",
      "('Allergy to chlortalidone (finding)', 'type', 'Clinical Finding')\n",
      "('Intentional dothiepin overdose (disorder)', 'type', 'Disorder')\n",
      "('Intact parathyroid hormone (substance)', 'type', 'Substance')\n",
      "(\"Graves' disease in remission (disorder)\", 'type', 'Disorder')\n",
      "('Trachea displaced to right (disorder)', 'type', 'Disorder')\n",
      "('Closed subluxation C7/T1 (disorder)', 'type', 'Disorder')\n",
      "('Allergy to thymol (finding)', 'type', 'Clinical Finding')\n",
      "('Trachoma, active stage (disorder)', 'type', 'Disorder')\n",
      "('Thymidine (18-F) (substance)', 'type', 'Substance')\n",
      "('Thymol (substance)', 'type', 'Substance')\n",
      "\u001b[0m"
     ]
    },
    {
     "data": {
      "text/markdown": [
       "<b>\n",
       "The SNOMED CT triples extracted from the given context are:\n",
       "\n",
       "1. ('Traditional, trans-cervical thyroidectomy (procedure)', 'has realization', 'Neck scar (finding)')\n",
       "2. ('Neck scar (finding)', 'associated with', 'Lower quality of life (finding)')\n",
       "3. ('Neck scar (finding)', 'associated with', 'Lower patient satisfaction (finding)')\n",
       "4. ('Transoral thyroid surgery (TOTS) (procedure)', 'has realization', 'Access to neck and thyroid through oral cavity (finding)')\n",
       "5. ('Access to neck and thyroid through oral cavity (finding)', 'has realization', 'Avoidance of cutaneous incision and scar (finding)')\n",
       "6. ('Health-state utility scores (finding)', 'used for', 'Evaluation of patient preference (procedure)')\n",
       "7. ('Health-state utility scores (finding)', 'used for', 'Comparison of TOTS and conventional trans-cervical thyroidectomy (procedure)')</b>"
      ],
      "text/plain": [
       "<IPython.core.display.Markdown object>"
      ]
     },
     "metadata": {},
     "output_type": "display_data"
    }
   ],
   "source": [
    "text = \"Evaluation of Preference and Utility Measures for Transoral Thyroidectomy. Traditional, trans-cervical thyroidectomy results in the presence of a neck scar, which has been shown to correlate with lower quality of life and lower patient satisfaction. Transoral thyroid surgery (TOTS) has been utilized as an alternative approach to avoid a cutaneous incision and scar by accessing the neck and thyroid through the oral cavity. This study was designed to evaluate patient preference through health-state utility scores for TOTS as compared to conventional trans-cervical thyroidectomy.\"\n",
    "\n",
    "triple_extraction_prompt = f\"\"\"\n",
    "Extract the SNOMED CT triples from the given context.\n",
    "\n",
    "Here is the optional relation list: [temporally follows, after, due to, has realization, associated with, has definitional manifestation, associated finding, associated aetiologic finding, associated etiologic finding, interprets, associated morphology, causative agent, course, finding site, temporally related to, pathological process, direct morphology, is modification of, measures, direct substance, has active ingredient, using, part of].\n",
    "\n",
    "Here is the context: {text}.\n",
    "\n",
    "\"\"\"\n",
    "response = query_engine.query(triple_extraction_prompt)\n",
    "display(Markdown(f\"<b>{response}</b>\"))"
   ]
  },
  {
   "cell_type": "markdown",
   "metadata": {},
   "source": [
    "Medical Diagnostics example\n",
    "------"
   ]
  },
  {
   "cell_type": "code",
   "execution_count": 10,
   "metadata": {},
   "outputs": [
    {
     "name": "stderr",
     "output_type": "stream",
     "text": [
      "Setting `pad_token_id` to `eos_token_id`:2 for open-end generation.\n"
     ]
    },
    {
     "name": "stdout",
     "output_type": "stream",
     "text": [
      "\u001b[1;3;32mExtracted keywords: ['normal x-ray', 'fever', 'KEYWORDS', 'chest', 'normal', 'ray', '---------------------\\n\\nKEYWORDS: chest pain', 'dyspnea', 'fatigue', 'pain', 'cough', 'wheezing', 'x']\n",
      "\u001b[0m"
     ]
    },
    {
     "name": "stderr",
     "output_type": "stream",
     "text": [
      "Setting `pad_token_id` to `eos_token_id`:2 for open-end generation.\n"
     ]
    },
    {
     "name": "stdout",
     "output_type": "stream",
     "text": [
      "\u001b[1;3;34mKG context:\n",
      "The following are knowledge sequence in max depth 5 in the form of directed graph like:\n",
      "`subject -[predicate]->, object, <-[predicate_next_hop]-, object_next_hop ...`\n",
      "('Mendelian susceptibility to mycobacterial disease due to partial signal transducer and activator of transcription 1 deficiency (disorder)', 'has definitional manifestation', 'Immune system finding (finding)')\n",
      "('Panic disorder with agoraphobia, agoraphobic avoidance in full remission AND panic attacks in full remission (disorder)', 'has definitional manifestation', 'Phobia (finding)')\n",
      "('Panic disorder with agoraphobia, moderate agoraphobic avoidance AND panic attacks in partial remission (disorder)', 'has definitional manifestation', 'Panic (finding)')\n",
      "('Panic disorder with agoraphobia, agoraphobic avoidance in partial remission AND severe panic attacks (disorder)', 'has definitional manifestation', 'Panic (finding)')\n",
      "('Panic disorder with agoraphobia, mild agoraphobic avoidance AND panic attacks in full remission (disorder)', 'has definitional manifestation', 'Phobia (finding)')\n",
      "('Aberrant course of left anterior descending coronary artery from right coronary artery crossing right ventricular outflow tract (disorder)', 'type', 'Disorder')\n",
      "('B-cell lymphoma unclassifiable with features intermediate between classical Hodgkin lymphoma and diffuse large B-cell lymphoma (disorder)', 'type', 'Disorder')\n",
      "('Mendelian susceptibility to mycobacterial disease due to partial signal transducer and activator of transcription 1 deficiency (disorder)', 'type', 'Disorder')\n",
      "('Panic disorder with agoraphobia, moderate agoraphobic avoidance AND severe panic attacks (disorder)', 'has definitional manifestation', 'Phobia (finding)')\n",
      "('Left ventricular failure with normal ejection fraction due to coronary arteriosclerosis (disorder)', 'due to', 'Coronary arteriosclerosis (disorder)')\n",
      "('Acute on chronic combined systolic and diastolic heart failure (disorder)', 'has definitional manifestation', 'Diastolic dysfunction (finding)')\n",
      "('Ventricular septal defect with absent outlet septum and overriding truncal valve with inferior muscular rim (disorder)', 'type', 'Disorder')\n",
      "('Major systemic to pulmonary collateral artery with absent pulmonary arteries proximal to hilar bifurcation (disorder)', 'type', 'Disorder')\n",
      "('Panic disorder with agoraphobia, moderate agoraphobic avoidance AND panic attacks in partial remission (disorder)', 'type', 'Disorder')\n",
      "('Panic disorder with agoraphobia, mild agoraphobic avoidance AND panic attacks in full remission (disorder)', 'type', 'Disorder')\n",
      "('Acute ST segment elevation myocardial infarction of anterior wall involving right ventricle (disorder)', 'type', 'Disorder')\n",
      "('Panic disorder with agoraphobia, moderate agoraphobic avoidance AND severe panic attacks (disorder)', 'type', 'Disorder')\n",
      "('Left ventricular failure with normal ejection fraction due to coronary arteriosclerosis (disorder)', 'type', 'Disorder')\n",
      "('Rupture of pulmonary artery co-occurrent and due to aneurysm of pulmonary artery (disorder)', 'type', 'Disorder')\n",
      "('Mild persistent asthma uncontrolled co-occurrent with allergic rhinitis (disorder)', 'type', 'Disorder')\n",
      "('Mural thrombus of right ventricle following acute myocardial infarction (disorder)', 'type', 'Disorder')\n",
      "('Ventricular aneurysm due to and following acute myocardial infarction (disorder)', 'type', 'Disorder')\n",
      "('Mild persistent asthma controlled co-occurrent with allergic rhinitis (disorder)', 'type', 'Disorder')\n",
      "('Aortic orifice posterior left with respect to pulmonary orifice (disorder)', 'type', 'Disorder')\n",
      "('Acute on chronic combined systolic and diastolic heart failure (disorder)', 'type', 'Disorder')\n",
      "('Acute nonparalytic poliomyelitis caused by human poliovirus 1 (disorder)', 'type', 'Disorder')\n",
      "('Atresia of pulmonary trunk with absent left pulmonary artery (disorder)', 'type', 'Disorder')\n",
      "('Tuberculosis of lung, confirmed by culture only (disorder)', 'type', 'Disorder')\n",
      "('Circumflex runs posterior to pulmonary trunk (disorder)', 'type', 'Disorder')\n",
      "('Myocarditis due to scarlet fever (disorder)', 'type', 'Disorder')\n",
      "\u001b[0mResults:\n",
      "1. Myocarditis due to scarlet fever2. Tuberculosis of lung, confirmed by culture only3. Acute on chronic combined systolic and diastolic heart failure4. Acute ST segment elevation myocardial infarction of anterior wall involving right ventricle5. Atresia of pulmonary trunk with absent left pulmonary artery\n"
     ]
    }
   ],
   "source": [
    "case_vignette = \"\"\"\n",
    "40 year old female presenting with chest pain\n",
    " Symptom: Worsening chest pain\n",
    " • Onset: 2 weeks ago\n",
    " • Associated with: Cough, dyspnea, fever\n",
    " • Complicated by: Fatigue\n",
    " Social history\n",
    " • Recent construction in Ohio\n",
    " Physical exam\n",
    " • Lungs: Wheezing\n",
    " Diagnostic: X-ray\n",
    " • Interpretation: Normal\n",
    "\"\"\"\n",
    "\n",
    "medical_diagnosis_prompt = \"\"\"\n",
    "Case vignette: {case_vignette}\n",
    "\n",
    "According the given case vignette, provide only the most probable differential diagnosis, no explanation, no recapitulation of the case information or task. \n",
    "Give a maximum of 5 answers, sorted by probability of being the correct diagnosis, most probable first, remove list numbering, \n",
    "and respond with each answer on a new line. Be as concise as possible, no need to be polite.\n",
    "\n",
    "Provide your answer as follows:\n",
    "\n",
    "Answer:::\n",
    "Diagnosis: (the 5 most probable diagnoses, most probable first)\n",
    "1. \n",
    "2. \n",
    "...\n",
    "Answer End:::\\\n",
    "\n",
    "You MUST provide values for 'Diagnosis' in your answer.\\\n",
    "Do not provide any other information in your response.\\\n",
    "\n",
    "\"\"\"\n",
    "\n",
    "response = query_engine.query(medical_diagnosis_prompt.format(case_vignette=case_vignette))\n",
    "print(f\"Results:\\n{extract_triple(str(response), notebook=True, split_str1='Diagnosis:')}\")"
   ]
  },
  {
   "cell_type": "code",
   "execution_count": null,
   "metadata": {},
   "outputs": [
    {
     "name": "stderr",
     "output_type": "stream",
     "text": [
      "50it [28:31, 34.22s/it]\n"
     ]
    }
   ],
   "source": [
    "# snomed concepts extraction\n",
    "snomed_extraction_prompt = \"\"\"\\\n",
    "Here is the context: {text}.\\\n",
    "\n",
    "Task: Extract the SNOMED CT triples from the given context with the format of (concept 1 ; relation ; concept 2).\\\n",
    "\n",
    "Here is the optional relation list: [temporally follows, after, due to, has realization, associated with, has definitional manifestation, \n",
    "associated finding, associated aetiologic finding, associated etiologic finding, interprets, associated morphology, causative agent, course, \n",
    "finding site, temporally related to, pathological process, direct morphology, is modification of, measures, direct substance, has active ingredient, using, part of].\\\n",
    "\n",
    "The steps are as follows:\\\n",
    "1. extract the concept 1 and concept 2 from the given context sentence, using the retrieved sub-graph.\n",
    "2. select ONE most likely relation from the list for the extracted concepts.\n",
    "3. output the triplets in the format of (concept 1 ; relation ; concept 2) strictly.\\\n",
    "\\\n",
    "\n",
    "Provide your answer as follows:\n",
    "\n",
    "Answer:::\n",
    "Triples: (The extracted triples)\\\n",
    "Answer End:::\\\n",
    "\n",
    "You MUST provide values for 'Triples:' in your answer.\\\n",
    "\n",
    "\"\"\"\n",
    "\n",
    "snomed_description_generation_prompt = \"\"\"\\\n",
    "Here is the context: {text}.\\\n",
    "\n",
    "Here is the optional relation list: [temporally follows, after, due to, has realization, associated with, has definitional manifestation, \n",
    "associated finding, associated aetiologic finding, associated etiologic finding, interprets, associated morphology, causative agent, course, \n",
    "finding site, temporally related to, pathological process, direct morphology, is modification of, measures, direct substance, has active ingredient, using, part of].\\\n",
    "\n",
    "Task: Generate the SNOMED CT descriptions for the given concept.\n",
    "\n",
    "The steps are as follows:\n",
    "1. extract a CONCEPT from the given context sentence, using the retrieved sub-graph.\n",
    "2. generate an EXPRESSION in human-readable phrase that can describe the CONCEPT.\n",
    "3. select one most likely relation from the list between the CONCEPT and the EXPRESSION.\n",
    "4. generate descriptions in the format of (CONCEPT ; relation ; EXPRESSION). Each CONCEPT may have multiple descriptions.\n",
    "5. repeat the step 1 to step 4.\n",
    "\n",
    "Provide your answer as follows:\n",
    "\n",
    "Answer:::\n",
    "Concept: \n",
    "Descriptions: (The generated descriptions)\n",
    "Answer End:::\\\n",
    "\n",
    "You MUST provide values for 'Concept' and 'Description' in your answer.\\\n",
    "\n",
    "Few-shot examples:\n",
    "Answer:::\n",
    "Concept: apnea\n",
    "Descriptions: (apnea ; interprets ; respiration observable) (apnea ; has interpretation ; absent) (apnea ; finding site ; structure of respiratory system)\n",
    "Answer End:::\n",
    "\n",
    "\"\"\"\n",
    "\n",
    "snomed_extraction_prompt_var_mappings = {\"text\": \"text\"}\n",
    "\n",
    "prompt_tmpl = PromptTemplate(\n",
    "    snomed_description_generation_prompt, template_var_mappings=snomed_extraction_prompt_var_mappings\n",
    ")\n",
    "\n",
    "def query_and_generate_rel(test_id, query_engine, cases=427):\n",
    "    logging.info(f\"Query Engine: {query_engine}\")\n",
    "    with open(\"\") as f:\n",
    "        results = []\n",
    "        sentences = f.readlines()[:cases]\n",
    "        logging.info(f\"Experiment ID: {test_id}\")\n",
    "        print(f\"Number of sentences: {len(sentences)}; Number of cases for test: {cases}\")\n",
    "        for sentence_id, text in tqdm(enumerate(sentences)):\n",
    "            print(f\"Processing sentence {sentence_id} / {len(sentences)}\")\n",
    "            print(f\"Text: {text}\")\n",
    "            retry_count = 0\n",
    "\n",
    "            fmt_prompt = prompt_tmpl.format(\n",
    "                text=text,\n",
    "            )\n",
    "            # print(fmt_prompt)\n",
    "            response = query_engine.query(fmt_prompt)\n",
    "            # display(Markdown(f\"<b>{response}</b>\"))\n",
    "            # results.append(clean_response(str(response)) + \"\\n\")\n",
    "            results.append(extract_triple(str(response), notebook=True) + \"\\n\")\n",
    "            print(f\"Results: {extract_triple(str(response), notebook=True)}\")\n",
    "\n",
    "    with open(f\"results/rel.hyps_{test_id}\", 'w') as f:\n",
    "        f.writelines(results)\n",
    "    \n",
    "    logging.info(f\"Results saved to results/rel.hyps_{test_id}\")\n",
    "    return response\n",
    "\n",
    "logging_setup(log_file=f\"logs/{PARAMETERS['test_id']}.log\", log_level=logging.INFO)\n",
    "\n",
    "response = query_and_generate_rel(test_id = PARAMETERS[\"test_id\"], query_engine = query_engine, cases=50)"
   ]
  }
 ],
 "metadata": {
  "kernelspec": {
   "display_name": "hacid-pub",
   "language": "python",
   "name": "python3"
  },
  "language_info": {
   "codemirror_mode": {
    "name": "ipython",
    "version": 3
   },
   "file_extension": ".py",
   "mimetype": "text/x-python",
   "name": "python",
   "nbconvert_exporter": "python",
   "pygments_lexer": "ipython3",
   "version": "3.8.20"
  }
 },
 "nbformat": 4,
 "nbformat_minor": 2
}
