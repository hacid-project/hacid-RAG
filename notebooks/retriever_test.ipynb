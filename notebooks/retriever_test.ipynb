{
 "cells": [
  {
   "cell_type": "code",
   "execution_count": 1,
   "id": "0b6e9424",
   "metadata": {},
   "outputs": [
    {
     "name": "stderr",
     "output_type": "stream",
     "text": [
      "/opt/conda/envs/hacidpy310-pub/lib/python3.10/site-packages/tqdm/auto.py:21: TqdmWarning: IProgress not found. Please update jupyter and ipywidgets. See https://ipywidgets.readthedocs.io/en/stable/user_install.html\n",
      "  from .autonotebook import tqdm as notebook_tqdm\n",
      "/opt/conda/envs/hacidpy310-pub/lib/python3.10/site-packages/pydantic/_internal/_generate_schema.py:2249: UnsupportedFieldAttributeWarning: The 'validate_default' attribute with value True was provided to the `Field()` function, which has no effect in the context it was used. 'validate_default' is field-specific metadata, and can only be attached to a model field using `Annotated` metadata or by assignment. This may have happened because an `Annotated` type alias using the `type` statement was used, or if the `Field()` function was attached to a single member of a union type.\n",
      "  warnings.warn(\n"
     ]
    }
   ],
   "source": [
    "import os, sys\n",
    "# os.environ[\"CUDA_VISIBLE_DEVICES\"] = \"0\"\n",
    "sys.path.append(os.path.abspath(os.path.join(os.getcwd(), \"../src\")))\n",
    "\n",
    "from tqdm import tqdm\n",
    "from rag_prompt_template import *\n",
    "from rag_util import *\n",
    "from rag_moduler import *\n",
    "from llm_factory import *\n",
    "from rag_extraction import *\n",
    "from grammar_llm_utils import *\n",
    "import json"
   ]
  },
  {
   "cell_type": "code",
   "execution_count": 2,
   "id": "269d171c",
   "metadata": {},
   "outputs": [],
   "source": [
    "using_llm = \"mistralsmall\"\n",
    "using_embed = \"hitsnomed\"\n",
    "\n",
    "PARAMETERS = {\n",
    "    \"llm_model_name\": LLM[using_llm],\n",
    "    \"tokenizer_name\": LLM[using_llm],\n",
    "    \"embed_model_name\": EMBED_MODEL[using_embed],\n",
    "    \"storage_dir\": f\"../index/snomed_dataset_nodoc_commandr_hitsnomed\", # this is a partial KG indices for testing\n",
    "    # \"storage_dir\": f\"index/snomed_all_dataset_nodoc_hitsnomed\",  # this is a full KG indices for testing\n",
    "    \"context_window\": 32768,\n",
    "    \"max_new_tokens\": 1024,\n",
    "    \"case_num\":50,\n",
    "    \"verbose\": True,\n",
    "    \"similarity_top_k\": 30,\n",
    "    \"graph_store_query_depth\": 5,\n",
    "    \"retriever_mode\": \"hybrid\",\n",
    "}"
   ]
  },
  {
   "cell_type": "code",
   "execution_count": 3,
   "id": "a5ccd73e",
   "metadata": {},
   "outputs": [
    {
     "name": "stderr",
     "output_type": "stream",
     "text": [
      "/opt/conda/envs/hacidpy310-pub/lib/python3.10/site-packages/torch/cuda/__init__.py:654: UserWarning: Can't initialize NVML\n",
      "  warnings.warn(\"Can't initialize NVML\")\n",
      "Loading checkpoint shards: 100%|██████████| 9/9 [00:28<00:00,  3.19s/it]\n"
     ]
    },
    {
     "name": "stdout",
     "output_type": "stream",
     "text": [
      "LLM loaded: ../llm/Mistral-Small-Instruct-2409\n",
      "embed_model loaded: ../llm/embedder/HiT-MiniLM-L12-SnomedCT\n",
      "Settings loaded.\n"
     ]
    }
   ],
   "source": [
    "# initialise llm service context\n",
    "hf_llm = init_llm_service_context(llm_model_name=PARAMETERS[\"llm_model_name\"], \n",
    "                                    tokenizer_name=PARAMETERS[\"tokenizer_name\"], \n",
    "                                    embed_model_name=PARAMETERS[\"embed_model_name\"],\n",
    "                                    context_window=PARAMETERS[\"context_window\"],\n",
    "                                    max_new_tokens=PARAMETERS[\"max_new_tokens\"],\n",
    "                                    # quantization_config=None,\n",
    "                                )"
   ]
  },
  {
   "cell_type": "code",
   "execution_count": 4,
   "id": "792fb8be",
   "metadata": {},
   "outputs": [
    {
     "name": "stdout",
     "output_type": "stream",
     "text": [
      "Global embed_model set to: ../llm/embedder/HiT-MiniLM-L12-SnomedCT\n"
     ]
    }
   ],
   "source": [
    "# Initialize and load knowledge graph index\n",
    "kg_index = init_kg_storage_context(storage_dir=PARAMETERS[\"storage_dir\"], llm=hf_llm, embed_model_name=PARAMETERS[\"embed_model_name\"])"
   ]
  },
  {
   "cell_type": "markdown",
   "id": "e7587560",
   "metadata": {},
   "source": [
    "Default retriever\n",
    "------"
   ]
  },
  {
   "cell_type": "code",
   "execution_count": 5,
   "id": "f5b6a335",
   "metadata": {},
   "outputs": [
    {
     "name": "stdout",
     "output_type": "stream",
     "text": [
      "Retriever created, retriever: <class 'llama_index.core.indices.knowledge_graph.retrievers.KGTableRetriever'>, retriever_mode: hybrid\n"
     ]
    }
   ],
   "source": [
    "retriever = init_retriever(kg_index=kg_index,\n",
    "                            similarity_top_k=30,\n",
    "                            graph_store_query_depth=2,\n",
    "                            verbose=False,\n",
    "                            )"
   ]
  },
  {
   "cell_type": "code",
   "execution_count": 6,
   "id": "0a5c4f0c",
   "metadata": {},
   "outputs": [
    {
     "name": "stderr",
     "output_type": "stream",
     "text": [
      "Setting `pad_token_id` to `eos_token_id`:2 for open-end generation.\n"
     ]
    },
    {
     "name": "stdout",
     "output_type": "stream",
     "text": [
      "('International neuroblastoma pathology classification: Favorable histology group, patient of any age with ganglioneuroma (Schwannian stroma-dominant) maturing, or mature (finding)', 'associated morphology', 'Lesion (morphologic abnormality)')\n",
      "('Intracranial hemorrhage following injury with prolonged loss of consciousness AND return to pre-existing conscious level (disorder)', 'type', 'Disorder')\n",
      "('Compression of brain co-occurrent and due to spontaneous cerebral hemorrhage (disorder)', 'associated morphology', 'Damage (morphologic abnormality)')\n",
      "('Cerebrovascular accident due to thrombus of left middle cerebral artery (disorder)', 'due to', 'Thrombosis of left middle cerebral artery (disorder)')\n",
      "('International neuroblastoma pathology classification cannot be determined (finding)', 'associated morphology', 'Lesion (morphologic abnormality)')\n",
      "('Intracranial hemorrhage co-occurrent and due to closed skull fracture (disorder)', 'associated morphology', 'Fracture (morphologic abnormality)')\n",
      "('Cerebrovascular accident due to thrombus of left middle cerebral artery (disorder)', 'associated morphology', 'Damage (morphologic abnormality)')\n",
      "('Cerebral infarction due to cerebral venous thrombosis, non-pyogenic (disorder)', 'associated morphology', 'Infarct (morphologic abnormality)')\n",
      "('Cerebral degeneration due to neoplastic disease (disorder)', 'associated morphology', 'Degenerative abnormality (morphologic abnormality)')\n",
      "('Intracranial injury with prolonged coma with open wound (disorder)', 'associated morphology', 'Open wound (morphologic abnormality)')\n",
      "('Leak of cranial cerebrospinal fluid due to invasion by neoplasm of skull (disorder)', 'due to', 'Tumor invades bone (finding)')\n",
      "('Multi-infarct dementia, uncomplicated (disorder)', 'associated morphology', 'Complete obstruction (morphologic abnormality)')\n",
      "('International neuroblastoma staging system stage 4 (finding)', 'associated morphology', 'Lesion (morphologic abnormality)')\n",
      "('Non-communicating cerebrospinal fluid retention (morphologic abnormality)', 'type', 'Morphologically Abnormal Structure')\n",
      "('Cerebrovascular accident due to occlusion of left posterior cerebral artery by embolus (disorder)', 'type', 'Disorder')\n",
      "('Leak of cranial cerebrospinal fluid due to osteomyelitis (disorder)', 'due to', 'Osteomyelitis of cranium (disorder)')\n",
      "('International neuroblastoma pathology classification cannot be determined (finding)', 'type', 'Clinical Finding')\n",
      "('Cerebellar laceration with open intracranial wound AND no loss of consciousness (disorder)', 'type', 'Disorder')\n",
      "('Compression of brain co-occurrent and due to spontaneous cerebral hemorrhage (disorder)', 'type', 'Disorder')\n",
      "('Brain stem contusion without open intracranial wound AND with concussion (disorder)', 'type', 'Disorder')\n",
      "('Leak of cranial cerebrospinal fluid due to invasion by neoplasm of skull (disorder)', 'type', 'Disorder')\n",
      "('Cerebrovascular accident due to thrombus of left middle cerebral artery (disorder)', 'type', 'Disorder')\n",
      "('Intracranial hemorrhage co-occurrent and due to closed skull fracture (disorder)', 'type', 'Disorder')\n",
      "('Cerebrospinal fluid leakage (morphologic abnormality)', 'type', 'Morphologically Abnormal Structure')\n",
      "('Cerebral infarction due to cerebral venous thrombosis, non-pyogenic (disorder)', 'type', 'Disorder')\n",
      "('Leak of cranial cerebrospinal fluid due to osteomyelitis (disorder)', 'type', 'Disorder')\n",
      "('Cerebral ischemic stroke due to subarachnoid hemorrhage (disorder)', 'type', 'Disorder')\n",
      "('Intracranial injury with prolonged coma with open wound (disorder)', 'type', 'Disorder')\n",
      "('Posterior cerebral circulation hemorrhagic infarction (disorder)', 'type', 'Disorder')\n",
      "('Cerebral degeneration due to neoplastic disease (disorder)', 'type', 'Disorder')\n"
     ]
    }
   ],
   "source": [
    "input_text = \"\"\"\n",
    "Results: Clinical data from our institution reveals that Leak of cranial cerebrospinal fluid due to and following procedure on central nervous system shows pathological morphology typical of Cerebrospinal fluid leakage, establishing a critical pathophysiological relationship. Moreover, Cerebrospinal fluid leakage belongs to the category of Morphologically Abnormal Structure. Clinical manifestations develop through well-defined pathological processes affecting specific organ systems and cellular functions. Accurate diagnosis depends on recognition of characteristic clinical patterns, appropriate use of diagnostic testing, and careful interpretation of results within the clinical context. Clinical management requires systematic approach including accurate diagnosis, appropriate treatment selection, and ongoing monitoring of therapeutic response. Treatment protocols emphasize patient safety, efficacy optimization, and quality of life considerations. Comprehensive care includes patient education, support services, and coordination with healthcare team members. Long-term prognosis is generally positive with early intervention and appropriate ongoing management. Success depends on multifactorial considerations including patient characteristics, disease severity, treatment response, and adherence to recommended care protocols. Systematic follow-up ensures continued treatment effectiveness.\n",
    "\"\"\"\n",
    "\n",
    "retrieved_results = retriever.retrieve(input_text)\n",
    "for triple in retrieved_results[1].node.metadata['kg_rel_texts']:\n",
    "    print(triple)"
   ]
  },
  {
   "cell_type": "markdown",
   "id": "aeb45cbb",
   "metadata": {},
   "source": [
    "Custom Retriever (features added, e.g. filter. under improvement)\n",
    "------"
   ]
  },
  {
   "cell_type": "code",
   "execution_count": 7,
   "id": "8d49c766",
   "metadata": {},
   "outputs": [
    {
     "name": "stdout",
     "output_type": "stream",
     "text": [
      "Retriever created, retriever: <class 'rag_moduler.CustomKGTableRetriever'>, retriever_mode: hybrid\n"
     ]
    }
   ],
   "source": [
    "retriever = init_retriever(kg_index=kg_index,\n",
    "                            similarity_top_k=30,\n",
    "                            graph_store_query_depth=2,\n",
    "                            verbose=False,\n",
    "                            custom_retriever=True # set to True to use custom retriever with additional features (under improvement)\n",
    "                            )"
   ]
  },
  {
   "cell_type": "code",
   "execution_count": 8,
   "id": "f1b5a4c4",
   "metadata": {},
   "outputs": [
    {
     "name": "stderr",
     "output_type": "stream",
     "text": [
      "Setting `pad_token_id` to `eos_token_id`:2 for open-end generation.\n"
     ]
    },
    {
     "name": "stdout",
     "output_type": "stream",
     "text": [
      "[DEBUG] Starting hybrid scoring retrieval (Ollama version)...\n",
      "[DEBUG] Parent retriever returned 1 NodeWithScore objects\n",
      "[DEBUG] Starting hybrid scoring computation (Ollama)...\n",
      "[DEBUG] Node 0 contains 25 keywords\n",
      "[DEBUG] Query keywords: ['central nervous system', 'clinical management', 'pathological morphology', 'pathological', 'Cerebrospinal', 'system', 'Cerebrospinal fluid leakage', 'treatment', 'diagnosis', 'management']\n",
      "[DEBUG] Node 0 contains 30 triples\n",
      "[DEBUG] Triple 0: associated morphology\n",
      "Semantic score: 0.768, Keyword score: 0.000, Hybrid score: 0.537\n",
      "[DEBUG] Triple 1: type\n",
      "Semantic score: 0.675, Keyword score: 0.000, Hybrid score: 0.472\n",
      "[DEBUG] Triple 2: associated morphology\n",
      "Semantic score: 0.829, Keyword score: 0.000, Hybrid score: 0.580\n",
      "[DEBUG] Triple 3: due to\n",
      "Semantic score: 0.791, Keyword score: 0.000, Hybrid score: 0.553\n",
      "[DEBUG] Triple 4: associated morphology\n",
      "Semantic score: 0.740, Keyword score: 0.000, Hybrid score: 0.518\n",
      "[DEBUG] Ollama embedding computation failed: failed to generate embedding (status code: 500)\n",
      "[DEBUG] Hybrid score range: 0.293 - 0.695\n",
      "[DEBUG] Post-processing started with 30 triples\n",
      "[DEBUG] After similarity filtering: 26 triples\n",
      "[DEBUG] Relation type distribution: {'due to': 2, 'type': 14, 'associated morphology': 10}\n",
      "[DEBUG] Excluded relation types: set()\n",
      "[DEBUG] Final result count: 12\n",
      "[DEBUG] Final relation distribution: {'due to': 2, 'type': 5, 'associated morphology': 5}\n",
      "[DEBUG] Hybrid scoring retrieval done, returning 12 triples\n",
      "('Leak of cranial cerebrospinal fluid due to invasion by neoplasm of skull (disorder)', 'due to', 'Tumor invades bone (finding)')\n",
      "('Cerebrospinal fluid leakage (morphologic abnormality)', 'type', 'Morphologically Abnormal Structure')\n",
      "('Leak of cranial cerebrospinal fluid due to osteomyelitis (disorder)', 'type', 'Disorder')\n",
      "('Leak of cranial cerebrospinal fluid due to invasion by neoplasm of skull (disorder)', 'type', 'Disorder')\n",
      "('Compression of brain co-occurrent and due to spontaneous cerebral hemorrhage (disorder)', 'associated morphology', 'Damage (morphologic abnormality)')\n",
      "('Intracranial injury with prolonged coma with open wound (disorder)', 'associated morphology', 'Open wound (morphologic abnormality)')\n",
      "('Cerebrovascular accident due to thrombus of left middle cerebral artery (disorder)', 'associated morphology', 'Damage (morphologic abnormality)')\n",
      "('Cerebral degeneration due to neoplastic disease (disorder)', 'associated morphology', 'Degenerative abnormality (morphologic abnormality)')\n",
      "('Intracranial hemorrhage co-occurrent and due to closed skull fracture (disorder)', 'associated morphology', 'Fracture (morphologic abnormality)')\n",
      "('Cerebrovascular accident due to thrombus of left middle cerebral artery (disorder)', 'due to', 'Thrombosis of left middle cerebral artery (disorder)')\n",
      "('Non-communicating cerebrospinal fluid retention (morphologic abnormality)', 'type', 'Morphologically Abnormal Structure')\n",
      "('Intracranial hemorrhage following injury with prolonged loss of consciousness AND return to pre-existing conscious level (disorder)', 'type', 'Disorder')\n"
     ]
    }
   ],
   "source": [
    "input_text = \"\"\"\n",
    "Results: Clinical data from our institution reveals that Leak of cranial cerebrospinal fluid due to and following procedure on central nervous system shows pathological morphology typical of Cerebrospinal fluid leakage, establishing a critical pathophysiological relationship. Moreover, Cerebrospinal fluid leakage belongs to the category of Morphologically Abnormal Structure. Clinical manifestations develop through well-defined pathological processes affecting specific organ systems and cellular functions. Accurate diagnosis depends on recognition of characteristic clinical patterns, appropriate use of diagnostic testing, and careful interpretation of results within the clinical context. Clinical management requires systematic approach including accurate diagnosis, appropriate treatment selection, and ongoing monitoring of therapeutic response. Treatment protocols emphasize patient safety, efficacy optimization, and quality of life considerations. Comprehensive care includes patient education, support services, and coordination with healthcare team members. Long-term prognosis is generally positive with early intervention and appropriate ongoing management. Success depends on multifactorial considerations including patient characteristics, disease severity, treatment response, and adherence to recommended care protocols. Systematic follow-up ensures continued treatment effectiveness.\n",
    "\"\"\"\n",
    "\n",
    "retrieved_results = retriever.retrieve(input_text)\n",
    "for triple in retrieved_results:\n",
    "    print(triple)"
   ]
  }
 ],
 "metadata": {
  "kernelspec": {
   "display_name": "hacidpy310-pub",
   "language": "python",
   "name": "python3"
  },
  "language_info": {
   "codemirror_mode": {
    "name": "ipython",
    "version": 3
   },
   "file_extension": ".py",
   "mimetype": "text/x-python",
   "name": "python",
   "nbconvert_exporter": "python",
   "pygments_lexer": "ipython3",
   "version": "3.10.16"
  }
 },
 "nbformat": 4,
 "nbformat_minor": 5
}
