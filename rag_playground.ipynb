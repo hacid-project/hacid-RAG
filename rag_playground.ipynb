{
 "cells": [
  {
   "cell_type": "code",
   "execution_count": null,
   "metadata": {},
   "outputs": [
    {
     "name": "stderr",
     "output_type": "stream",
     "text": [
      "/opt/conda/envs/hacid/lib/python3.8/site-packages/torch/cuda/__init__.py:628: UserWarning: Can't initialize NVML\n",
      "  warnings.warn(\"Can't initialize NVML\")\n",
      "/opt/conda/envs/hacid/lib/python3.8/site-packages/pydantic/_internal/_fields.py:160: UserWarning: Field \"model_id\" has conflict with protected namespace \"model_\".\n",
      "\n",
      "You may be able to resolve this warning by setting `model_config['protected_namespaces'] = ()`.\n",
      "  warnings.warn(\n",
      "/opt/conda/envs/hacid/lib/python3.8/site-packages/pydantic/_internal/_fields.py:160: UserWarning: Field \"model_name\" has conflict with protected namespace \"model_\".\n",
      "\n",
      "You may be able to resolve this warning by setting `model_config['protected_namespaces'] = ()`.\n",
      "  warnings.warn(\n",
      "/opt/conda/envs/hacid/lib/python3.8/site-packages/pydantic/_internal/_fields.py:160: UserWarning: Field \"model_kwargs\" has conflict with protected namespace \"model_\".\n",
      "\n",
      "You may be able to resolve this warning by setting `model_config['protected_namespaces'] = ()`.\n",
      "  warnings.warn(\n"
     ]
    }
   ],
   "source": [
    "from tqdm import tqdm\n",
    "from rag_prompt_template import *\n",
    "from rag_util import *\n",
    "from rag_moduler import *\n",
    "from rag_extraction import *\n",
    "import json\n",
    "os.environ[\"CUDA_VISIBLE_DEVICES\"] = \"0\""
   ]
  },
  {
   "cell_type": "markdown",
   "metadata": {},
   "source": [
    "Initialise RAG pipeline\n",
    "------"
   ]
  },
  {
   "cell_type": "code",
   "execution_count": null,
   "metadata": {},
   "outputs": [
    {
     "data": {
      "application/vnd.jupyter.widget-view+json": {
       "model_id": "3a6f3d62132f4e718f50f0c231a1b191",
       "version_major": 2,
       "version_minor": 0
      },
      "text/plain": [
       "Loading checkpoint shards:   0%|          | 0/9 [00:00<?, ?it/s]"
      ]
     },
     "metadata": {},
     "output_type": "display_data"
    },
    {
     "name": "stdout",
     "output_type": "stream",
     "text": [
      "LLM pipeline built: llm/NuExtract-1.5-tiny\n"
     ]
    }
   ],
   "source": [
    "using_llm = \"mistralsmall\"\n",
    "using_embed = \"hitsnomed\"\n",
    "task = \"entityextraction\"\n",
    "eval_dataset = \"mimicivchunk\"\n",
    "using_extractor = \"None\"\n",
    "using_generator = \"None\"\n",
    "using_parser = \"nuparser\"\n",
    "\n",
    "PARAMETERS = {\n",
    "    \"llm_model_name\": LLM[using_llm],\n",
    "    \"tokenizer_name\": LLM[using_llm],\n",
    "    \"embed_model_name\": EMBED_MODEL[using_embed],\n",
    "    \"storage_dir\": f\"index/snomed_dataset_nodoc_commandr_hitsnomed\", # this is a partial KG indices for testing\n",
    "    \"input_text_dir\": f\"data/humandx_data/humandx_findings.json\",\n",
    "    \"context_window\": 32768,\n",
    "    \"max_new_tokens\": 2048,\n",
    "    \"case_num\":50,\n",
    "    \"verbose\": True,\n",
    "    \"similarity_top_k\": 30,\n",
    "    \"graph_store_query_depth\": 5,\n",
    "    \"retriever_mode\": \"hybrid\",\n",
    "    \"test_id\": f\"_test_{task}_{eval_dataset}_{using_generator}_extractor_{using_extractor}\"\n",
    "}\n",
    "\n",
    "llm = init_llm_service_context(llm_model_name=PARAMETERS[\"llm_model_name\"], \n",
    "                                    tokenizer_name=PARAMETERS[\"tokenizer_name\"], \n",
    "                                    embed_model_name=PARAMETERS[\"embed_model_name\"],\n",
    "                                    context_window=PARAMETERS[\"context_window\"],\n",
    "                                    max_new_tokens=PARAMETERS[\"max_new_tokens\"],\n",
    "                                    quantization_config=quantization_config,\n",
    "                                )\n",
    "\n",
    "if using_parser is not None:\n",
    "    pipe_parser = init_llm_pipeline(LLM[using_parser], quantization_config=None)\n"
   ]
  },
  {
   "cell_type": "code",
   "execution_count": 3,
   "metadata": {},
   "outputs": [],
   "source": [
    "kg_index = init_kg_storage_context(llm, storage_dir=PARAMETERS[\"storage_dir\"])"
   ]
  },
  {
   "cell_type": "code",
   "execution_count": 4,
   "metadata": {},
   "outputs": [],
   "source": [
    "query_engine = init_rag_pipeline(kg_index, \n",
    "                                 similarity_top_k=10, \n",
    "                                 graph_store_query_depth=5, \n",
    "                                 include_text=False, \n",
    "                                 retriever_mode=\"embedding\", \n",
    "                                 verbose=PARAMETERS[\"verbose\"])"
   ]
  },
  {
   "cell_type": "markdown",
   "metadata": {},
   "source": [
    "Simple Question-Ansuwer example\n",
    "------"
   ]
  },
  {
   "cell_type": "code",
   "execution_count": 5,
   "metadata": {},
   "outputs": [
    {
     "name": "stderr",
     "output_type": "stream",
     "text": [
      "Setting `pad_token_id` to `eos_token_id`:2 for open-end generation.\n"
     ]
    },
    {
     "name": "stdout",
     "output_type": "stream",
     "text": [
      "\u001b[1;3;32mExtracted keywords: ['caused', 'Gastroenteritis', 'type', 'influenza']\n",
      "\u001b[0m"
     ]
    },
    {
     "name": "stderr",
     "output_type": "stream",
     "text": [
      "Setting `pad_token_id` to `eos_token_id`:2 for open-end generation.\n"
     ]
    },
    {
     "name": "stdout",
     "output_type": "stream",
     "text": [
      "\u001b[1;3;34mKG context:\n",
      "The following are knowledge sequence in max depth 5 in the form of directed graph like:\n",
      "`subject -[predicate]->, object, <-[predicate_next_hop]-, object_next_hop ...`\n",
      "('Pneumonia caused by Influenza A virus (disorder)', 'causative agent', 'Influenza A virus (organism)')\n",
      "('Influenza with encephalopathy (disorder)', 'associated morphology', 'Inflammatory morphology (morphologic abnormality)')\n",
      "('Influenza with gastrointestinal tract involvement (disorder)', 'pathological process', 'Infectious disease (disorder)')\n",
      "('Influenza caused by pandemic influenza virus (disorder)', 'type', 'Disorder')\n",
      "('Influenza with gastrointestinal tract involvement (disorder)', 'type', 'Disorder')\n",
      "('Pneumonia caused by influenza (disorder)', 'type', 'Disorder')\n",
      "('Haemophilus influenzae pneumonia (disorder)', 'associated morphology', 'Consolidation (morphologic abnormality)')\n",
      "('Influenza caused by Influenza A virus subtype H5 (disorder)', 'type', 'Disorder')\n",
      "('Pneumonia caused by Influenza A virus (disorder)', 'type', 'Disorder')\n",
      "('Influenza caused by pandemic influenza virus (disorder)', 'causative agent', 'Family Orthomyxoviridae (organism)')\n",
      "\u001b[0m"
     ]
    },
    {
     "data": {
      "text/markdown": [
       "<b> Infectious disease</b>"
      ],
      "text/plain": [
       "<IPython.core.display.Markdown object>"
      ]
     },
     "metadata": {},
     "output_type": "display_data"
    },
    {
     "name": "stdout",
     "output_type": "stream",
     "text": [
      " {\n",
      "    \"classifications\": [\n",
      "        \"Infectious disease\"\n",
      "    ]\n",
      "}\n",
      "  \n"
     ]
    }
   ],
   "source": [
    "response = query_engine.query(\"what is the type of Gastroenteritis caused by influenza?\")\n",
    "display(Markdown(f\"<b>{response}</b>\"))\n",
    "\n",
    "print(llm_parser(response, pipe_parser, target_results=\"classifications\"))"
   ]
  },
  {
   "cell_type": "markdown",
   "metadata": {},
   "source": [
    "Concept/Entity Extraction example\n",
    "------"
   ]
  },
  {
   "cell_type": "code",
   "execution_count": 6,
   "metadata": {},
   "outputs": [
    {
     "name": "stderr",
     "output_type": "stream",
     "text": [
      "Setting `pad_token_id` to `eos_token_id`:2 for open-end generation.\n"
     ]
    },
    {
     "name": "stdout",
     "output_type": "stream",
     "text": [
      "\u001b[1;3;32mExtracted keywords: ['---------------------\\n\\nKEYWORDS: transoral thyroid surgery', 'health', 'utility', 'patient', 'preference', 'health-state utility scores', 'cervical', 'transoral', 'state', 'trans-cervical thyroidectomy', 'trans', 'scores', 'thyroid', 'KEYWORDS', 'surgery', 'patient preference', 'thyroidectomy']\n",
      "\u001b[0m"
     ]
    },
    {
     "name": "stderr",
     "output_type": "stream",
     "text": [
      "Setting `pad_token_id` to `eos_token_id`:2 for open-end generation.\n"
     ]
    },
    {
     "name": "stdout",
     "output_type": "stream",
     "text": [
      "\u001b[1;3;34mKG context:\n",
      "The following are knowledge sequence in max depth 5 in the form of directed graph like:\n",
      "`subject -[predicate]->, object, <-[predicate_next_hop]-, object_next_hop ...`\n",
      "('Allergy to chlortalidone (finding)', 'type', 'Clinical Finding')\n",
      "('Allergy to deoxyribonuclease (finding)', 'type', 'Clinical Finding')\n",
      "('Allergy to alpha-tocopherol (finding)', 'type', 'Clinical Finding')\n",
      "('Allergy to goserelin (finding)', 'type', 'Clinical Finding')\n",
      "('Allergy to bendroflumethiazide (finding)', 'type', 'Clinical Finding')\n",
      "('Mass of bilateral parotid glands (finding)', 'type', 'Clinical Finding')\n",
      "('Allergy to fenticonazole (finding)', 'type', 'Clinical Finding')\n",
      "('Allergy to doxepin (finding)', 'type', 'Clinical Finding')\n",
      "('Allergy to cetylpyridinium (finding)', 'type', 'Clinical Finding')\n",
      "(\"Graves' disease with acropachy AND with thyrotoxic crisis (disorder)\", 'type', 'Disorder')\n",
      "\u001b[0m"
     ]
    },
    {
     "data": {
      "text/markdown": [
       "<b> Concepts: [\"thyroidectomy\", \"neck scar\", \"quality of life\", \"patient satisfaction\", \"transoral thyroid surgery\", \"trans-cervical thyroidectomy\", \"transoral thyroidectomy\", \"health-state utility scores\"]</b>"
      ],
      "text/plain": [
       "<IPython.core.display.Markdown object>"
      ]
     },
     "metadata": {},
     "output_type": "display_data"
    },
    {
     "name": "stdout",
     "output_type": "stream",
     "text": [
      "========================================\n",
      " {\n",
      "    \"Concepts\": [\n",
      "        \"thyroidectomy\",\n",
      "        \"neck scar\",\n",
      "        \"quality of life\",\n",
      "        \"patient satisfaction\",\n",
      "        \"transoral thyroid surgery\",\n",
      "        \"trans-cervical thyroidectomy\",\n",
      "        \"transoral thyroidectomy\",\n",
      "        \"health-state utility scores\"\n",
      "    ]\n",
      "}\n",
      "  \n"
     ]
    }
   ],
   "source": [
    "text = \"Evaluation of Preference and Utility Measures for Transoral Thyroidectomy. Traditional, trans-cervical thyroidectomy results in the presence of a neck scar, which has been shown to correlate with lower quality of life and lower patient satisfaction. Transoral thyroid surgery (TOTS) has been utilized as an alternative approach to avoid a cutaneous incision and scar by accessing the neck and thyroid through the oral cavity. This study was designed to evaluate patient preference through health-state utility scores for TOTS as compared to conventional trans-cervical thyroidectomy.\"\n",
    "\n",
    "entity_extraction_prompt = \"\"\"\\\n",
    "Here is the context: {text}.\\\n",
    "\n",
    "Task: Extract the SNOMED CT concepts from the given context.\\\n",
    "\n",
    "The steps are as follows:\\\n",
    "1. extract the concepts from the given context sentence, using the retrieved triplets.\n",
    "2. there may be abbreviations or acronyms in the context, extract them as concepts as well if they are related to the concepts.\n",
    "3. output the concepts in a list [] strictly, each concept is separated by a comma.\\\n",
    "\\\n",
    "\n",
    "Provide your answer as follows:\n",
    "\n",
    "Answer:::\n",
    "Concepts: [] \\\n",
    "Answer End:::\\\n",
    "\n",
    "Requirements:\\\n",
    "You MUST provide values for 'Concepts:' in your answer. \\\n",
    "ONLY extract concepts, DO NOT include the type of the concept, reasoning, or any other information. \\\n",
    "DO NOT include mark numbers or ordinal numbers in your answer. \\\n",
    "Extract as many unique concepts as possible from the given context. \\\n",
    "\n",
    "\"\"\"\n",
    "\n",
    "response = query_engine.query(entity_extraction_prompt.format(text=text))\n",
    "display(Markdown(f\"<b>{response}</b>\"))\n",
    "print(\"========================================\")\n",
    "print(llm_parser(response, pipe_parser))"
   ]
  },
  {
   "cell_type": "markdown",
   "metadata": {},
   "source": [
    "Entity-type Pair Extraction example\n",
    "------"
   ]
  },
  {
   "cell_type": "code",
   "execution_count": 8,
   "metadata": {},
   "outputs": [
    {
     "name": "stderr",
     "output_type": "stream",
     "text": [
      "Setting `pad_token_id` to `eos_token_id`:2 for open-end generation.\n"
     ]
    },
    {
     "name": "stdout",
     "output_type": "stream",
     "text": [
      "\u001b[1;3;32mExtracted keywords: ['dopa', 'methyl dopa', 'psychiatric', 'drugs', 'depression', 'histories', 'psychiatric histories', 'patients', 'ill', 'out-patients', 'methyl', 'antihypertensive', 'physically', 'hypertensive', 'physically ill']\n",
      "\u001b[0m"
     ]
    },
    {
     "name": "stderr",
     "output_type": "stream",
     "text": [
      "Setting `pad_token_id` to `eos_token_id`:2 for open-end generation.\n"
     ]
    },
    {
     "name": "stdout",
     "output_type": "stream",
     "text": [
      "\u001b[1;3;34mKG context:\n",
      "The following are knowledge sequence in max depth 5 in the form of directed graph like:\n",
      "`subject -[predicate]->, object, <-[predicate_next_hop]-, object_next_hop ...`\n",
      "('Primary degenerative dementia of the Alzheimer type, senile onset, with depression (disorder)', 'type', 'Disorder')\n",
      "('Primary degenerative dementia of the Alzheimer type, senile onset, with depression (disorder)', 'has definitional manifestation', 'Dementia (disorder)')\n",
      "('Panic disorder with agoraphobia, moderate agoraphobic avoidance AND panic attacks in partial remission (disorder)', 'type', 'Disorder')\n",
      "('Panic disorder with agoraphobia, moderate agoraphobic avoidance AND panic attacks in partial remission (disorder)', 'has definitional manifestation', 'Panic (finding)')\n",
      "('Panic disorder with agoraphobia, mild agoraphobic avoidance AND panic attacks in full remission (disorder)', 'type', 'Disorder')\n",
      "('Panic disorder with agoraphobia, agoraphobic avoidance in full remission AND panic attacks in full remission (disorder)', 'type', 'Disorder')\n",
      "('Panic disorder with agoraphobia, agoraphobic avoidance in partial remission AND severe panic attacks (disorder)', 'type', 'Disorder')\n",
      "('Arteriosclerotic dementia with depression (disorder)', 'type', 'Disorder')\n",
      "('Myocardial infarction due to demand ischemia (disorder)', 'type', 'Disorder')\n",
      "('Panic disorder with agoraphobia, agoraphobic avoidance in partial remission AND severe panic attacks (disorder)', 'has definitional manifestation', 'Panic (finding)')\n",
      "\u001b[0m"
     ]
    },
    {
     "data": {
      "text/markdown": [
       "<b> Pairs: (depression ; Disorder), (methyl dopa ; Substance)</b>"
      ],
      "text/plain": [
       "<IPython.core.display.Markdown object>"
      ]
     },
     "metadata": {},
     "output_type": "display_data"
    },
    {
     "name": "stdout",
     "output_type": "stream",
     "text": [
      "========================================\n",
      " {\n",
      "    \"Pairs\": [\n",
      "        [\n",
      "            \"depression\",\n",
      "            \"Disorder\"\n",
      "        ],\n",
      "        [\n",
      "            \"methyl dopa\",\n",
      "            \"Substance\"\n",
      "        ]\n",
      "    ]\n",
      "}\n",
      "  \n",
      "========================================\n",
      "[('depression', 'Disorder'), ('methyl dopa', 'Substance')]\n"
     ]
    }
   ],
   "source": [
    "text = \"Antihypertensive drugs and depression: a reappraisal. Eighty-nine new referral hypertensive out-patients and 46 new referral non-hypertensive chronically physically ill out-patients completed a mood rating scale at regular intervals for one year. The results showed a high prevalence of depression in both groups of patients, with no preponderance in the hypertensive group. Hypertensive patients with psychiatric histories had a higher prevalence of depression than the comparison patients. This was accounted for by a significant number of depressions occurring in methyl dopa treated patients with psychiatric histories.\"\n",
    "\n",
    "pair_extraction_prompt = \"\"\"\\\n",
    "Here is the context: {text}.\\\n",
    "\n",
    "Task: Extract the entity-type pairs from the given context with the format of (entity ; type).\\\n",
    "\n",
    "Here is the type list: [Disorder, Substance].\\\n",
    "\n",
    "The steps are as follows:\\\n",
    "1. extract the entity from the given context abstract, using the retrieved sub-graph.\n",
    "2. select ONE most likely type from the list for the extracted entity.\n",
    "3. output the pairs in the format of (entity ; type) strictly.\n",
    "4. repeat the step 1 to step 3.\\\n",
    "\\\n",
    "\n",
    "Provide your answer as follows:\n",
    "\n",
    "Answer:::\n",
    "Pairs: (All extracted pairs)\\\n",
    "Answer End:::\\\n",
    "\n",
    "Requirements:\\\n",
    "You MUST provide values for 'Pairs:' in your answer. \\\n",
    "ONLY use the type in the type list: [Disorder, Substance].\\\n",
    "ONLY output valid entity-type pairs without any reasoning.\n",
    "\n",
    "\"\"\"\n",
    "\n",
    "response = query_engine.query(pair_extraction_prompt.format(text=text))\n",
    "display(Markdown(f\"<b>{response}</b>\"))\n",
    "print(\"========================================\")\n",
    "parsed_response = llm_parser(response, pipe_parser, \"nuparser\", target_results=\"Pairs\")\n",
    "print(parsed_response)\n",
    "print(\"========================================\")\n",
    "print(clean_structural_list(parsed_response, \"Pairs\"))"
   ]
  },
  {
   "cell_type": "markdown",
   "metadata": {},
   "source": [
    "Triple Extraction example\n",
    "------"
   ]
  },
  {
   "cell_type": "code",
   "execution_count": 10,
   "metadata": {},
   "outputs": [
    {
     "name": "stderr",
     "output_type": "stream",
     "text": [
      "Setting `pad_token_id` to `eos_token_id`:2 for open-end generation.\n"
     ]
    },
    {
     "name": "stdout",
     "output_type": "stream",
     "text": [
      "\u001b[1;3;32mExtracted keywords: ['']\n",
      "\u001b[0m"
     ]
    },
    {
     "name": "stderr",
     "output_type": "stream",
     "text": [
      "Setting `pad_token_id` to `eos_token_id`:2 for open-end generation.\n"
     ]
    },
    {
     "name": "stdout",
     "output_type": "stream",
     "text": [
      "\u001b[1;3;34mKG context:\n",
      "The following are knowledge sequence in max depth 5 in the form of directed graph like:\n",
      "`subject -[predicate]->, object, <-[predicate_next_hop]-, object_next_hop ...`\n",
      "('Allergy to chlortalidone (finding)', 'type', 'Clinical Finding')\n",
      "('Allergy to deoxyribonuclease (finding)', 'type', 'Clinical Finding')\n",
      "('Allergy to alpha-tocopherol (finding)', 'type', 'Clinical Finding')\n",
      "('Allergy to goserelin (finding)', 'type', 'Clinical Finding')\n",
      "('Allergy to bendroflumethiazide (finding)', 'type', 'Clinical Finding')\n",
      "('Mass of bilateral parotid glands (finding)', 'type', 'Clinical Finding')\n",
      "('Allergy to fenticonazole (finding)', 'type', 'Clinical Finding')\n",
      "('Allergy to doxepin (finding)', 'type', 'Clinical Finding')\n",
      "('Allergy to cetylpyridinium (finding)', 'type', 'Clinical Finding')\n",
      "(\"Graves' disease with acropachy AND with thyrotoxic crisis (disorder)\", 'type', 'Disorder')\n",
      "\u001b[0m"
     ]
    },
    {
     "data": {
      "text/markdown": [
       "<b>1. (Evaluation of Preference and Utility Measures for Transoral Thyroidectomy; has realization; Traditional, trans-cervical thyroidectomy)\n",
       "2. (Evaluation of Preference and Utility Measures for Transoral Thyroidectomy; has realization; transoral thyroid surgery (TOTS))\n",
       "3. (Traditional, trans-cervical thyroidectomy; associated finding; presence of a neck scar)\n",
       "4. (presence of a neck scar; associated with; lower quality of life)\n",
       "5. (presence of a neck scar; associated with; lower patient satisfaction)\n",
       "6. (transoral thyroid surgery (TOTS); associated finding; avoid a cutaneous incision and scar)\n",
       "7. (transoral thyroid surgery (TOTS); associated finding; accessing the neck and thyroid through the oral cavity)\n",
       "8. (transoral thyroid surgery (TOTS); associated finding; patient preference)\n",
       "9. (transoral thyroid surgery (TOTS); associated finding; health-state utility scores)\n",
       "10. (transoral thyroid surgery (TOTS); associated finding; conventional trans-cervical thyroidectomy)</b>"
      ],
      "text/plain": [
       "<IPython.core.display.Markdown object>"
      ]
     },
     "metadata": {},
     "output_type": "display_data"
    },
    {
     "name": "stdout",
     "output_type": "stream",
     "text": [
      "====================================\n",
      "{\n",
      "    \"Triples\": [\n",
      "        [\n",
      "            \"Evaluation of Preference and Utility Measures for Transoral Thyroidectomy\",\n",
      "            \"has realization\",\n",
      "            \"Traditional, trans-cervical thyroidectomy\"\n",
      "        ],\n",
      "        [\n",
      "            \"Evaluation of Preference and Utility Measures for Transoral Thyroidectomy\",\n",
      "            \"has realization\",\n",
      "            \"transoral thyroid surgery (TOTS)\"\n",
      "        ],\n",
      "        [\n",
      "            \"Traditional, trans-cervical thyroidectomy\",\n",
      "            \"associated finding\",\n",
      "            \"presence of a neck scar\"\n",
      "        ],\n",
      "        [\n",
      "            \"presence of a neck scar\",\n",
      "            \"associated with\",\n",
      "            \"lower quality of life\"\n",
      "        ],\n",
      "        [\n",
      "            \"presence of a neck scar\",\n",
      "            \"associated with\",\n",
      "            \"lower patient satisfaction\"\n",
      "        ],\n",
      "        [\n",
      "            \"transoral thyroid surgery (TOTS)\",\n",
      "            \"associated finding\",\n",
      "            \"avoid a cutaneous incision and scar\"\n",
      "        ],\n",
      "        [\n",
      "            \"transoral thyroid surgery (TOTS)\",\n",
      "            \"associated finding\",\n",
      "            \"accessing the neck and thyroid through the oral cavity\"\n",
      "        ],\n",
      "        [\n",
      "            \"transoral thyroid surgery (TOTS)\",\n",
      "            \"associated finding\",\n",
      "            \"patient preference\"\n",
      "        ],\n",
      "        [\n",
      "            \"transoral thyroid surgery (TOTS)\",\n",
      "            \"associated finding\",\n",
      "            \"health-state utility scores\"\n",
      "        ],\n",
      "        [\n",
      "            \"transoral thyroid surgery (TOTS)\",\n",
      "            \"associated finding\",\n",
      "            \"conventional trans-cervical thyroidectomy\"\n",
      "        ]\n",
      "    ]\n",
      "}\n",
      "  \n",
      "====================================\n",
      "[('Evaluation of Preference and Utility Measures for Transoral Thyroidectomy', 'has realization', 'Traditional, trans-cervical thyroidectomy'), ('Evaluation of Preference and Utility Measures for Transoral Thyroidectomy', 'has realization', 'transoral thyroid surgery (TOTS)'), ('Traditional, trans-cervical thyroidectomy', 'associated finding', 'presence of a neck scar'), ('presence of a neck scar', 'associated with', 'lower quality of life'), ('presence of a neck scar', 'associated with', 'lower patient satisfaction'), ('transoral thyroid surgery (TOTS)', 'associated finding', 'avoid a cutaneous incision and scar'), ('transoral thyroid surgery (TOTS)', 'associated finding', 'accessing the neck and thyroid through the oral cavity'), ('transoral thyroid surgery (TOTS)', 'associated finding', 'patient preference'), ('transoral thyroid surgery (TOTS)', 'associated finding', 'health-state utility scores'), ('transoral thyroid surgery (TOTS)', 'associated finding', 'conventional trans-cervical thyroidectomy')]\n"
     ]
    }
   ],
   "source": [
    "text = \"Evaluation of Preference and Utility Measures for Transoral Thyroidectomy. Traditional, trans-cervical thyroidectomy results in the presence of a neck scar, which has been shown to correlate with lower quality of life and lower patient satisfaction. Transoral thyroid surgery (TOTS) has been utilized as an alternative approach to avoid a cutaneous incision and scar by accessing the neck and thyroid through the oral cavity. This study was designed to evaluate patient preference through health-state utility scores for TOTS as compared to conventional trans-cervical thyroidectomy.\"\n",
    "\n",
    "triple_extraction_prompt = f\"\"\"\\\n",
    "Here is the context: {text}.\\\n",
    "\n",
    "Task: Extract the SNOMED CT triples from the given context with the format of (entity1; relation; entity2).\\\n",
    "\n",
    "Here is the optional relation list: [temporally follows, after, due to, has realization, associated with, has definitional manifestation, \n",
    "associated finding, associated aetiologic finding, associated etiologic finding, interprets, associated morphology, causative agent, course, \n",
    "finding site, temporally related to, pathological process, direct morphology, is modification of, measures, direct substance, has active ingredient, using, part of].\\\n",
    "\n",
    "The steps are as follows:\\\n",
    "1. extract the entity1 and entity2 from the given context sentence, using the retrieved triples.\n",
    "2. select ONE most likely relation from the list for the extracted entities.\n",
    "3. output the triples in the format of (entity1; relation; entity2) strictly.\n",
    "4. repeat the process for all the possible triples extracted from the context.\n",
    "\\\n",
    "\n",
    "Provide your answer as follows:\n",
    "\n",
    "Answer:::\n",
    "Triples: (entity1; relation; entity2) (entity1; relation; entity2) ...\n",
    "Answer End:::\\\n",
    "\n",
    "You MUST provide values for 'Triples:' in your answer.\\\n",
    "\n",
    "\"\"\"\n",
    "response = query_engine.query(triple_extraction_prompt)\n",
    "display(Markdown(f\"<b>{response}</b>\"))\n",
    "print(\"====================================\")\n",
    "parsed_response = llm_parser(response, pipe_parser, target_results=\"Triples\")\n",
    "print(parsed_response)\n",
    "print(\"====================================\")\n",
    "print(clean_structural_list(parsed_response, \"Triples\"))"
   ]
  },
  {
   "cell_type": "markdown",
   "metadata": {},
   "source": [
    "Medical Diagnostics example\n",
    "------"
   ]
  },
  {
   "cell_type": "code",
   "execution_count": null,
   "metadata": {},
   "outputs": [
    {
     "name": "stderr",
     "output_type": "stream",
     "text": [
      "Setting `pad_token_id` to `eos_token_id`:2 for open-end generation.\n"
     ]
    },
    {
     "name": "stdout",
     "output_type": "stream",
     "text": [
      "\u001b[1;3;32mExtracted keywords: ['Asthma', 'female', 'old', 'End', 'pain', 'Diagnosis', 'Myocardial', 'year', 'chest pain', 'Infarction', 'chest', 'normal\\n\\n---------------------\\nAnswer:::\\nDiagnosis:\\nCovid-19\\nPneumonia\\nAsthma\\nMyocardial Infarction\\nPulmonary Embolism\\nAnswer End:::', 'cough', 'X', 'normal', 'dyspnea', 'fatigue', 'construction', '40 year old female', 'Pulmonary', 'Answer', '19', 'fever', 'wheezing', 'X-ray', 'Embolism', 'recent construction', 'recent', 'Ohio', 'Pneumonia', 'Covid', '40', 'ray']\n",
      "\u001b[0m"
     ]
    },
    {
     "name": "stderr",
     "output_type": "stream",
     "text": [
      "Setting `pad_token_id` to `eos_token_id`:2 for open-end generation.\n"
     ]
    },
    {
     "name": "stdout",
     "output_type": "stream",
     "text": [
      "\u001b[1;3;34mKG context:\n",
      "The following are knowledge sequence in max depth 5 in the form of directed graph like:\n",
      "`subject -[predicate]->, object, <-[predicate_next_hop]-, object_next_hop ...`\n",
      "('Left ventricular failure with normal ejection fraction due to coronary arteriosclerosis (disorder)', 'type', 'Disorder')\n",
      "('Panic disorder with agoraphobia, moderate agoraphobic avoidance AND panic attacks in partial remission (disorder)', 'has definitional manifestation', 'Panic (finding)')\n",
      "('Acute on chronic combined systolic and diastolic heart failure (disorder)', 'has definitional manifestation', 'Diastolic dysfunction (finding)')\n",
      "('B-cell lymphoma unclassifiable with features intermediate between classical Hodgkin lymphoma and diffuse large B-cell lymphoma (disorder)', 'type', 'Disorder')\n",
      "('Major systemic to pulmonary collateral artery with absent pulmonary arteries proximal to hilar bifurcation (disorder)', 'type', 'Disorder')\n",
      "('Mendelian susceptibility to mycobacterial disease due to partial signal transducer and activator of transcription 1 deficiency (disorder)', 'type', 'Disorder')\n",
      "('Left ventricular failure with normal ejection fraction due to coronary arteriosclerosis (disorder)', 'due to', 'Coronary arteriosclerosis (disorder)')\n",
      "('Mendelian susceptibility to mycobacterial disease due to partial signal transducer and activator of transcription 1 deficiency (disorder)', 'has definitional manifestation', 'Immune system finding (finding)')\n",
      "('Panic disorder with agoraphobia, agoraphobic avoidance in partial remission AND severe panic attacks (disorder)', 'has definitional manifestation', 'Panic (finding)')\n",
      "('Acute ST segment elevation myocardial infarction of anterior wall involving right ventricle (disorder)', 'type', 'Disorder')\n",
      "\u001b[0mResults:\n",
      "1. Panic disorder with agoraphobia, moderate agoraphobic avoidance AND panic attacks in partial remission (disorder)2. Panic disorder with agoraphobia, agoraphobic avoidance in partial remission AND severe panic attacks (disorder)3. Acute on chronic combined systolic and diastolic heart failure (disorder)4. Acute ST segment elevation myocardial infarction of anterior wall involving right ventricle (disorder)5. Left ventricular failure with normal ejection fraction due to coronary arteriosclerosis (disorder)\n",
      "========================================\n",
      " {\n",
      "    \"diagnosis\": [\n",
      "        \"Panic disorder with agoraphobia, moderate agoraphobic avoidance AND panic attacks in partial remission (disorder)\",\n",
      "        \"Panic disorder with agoraphobia, agoraphobic avoidance in partial remission AND severe panic attacks (disorder)\",\n",
      "        \"Acute on chronic combined systolic and diastolic heart failure (disorder)\",\n",
      "        \"Acute ST segment elevation myocardial infarction of anterior wall involving right ventricle (disorder)\",\n",
      "        \"Left ventricular failure with normal ejection fraction due to coronary arteriosclerosis (disorder)\"\n",
      "    ]\n",
      "}\n",
      "  \n"
     ]
    }
   ],
   "source": [
    "case_vignette = \"\"\"\n",
    "40 year old female presenting with chest pain\n",
    " Symptom: Worsening chest pain\n",
    " • Onset: 2 weeks ago\n",
    " • Associated with: Cough, dyspnea, fever\n",
    " • Complicated by: Fatigue\n",
    " Social history\n",
    " • Recent construction in Ohio\n",
    " Physical exam\n",
    " • Lungs: Wheezing\n",
    " Diagnostic: X-ray\n",
    " • Interpretation: Normal\n",
    "\"\"\"\n",
    "\n",
    "medical_diagnosis_prompt = \"\"\"\n",
    "Case vignette: {case_vignette}\n",
    "\n",
    "According the given case vignette, provide only the most probable differential diagnosis, no explanation, no recapitulation of the case information or task. \n",
    "Give a maximum of 5 answers, sorted by probability of being the correct diagnosis, most probable first, remove list numbering, \n",
    "and respond with each answer on a new line. Be as concise as possible, no need to be polite.\n",
    "\n",
    "Provide your answer as follows:\n",
    "\n",
    "Answer:::\n",
    "Diagnosis: (the 5 most probable diagnoses, most probable first)\n",
    "1. \n",
    "2. \n",
    "...\n",
    "Answer End:::\\\n",
    "\n",
    "You MUST provide values for 'Diagnosis' in your answer.\\\n",
    "Do not provide any other information in your response.\\\n",
    "\n",
    "\"\"\"\n",
    "\n",
    "response = query_engine.query(medical_diagnosis_prompt.format(case_vignette=case_vignette))\n",
    "print(f\"Results:\\n{extract_triple(str(response), notebook=True, split_str1='Diagnosis:')}\")\n",
    "print(\"========================================\")\n",
    "print(llm_parser(response, pipe_parser, target_results=\"Diagnosis\"))"
   ]
  },
  {
   "cell_type": "code",
   "execution_count": 10,
   "metadata": {},
   "outputs": [
    {
     "name": "stderr",
     "output_type": "stream",
     "text": [
      "50it [28:31, 34.22s/it]\n"
     ]
    }
   ],
   "source": [
    "# snomed concepts extraction\n",
    "snomed_extraction_prompt = \"\"\"\\\n",
    "Here is the context: {text}.\\\n",
    "\n",
    "Task: Extract the SNOMED CT triples from the given context with the format of (concept 1 ; relation ; concept 2).\\\n",
    "\n",
    "Here is the optional relation list: [temporally follows, after, due to, has realization, associated with, has definitional manifestation, \n",
    "associated finding, associated aetiologic finding, associated etiologic finding, interprets, associated morphology, causative agent, course, \n",
    "finding site, temporally related to, pathological process, direct morphology, is modification of, measures, direct substance, has active ingredient, using, part of].\\\n",
    "\n",
    "The steps are as follows:\\\n",
    "1. extract the concept 1 and concept 2 from the given context sentence, using the retrieved sub-graph.\n",
    "2. select ONE most likely relation from the list for the extracted concepts.\n",
    "3. output the triplets in the format of (concept 1 ; relation ; concept 2) strictly.\\\n",
    "\\\n",
    "\n",
    "Provide your answer as follows:\n",
    "\n",
    "Answer:::\n",
    "Triples: (The extracted triples)\\\n",
    "Answer End:::\\\n",
    "\n",
    "You MUST provide values for 'Triples:' in your answer.\\\n",
    "\n",
    "\"\"\"\n",
    "\n",
    "snomed_description_generation_prompt = \"\"\"\\\n",
    "Here is the context: {text}.\\\n",
    "\n",
    "Here is the optional relation list: [temporally follows, after, due to, has realization, associated with, has definitional manifestation, \n",
    "associated finding, associated aetiologic finding, associated etiologic finding, interprets, associated morphology, causative agent, course, \n",
    "finding site, temporally related to, pathological process, direct morphology, is modification of, measures, direct substance, has active ingredient, using, part of].\\\n",
    "\n",
    "Task: Generate the SNOMED CT descriptions for the given concept.\n",
    "\n",
    "The steps are as follows:\n",
    "1. extract a CONCEPT from the given context sentence, using the retrieved sub-graph.\n",
    "2. generate an EXPRESSION in human-readable phrase that can describe the CONCEPT.\n",
    "3. select one most likely relation from the list between the CONCEPT and the EXPRESSION.\n",
    "4. generate descriptions in the format of (CONCEPT ; relation ; EXPRESSION). Each CONCEPT may have multiple descriptions.\n",
    "5. repeat the step 1 to step 4.\n",
    "\n",
    "Provide your answer as follows:\n",
    "\n",
    "Answer:::\n",
    "Concept: \n",
    "Descriptions: (The generated descriptions)\n",
    "Answer End:::\\\n",
    "\n",
    "You MUST provide values for 'Concept' and 'Description' in your answer.\\\n",
    "\n",
    "Few-shot examples:\n",
    "Answer:::\n",
    "Concept: apnea\n",
    "Descriptions: (apnea ; interprets ; respiration observable) (apnea ; has interpretation ; absent) (apnea ; finding site ; structure of respiratory system)\n",
    "Answer End:::\n",
    "\n",
    "\"\"\"\n",
    "\n",
    "snomed_extraction_prompt_var_mappings = {\"text\": \"text\"}\n",
    "\n",
    "prompt_tmpl = PromptTemplate(\n",
    "    snomed_description_generation_prompt, template_var_mappings=snomed_extraction_prompt_var_mappings\n",
    ")\n",
    "\n",
    "def query_and_generate_rel(test_id, query_engine, cases=427):\n",
    "    logging.info(f\"Query Engine: {query_engine}\")\n",
    "    with open(\"data/ade1/test.source\") as f:\n",
    "        results = []\n",
    "        sentences = f.readlines()[:cases]\n",
    "        logging.info(f\"Experiment ID: {test_id}\")\n",
    "        print(f\"Number of sentences: {len(sentences)}; Number of cases for test: {cases}\")\n",
    "        for sentence_id, text in tqdm(enumerate(sentences)):\n",
    "            print(f\"Processing sentence {sentence_id} / {len(sentences)}\")\n",
    "            print(f\"Text: {text}\")\n",
    "            retry_count = 0\n",
    "\n",
    "            fmt_prompt = prompt_tmpl.format(\n",
    "                text=text,\n",
    "            )\n",
    "            # print(fmt_prompt)\n",
    "            response = query_engine.query(fmt_prompt)\n",
    "            # display(Markdown(f\"<b>{response}</b>\"))\n",
    "            # results.append(clean_response(str(response)) + \"\\n\")\n",
    "            results.append(extract_triple(str(response), notebook=True) + \"\\n\")\n",
    "            print(f\"Results: {extract_triple(str(response), notebook=True)}\")\n",
    "\n",
    "    with open(f\"results/rel.hyps_{test_id}\", 'w') as f:\n",
    "        f.writelines(results)\n",
    "    \n",
    "    logging.info(f\"Results saved to results/rel.hyps_{test_id}\")\n",
    "    return response\n",
    "\n",
    "logging_setup(log_file=f\"logs/{PARAMETERS['test_id']}.log\", log_level=logging.INFO)\n",
    "\n",
    "response = query_and_generate_rel(test_id = PARAMETERS[\"test_id\"], query_engine = query_engine, cases=50)"
   ]
  },
  {
   "cell_type": "markdown",
   "metadata": {},
   "source": [
    "Batch Test - concept/entity extraction\n",
    "------"
   ]
  },
  {
   "cell_type": "code",
   "execution_count": null,
   "metadata": {},
   "outputs": [
    {
     "name": "stderr",
     "output_type": "stream",
     "text": [
      "0it [00:00, ?it/s]Setting `pad_token_id` to `eos_token_id`:2 for open-end generation.\n"
     ]
    },
    {
     "name": "stdout",
     "output_type": "stream",
     "text": [
      "\u001b[1;3;32mExtracted keywords: ['nasojejunal feedings', 'pseudocyst', 'elective', 'multisystem organ failure', 'pancreatic', 'necrosis', 'multisystem', 'Biliary pancreatitis', 'invasive', 'minimally invasive approach', 'approach', 'Biliary', 'postnecrotic pseudocyst', 'pancreatic rest', 'pancreatic necrosis', 'GI tract', 'Dr.', 'failure', 'pancreatitis', 'organ', 'cholecystectomy', 'nasojejunal', 'GI', 'minimally', 'feedings', 'postnecrotic', 'tract', 'rest', 'elective cholecystectomy']\n",
      "\u001b[0m"
     ]
    },
    {
     "name": "stderr",
     "output_type": "stream",
     "text": [
      "Setting `pad_token_id` to `eos_token_id`:2 for open-end generation.\n"
     ]
    },
    {
     "name": "stdout",
     "output_type": "stream",
     "text": [
      "\u001b[1;3;34mKG context:\n",
      "The following are knowledge sequence in max depth 5 in the form of directed graph like:\n",
      "`subject -[predicate]->, object, <-[predicate_next_hop]-, object_next_hop ...`\n",
      "('Mendelian susceptibility to mycobacterial disease due to partial signal transducer and activator of transcription 1 deficiency (disorder)', 'type', 'Disorder')\n",
      "('International neuroblastoma pathology classification: Favorable histology group, patient of any age with ganglioneuroma (Schwannian stroma-dominant) maturing, or mature (finding)', 'type', 'Clinical Finding')\n",
      "('Hematoma of kidney without rupture of capsule AND with open wound into abdominal cavity (disorder)', 'type', 'Disorder')\n",
      "('Major systemic to pulmonary collateral artery with absent pulmonary arteries proximal to hilar bifurcation (disorder)', 'type', 'Disorder')\n",
      "('Hematoma of spleen without rupture of capsule AND without open wound into abdominal cavity (disorder)', 'type', 'Disorder')\n",
      "('Influenza caused by Influenza A virus subtype H5 (disorder)', 'type', 'Disorder')\n",
      "('Accidental puncture of organ during a procedure (disorder)', 'type', 'Disorder')\n",
      "('Mendelian susceptibility to mycobacterial disease due to partial signal transducer and activator of transcription 1 deficiency (disorder)', 'has definitional manifestation', 'Immune system finding (finding)')\n",
      "('Mendelian susceptibility to mycobacterial disease due to complete interferon gamma receptor 1 deficiency (disorder)', 'type', 'Disorder')\n",
      "('Absent left atrioventricular valve leaflets (disorder)', 'type', 'Disorder')\n",
      "\u001b[0m"
     ]
    },
    {
     "name": "stderr",
     "output_type": "stream",
     "text": [
      "1it [00:16, 16.91s/it]Setting `pad_token_id` to `eos_token_id`:2 for open-end generation.\n"
     ]
    },
    {
     "name": "stdout",
     "output_type": "stream",
     "text": [
      "======= Sentence 0 processed.. ========\n",
      "\u001b[1;3;32mExtracted keywords: ['Back', 'Hernia', 'laparoscopic', 'metastatic lung cancer', 'esophagus', 'cancer', 'Esophageal', 'CVA', 'cholecystectomy', 'anxiety', 'Esophageal ulcer', 'Hiatal', 'MI', 'gallstone pancreatitis', 'gallstone', 'pain', 'ulcer', 'laparoscopic cholecystectomy', 'Hiatal Hernia', 'pancreatitis', 'metastatic', 'Back pain', 'lung']\n",
      "\u001b[0m"
     ]
    },
    {
     "name": "stderr",
     "output_type": "stream",
     "text": [
      "Setting `pad_token_id` to `eos_token_id`:2 for open-end generation.\n"
     ]
    },
    {
     "name": "stdout",
     "output_type": "stream",
     "text": [
      "\u001b[1;3;34mKG context:\n",
      "The following are knowledge sequence in max depth 5 in the form of directed graph like:\n",
      "`subject -[predicate]->, object, <-[predicate_next_hop]-, object_next_hop ...`\n",
      "('Major systemic to pulmonary collateral artery with absent pulmonary arteries proximal to hilar bifurcation (disorder)', 'type', 'Disorder')\n",
      "('Left ventricular failure with normal ejection fraction due to coronary arteriosclerosis (disorder)', 'type', 'Disorder')\n",
      "('Aberrant course of left anterior descending coronary artery from right coronary artery crossing right ventricular outflow tract (disorder)', 'type', 'Disorder')\n",
      "('Obstetric pyemic and septic pulmonary embolism with postnatal complication (disorder)', 'type', 'Disorder')\n",
      "('Hepatic coma due to acute hepatitis B with delta agent (disorder)', 'due to', 'Acute hepatitis B with hepatitis D (disorder)')\n",
      "('Vascular ring with right aortic arch and right patent arterial duct with absent left pulmonary artery (disorder)', 'type', 'Disorder')\n",
      "('Hypertensive heart AND renal disease complicating AND/OR reason for care during childbirth (disorder)', 'type', 'Disorder')\n",
      "('Mendelian susceptibility to mycobacterial disease due to partial signal transducer and activator of transcription 1 deficiency (disorder)', 'type', 'Disorder')\n",
      "('Multiple self-healing epithelioma of Ferguson-Smith (disorder)', 'type', 'Disorder')\n",
      "('Single right coronary artery supplying all of heart with usual distribution of left coronary artery derived from distal right coronary artery (disorder)', 'associated morphology', 'Congenital abnormal number (morphologic abnormality)')\n",
      "\u001b[0m"
     ]
    },
    {
     "name": "stderr",
     "output_type": "stream",
     "text": [
      "Setting `pad_token_id` to `eos_token_id`:2 for open-end generation.\n"
     ]
    },
    {
     "name": "stdout",
     "output_type": "stream",
     "text": [
      "\u001b[1;3;32mExtracted keywords: ['Back', 'KEYWORDS', 'Hernia', 'heparin', 'Esophageal ulcer', 'venodyne', 'Hiatal', 'MI', 'laparoscopic', 'gallstone pancreatitis', 'gallstone', 'pain', '---------------------\\nKEYWORDS: Hiatal Hernia', 'metastatic lung cancer', 'esophagus', 'cancer', 'Esophageal', 'venodyne boots', 'ulcer', 'CVA', 'laparoscopic cholecystectomy', 'Dilaudid PCA', 'pancreatitis', 'cholecystectomy', 'Dilaudid', 'metastatic', 'Back pain', 'PCA', 'lung', 'boots', 'anxiety']\n",
      "\u001b[0m"
     ]
    },
    {
     "name": "stderr",
     "output_type": "stream",
     "text": [
      "Setting `pad_token_id` to `eos_token_id`:2 for open-end generation.\n"
     ]
    },
    {
     "name": "stdout",
     "output_type": "stream",
     "text": [
      "\u001b[1;3;34mKG context:\n",
      "The following are knowledge sequence in max depth 5 in the form of directed graph like:\n",
      "`subject -[predicate]->, object, <-[predicate_next_hop]-, object_next_hop ...`\n",
      "('Major systemic to pulmonary collateral artery with absent pulmonary arteries proximal to hilar bifurcation (disorder)', 'type', 'Disorder')\n",
      "('Left ventricular failure with normal ejection fraction due to coronary arteriosclerosis (disorder)', 'type', 'Disorder')\n",
      "('Aberrant course of left anterior descending coronary artery from right coronary artery crossing right ventricular outflow tract (disorder)', 'type', 'Disorder')\n",
      "('Obstetric pyemic and septic pulmonary embolism with postnatal complication (disorder)', 'type', 'Disorder')\n",
      "('Hepatic coma due to acute hepatitis B with delta agent (disorder)', 'due to', 'Acute hepatitis B with hepatitis D (disorder)')\n",
      "('Vascular ring with right aortic arch and right patent arterial duct with absent left pulmonary artery (disorder)', 'type', 'Disorder')\n",
      "('Hypertensive heart AND renal disease complicating AND/OR reason for care during childbirth (disorder)', 'type', 'Disorder')\n",
      "('Mendelian susceptibility to mycobacterial disease due to partial signal transducer and activator of transcription 1 deficiency (disorder)', 'type', 'Disorder')\n",
      "('Multiple self-healing epithelioma of Ferguson-Smith (disorder)', 'type', 'Disorder')\n",
      "('Single right coronary artery supplying all of heart with usual distribution of left coronary artery derived from distal right coronary artery (disorder)', 'associated morphology', 'Congenital abnormal number (morphologic abnormality)')\n",
      "\u001b[0m"
     ]
    },
    {
     "name": "stderr",
     "output_type": "stream",
     "text": [
      "Setting `pad_token_id` to `eos_token_id`:2 for open-end generation.\n"
     ]
    },
    {
     "name": "stdout",
     "output_type": "stream",
     "text": [
      "\u001b[1;3;32mExtracted keywords: ['Back', 'Hernia', 'Pain', 'Hiatal', 'MI', 'Laparoscopic', 'Gallstone', 'Esophageal', 'CVA', 'Cholecystectomy', 'Esophagus', 'Anxiety', 'Hiatal Hernia', 'Cancer', 'Metastatic Lung Cancer', 'Back Pain', 'Gallstone Pancreatitis', 'Ulcer', 'Pancreatitis', 'Lung', 'Esophageal Ulcer', 'Laparoscopic Cholecystectomy', 'Metastatic']\n",
      "\u001b[0m"
     ]
    },
    {
     "name": "stderr",
     "output_type": "stream",
     "text": [
      "Setting `pad_token_id` to `eos_token_id`:2 for open-end generation.\n"
     ]
    },
    {
     "name": "stdout",
     "output_type": "stream",
     "text": [
      "\u001b[1;3;34mKG context:\n",
      "The following are knowledge sequence in max depth 5 in the form of directed graph like:\n",
      "`subject -[predicate]->, object, <-[predicate_next_hop]-, object_next_hop ...`\n",
      "('Major systemic to pulmonary collateral artery with absent pulmonary arteries proximal to hilar bifurcation (disorder)', 'type', 'Disorder')\n",
      "('Left ventricular failure with normal ejection fraction due to coronary arteriosclerosis (disorder)', 'type', 'Disorder')\n",
      "('Aberrant course of left anterior descending coronary artery from right coronary artery crossing right ventricular outflow tract (disorder)', 'type', 'Disorder')\n",
      "('Obstetric pyemic and septic pulmonary embolism with postnatal complication (disorder)', 'type', 'Disorder')\n",
      "('Hepatic coma due to acute hepatitis B with delta agent (disorder)', 'due to', 'Acute hepatitis B with hepatitis D (disorder)')\n",
      "('Vascular ring with right aortic arch and right patent arterial duct with absent left pulmonary artery (disorder)', 'type', 'Disorder')\n",
      "('Hypertensive heart AND renal disease complicating AND/OR reason for care during childbirth (disorder)', 'type', 'Disorder')\n",
      "('Mendelian susceptibility to mycobacterial disease due to partial signal transducer and activator of transcription 1 deficiency (disorder)', 'type', 'Disorder')\n",
      "('Multiple self-healing epithelioma of Ferguson-Smith (disorder)', 'type', 'Disorder')\n",
      "('Single right coronary artery supplying all of heart with usual distribution of left coronary artery derived from distal right coronary artery (disorder)', 'associated morphology', 'Congenital abnormal number (morphologic abnormality)')\n",
      "\u001b[0m"
     ]
    },
    {
     "name": "stderr",
     "output_type": "stream",
     "text": [
      "Setting `pad_token_id` to `eos_token_id`:2 for open-end generation.\n"
     ]
    },
    {
     "name": "stdout",
     "output_type": "stream",
     "text": [
      "\u001b[1;3;32mExtracted keywords: ['Back', 'Hernia', 'KEYWORDS', 'heparin', 'Esophageal ulcer', 'venodyne', 'Hiatal', 'MI', 'laparoscopic', 'gallstone pancreatitis', 'gallstone', 'pain', 'venodyne boots\\n\\nAnswer:::\\nKEYWORDS: Hiatal Hernia', 'venodyne boots\\nAnswer End:::', 'metastatic lung cancer', 'esophagus', 'cancer', 'End', 'Esophageal', 'ulcer', 'Answer', 'CVA', 'laparoscopic cholecystectomy', 'Hiatal Hernia', 'pancreatitis', 'cholecystectomy', 'metastatic', 'Back pain', 'lung', 'boots', 'anxiety']\n",
      "\u001b[0m"
     ]
    },
    {
     "name": "stderr",
     "output_type": "stream",
     "text": [
      "Setting `pad_token_id` to `eos_token_id`:2 for open-end generation.\n"
     ]
    },
    {
     "name": "stdout",
     "output_type": "stream",
     "text": [
      "\u001b[1;3;34mKG context:\n",
      "The following are knowledge sequence in max depth 5 in the form of directed graph like:\n",
      "`subject -[predicate]->, object, <-[predicate_next_hop]-, object_next_hop ...`\n",
      "('Major systemic to pulmonary collateral artery with absent pulmonary arteries proximal to hilar bifurcation (disorder)', 'type', 'Disorder')\n",
      "('Left ventricular failure with normal ejection fraction due to coronary arteriosclerosis (disorder)', 'type', 'Disorder')\n",
      "('Aberrant course of left anterior descending coronary artery from right coronary artery crossing right ventricular outflow tract (disorder)', 'type', 'Disorder')\n",
      "('Obstetric pyemic and septic pulmonary embolism with postnatal complication (disorder)', 'type', 'Disorder')\n",
      "('Hepatic coma due to acute hepatitis B with delta agent (disorder)', 'due to', 'Acute hepatitis B with hepatitis D (disorder)')\n",
      "('Vascular ring with right aortic arch and right patent arterial duct with absent left pulmonary artery (disorder)', 'type', 'Disorder')\n",
      "('Hypertensive heart AND renal disease complicating AND/OR reason for care during childbirth (disorder)', 'type', 'Disorder')\n",
      "('Mendelian susceptibility to mycobacterial disease due to partial signal transducer and activator of transcription 1 deficiency (disorder)', 'type', 'Disorder')\n",
      "('Multiple self-healing epithelioma of Ferguson-Smith (disorder)', 'type', 'Disorder')\n",
      "('Single right coronary artery supplying all of heart with usual distribution of left coronary artery derived from distal right coronary artery (disorder)', 'associated morphology', 'Congenital abnormal number (morphologic abnormality)')\n",
      "\u001b[0m"
     ]
    },
    {
     "name": "stderr",
     "output_type": "stream",
     "text": [
      "2it [01:09, 38.00s/it]Setting `pad_token_id` to `eos_token_id`:2 for open-end generation.\n"
     ]
    },
    {
     "name": "stdout",
     "output_type": "stream",
     "text": [
      "======= Sentence 1 processed.. ========\n",
      "\u001b[1;3;32mExtracted keywords: ['instructions', 'KEYWORDS', 'instructions\\nAnswer End:::', 'vital signs', 'biliary', 'medications', 'pain', 'activity', 'diet', 'signs', 'ambulating', 'mental status', 'biliary pancreatitis', 'level', 'consciousness', 'End', 'mental', 'disposition', 'Answer', 'pain control', 'pancreatitis', 'activity status', 'voiding', 'control', 'level of consciousness', 'vital', 'instructions\\n\\nAnswer:::\\nKEYWORDS: discharge', 'status', 'discharge', 'diagnosis']\n",
      "\u001b[0m"
     ]
    },
    {
     "name": "stderr",
     "output_type": "stream",
     "text": [
      "Setting `pad_token_id` to `eos_token_id`:2 for open-end generation.\n"
     ]
    },
    {
     "name": "stdout",
     "output_type": "stream",
     "text": [
      "\u001b[1;3;34mKG context:\n",
      "The following are knowledge sequence in max depth 5 in the form of directed graph like:\n",
      "`subject -[predicate]->, object, <-[predicate_next_hop]-, object_next_hop ...`\n",
      "('Acute ST segment elevation myocardial infarction of anterior wall involving right ventricle (disorder)', 'type', 'Disorder')\n",
      "('Panic disorder with agoraphobia, moderate agoraphobic avoidance AND panic attacks in partial remission (disorder)', 'type', 'Disorder')\n",
      "('Subsequent ST segment elevation myocardial infarction of anterior wall (disorder)', 'type', 'Disorder')\n",
      "('Panic disorder with agoraphobia, mild agoraphobic avoidance AND panic attacks in full remission (disorder)', 'type', 'Disorder')\n",
      "('Left ventricular failure with normal ejection fraction due to coronary arteriosclerosis (disorder)', 'type', 'Disorder')\n",
      "('Single right coronary artery supplying all of heart with usual distribution of left coronary artery derived from distal right coronary artery (disorder)', 'type', 'Disorder')\n",
      "('Intentional phenazocine overdose (disorder)', 'causative agent', 'Substance with opioid receptor agonist mechanism of action (substance)')\n",
      "('Panic disorder with agoraphobia, moderate agoraphobic avoidance AND panic attacks in partial remission (disorder)', 'has definitional manifestation', 'Panic (finding)')\n",
      "('Accidental dextropropoxyphene overdose (disorder)', 'causative agent', 'Substance with opioid receptor agonist mechanism of action (substance)')\n",
      "('Panic disorder with agoraphobia, agoraphobic avoidance in full remission AND panic attacks in full remission (disorder)', 'type', 'Disorder')\n",
      "\u001b[0m"
     ]
    },
    {
     "name": "stderr",
     "output_type": "stream",
     "text": [
      "3it [01:54, 38.22s/it]"
     ]
    },
    {
     "name": "stdout",
     "output_type": "stream",
     "text": [
      "======= Sentence 2 processed.. ========\n"
     ]
    },
    {
     "name": "stderr",
     "output_type": "stream",
     "text": [
      "\n"
     ]
    }
   ],
   "source": [
    "using_extractor = None\n",
    "pipe_extractor = None\n",
    "input_text_dir = \"data/mimiciv/eval/notes_concepts_chunked.json\"\n",
    "snomed_extraction_prompt_var_mappings = {\"text\": \"text\"}\n",
    "\n",
    "MIMICIV_entity_extraction_prompt = \"\"\"\\\n",
    "Here is the context: {text}.\\\n",
    "\n",
    "Task: Extract the SNOMED CT concepts from the given context.\\\n",
    "\n",
    "The steps are as follows:\\\n",
    "1. extract the concepts from the given context sentence, using the retrieved triplets.\n",
    "2. there may be abbreviations or acronyms in the context, extract them as concepts as well if they are related to the concepts.\n",
    "3. output the concepts in a list [] strictly, each concept is separated by a comma.\\\n",
    "\\\n",
    "\n",
    "Provide your answer as follows:\n",
    "\n",
    "Answer:::\n",
    "Concepts: [] \\\n",
    "Answer End:::\\\n",
    "\n",
    "Requirements:\\\n",
    "You MUST provide values for 'Concepts:' in your answer. \\\n",
    "ONLY extract concepts, DO NOT include the type of the concept, reasoning, or any other information. \\\n",
    "DO NOT include mark numbers or ordinal numbers in your answer. \\\n",
    "Extract as many unique concepts as possible from the given context. \\\n",
    "\n",
    "\"\"\"\n",
    "\n",
    "prompt_tmpl = PromptTemplate(\n",
    "    MIMICIV_entity_extraction_prompt, template_var_mappings=snomed_extraction_prompt_var_mappings\n",
    ")\n",
    "\n",
    "rag_start(test_id=\"_test_entityextraction_mimicivchunk\",\n",
    "            input_text_dir=input_text_dir,\n",
    "            prompt_tmpl=prompt_tmpl,\n",
    "            target_results=\"Concepts\",\n",
    "            query_engine=query_engine,\n",
    "            pipe_parser=pipe_parser,\n",
    "            cases=3)\n"
   ]
  },
  {
   "cell_type": "markdown",
   "metadata": {},
   "source": [
    "Batch test - (entity ; type) extraction\n",
    "------"
   ]
  },
  {
   "cell_type": "code",
   "execution_count": null,
   "metadata": {},
   "outputs": [
    {
     "name": "stderr",
     "output_type": "stream",
     "text": [
      "0it [00:00, ?it/s]Setting `pad_token_id` to `eos_token_id`:2 for open-end generation.\n"
     ]
    },
    {
     "name": "stdout",
     "output_type": "stream",
     "text": [
      "\u001b[1;3;32mExtracted keywords: ['methyl dopa', 'patients', 'methyl', 'depression', 'out-patients', 'hypertensive', 'history', 'rating', 'psychiatric', 'hypertension', 'hypertensive patients', 'scale', 'physically ill patients', 'physically', 'mood', 'ill', 'dopa', 'psychiatric history', 'mood rating scale']\n",
      "\u001b[0m"
     ]
    },
    {
     "name": "stderr",
     "output_type": "stream",
     "text": [
      "Setting `pad_token_id` to `eos_token_id`:2 for open-end generation.\n"
     ]
    },
    {
     "name": "stdout",
     "output_type": "stream",
     "text": [
      "\u001b[1;3;34mKG context:\n",
      "The following are knowledge sequence in max depth 5 in the form of directed graph like:\n",
      "`subject -[predicate]->, object, <-[predicate_next_hop]-, object_next_hop ...`\n",
      "('Primary degenerative dementia of the Alzheimer type, senile onset, with depression (disorder)', 'type', 'Disorder')\n",
      "('Primary degenerative dementia of the Alzheimer type, senile onset, with depression (disorder)', 'has definitional manifestation', 'Dementia (disorder)')\n",
      "('Panic disorder with agoraphobia, moderate agoraphobic avoidance AND panic attacks in partial remission (disorder)', 'type', 'Disorder')\n",
      "('Panic disorder with agoraphobia, moderate agoraphobic avoidance AND panic attacks in partial remission (disorder)', 'has definitional manifestation', 'Panic (finding)')\n",
      "('Panic disorder with agoraphobia, mild agoraphobic avoidance AND panic attacks in full remission (disorder)', 'type', 'Disorder')\n",
      "('Panic disorder with agoraphobia, agoraphobic avoidance in full remission AND panic attacks in full remission (disorder)', 'type', 'Disorder')\n",
      "('Panic disorder with agoraphobia, agoraphobic avoidance in partial remission AND severe panic attacks (disorder)', 'type', 'Disorder')\n",
      "('Arteriosclerotic dementia with depression (disorder)', 'type', 'Disorder')\n",
      "('Myocardial infarction due to demand ischemia (disorder)', 'type', 'Disorder')\n",
      "('Panic disorder with agoraphobia, agoraphobic avoidance in partial remission AND severe panic attacks (disorder)', 'has definitional manifestation', 'Panic (finding)')\n",
      "\u001b[0m"
     ]
    },
    {
     "name": "stderr",
     "output_type": "stream",
     "text": [
      "1it [00:13, 13.46s/it]Setting `pad_token_id` to `eos_token_id`:2 for open-end generation.\n"
     ]
    },
    {
     "name": "stdout",
     "output_type": "stream",
     "text": [
      "======= Sentence 0 processed.. ========\n",
      "\u001b[1;3;32mExtracted keywords: ['sinoatrial nodal pacemakers', 'nodal', 'asystole', 'bradyarrhythmias', 'atrioventricular', 'pacemakers', 'lidocaine', 'cardiac asystole', 'atrioventricular nodal pacemakers', 'idiosyncrasy', 'sinoatrial', 'cardiac']\n",
      "\u001b[0m"
     ]
    },
    {
     "name": "stderr",
     "output_type": "stream",
     "text": [
      "Setting `pad_token_id` to `eos_token_id`:2 for open-end generation.\n"
     ]
    },
    {
     "name": "stdout",
     "output_type": "stream",
     "text": [
      "\u001b[1;3;34mKG context:\n",
      "The following are knowledge sequence in max depth 5 in the form of directed graph like:\n",
      "`subject -[predicate]->, object, <-[predicate_next_hop]-, object_next_hop ...`\n",
      "('Ventricular aneurysm due to and following acute myocardial infarction (disorder)', 'type', 'Disorder')\n",
      "('Left ventricular failure with normal ejection fraction due to coronary arteriosclerosis (disorder)', 'type', 'Disorder')\n",
      "(\"Ebstein's anomaly of tricuspid valve with atrialization of right ventricular chamber (disorder)\", 'type', 'Disorder')\n",
      "('Left ventricular failure with normal ejection fraction due to coronary arteriosclerosis (disorder)', 'due to', 'Coronary arteriosclerosis (disorder)')\n",
      "('Mural thrombus of right ventricle following acute myocardial infarction (disorder)', 'type', 'Disorder')\n",
      "('International neuroblastoma pathology classification: Favorable histology group, patient of any age with ganglioneuroma (Schwannian stroma-dominant) maturing, or mature (finding)', 'type', 'Clinical Finding')\n",
      "('Recurrent ventricular component of atrioventricular septal defect after prior cardiovascular surgical procedure (disorder)', 'type', 'Disorder')\n",
      "('Acute ST segment elevation myocardial infarction of anterior wall involving right ventricle (disorder)', 'type', 'Disorder')\n",
      "('Aortic orifice posterior left with respect to pulmonary orifice (disorder)', 'type', 'Disorder')\n",
      "('Triple orifice of left ventricular component of common atrioventricular valve (disorder)', 'type', 'Disorder')\n",
      "\u001b[0m"
     ]
    },
    {
     "name": "stderr",
     "output_type": "stream",
     "text": [
      "2it [00:23, 11.45s/it]Setting `pad_token_id` to `eos_token_id`:2 for open-end generation.\n"
     ]
    },
    {
     "name": "stdout",
     "output_type": "stream",
     "text": [
      "======= Sentence 1 processed.. ========\n",
      "\u001b[1;3;32mExtracted keywords: ['children', 'beta', 'reabsorption', 'vesicoprostatic tumor', \"Fanconi's syndrome\", 'phosphate tubular reabsorption', 'MMT', 'tumor', '2', 'cisplatin', 'ifosfamide', '84', 'malignant', 'tubular', 'vesicoprostatic', 'beta 2 microglobulinuria', 'renal', 'phosphate', 'Fanconi', 'SIOP', 'renal toxicity', 'malignant mesenchymal tumors', 'SIOP MMT 84', 'mesenchymal', 'syndrome', 'tumors', 'toxicity', 'microglobulinuria']\n",
      "\u001b[0m"
     ]
    },
    {
     "name": "stderr",
     "output_type": "stream",
     "text": [
      "Setting `pad_token_id` to `eos_token_id`:2 for open-end generation.\n"
     ]
    },
    {
     "name": "stdout",
     "output_type": "stream",
     "text": [
      "\u001b[1;3;34mKG context:\n",
      "The following are knowledge sequence in max depth 5 in the form of directed graph like:\n",
      "`subject -[predicate]->, object, <-[predicate_next_hop]-, object_next_hop ...`\n",
      "('Acute myeloid leukemia and myelodysplastic syndrome related to topoisomerase type 2 inhibitor (disorder)', 'causative agent', 'Substance with topoisomerase inhibitor mechanism of action (substance)')\n",
      "('Acute myeloid leukemia in complete remission (disorder)', 'type', 'Disorder')\n",
      "('Intergroup rhabdomyosarcoma study post-surgical clinical group IIC: Locally extensive tumor (spread to regional lymph nodes), gross total resection, but microscopic residual disease (finding)', 'type', 'Clinical Finding')\n",
      "('Hepatic coma due to acute hepatitis B with delta agent (disorder)', 'due to', 'Acute hepatitis B with hepatitis D (disorder)')\n",
      "('Accidental mefenamic acid overdose (disorder)', 'type', 'Disorder')\n",
      "('Hepatic ascites co-occurrent with chronic active hepatitis due to toxic liver disease (disorder)', 'type', 'Disorder')\n",
      "('Mefenamic acid overdose (disorder)', 'type', 'Disorder')\n",
      "('Chronic myeloid leukemia in lymphoid blast crisis (disorder)', 'type', 'Disorder')\n",
      "('Acute myeloid leukemia in complete remission (disorder)', 'associated morphology', 'Acute myeloid leukemia (morphologic abnormality)')\n",
      "('Acute lymphoid leukemia in remission (disorder)', 'type', 'Disorder')\n",
      "\u001b[0m"
     ]
    },
    {
     "name": "stderr",
     "output_type": "stream",
     "text": [
      "3it [00:46, 15.42s/it]"
     ]
    },
    {
     "name": "stdout",
     "output_type": "stream",
     "text": [
      "======= Sentence 2 processed.. ========\n"
     ]
    },
    {
     "name": "stderr",
     "output_type": "stream",
     "text": [
      "\n"
     ]
    }
   ],
   "source": [
    "using_extractor = None\n",
    "pipe_extractor = None\n",
    "input_text_dir = \"data/BioNEL_datasets/BC5CDR_gold_all.json\"\n",
    "snomed_extraction_prompt_var_mappings = {\"text\": \"text\"}\n",
    "\n",
    "BC5CDR_extraction_prompt = \"\"\"\\\n",
    "Here is the context: {text}.\\\n",
    "\n",
    "Task: Extract the entity-type pairs from the given context with the format of (entity ; type).\\\n",
    "\n",
    "Here is the type list: [Disorder, Substance].\\\n",
    "\n",
    "The steps are as follows:\\\n",
    "1. extract the entity from the given context abstract, using the retrieved sub-graph.\n",
    "2. select ONE most likely type from the list for the extracted entity.\n",
    "3. output the pairs in the format of (entity ; type) strictly.\n",
    "4. repeat the step 1 to step 3.\\\n",
    "\\\n",
    "\n",
    "Provide your answer as follows:\n",
    "\n",
    "Answer:::\n",
    "Pairs: (All extracted pairs)\\\n",
    "Answer End:::\\\n",
    "\n",
    "Requirements:\\\n",
    "You MUST provide values for 'Pairs:' in your answer. \\\n",
    "ONLY use the type in the type list: [Disorder, Substance].\\\n",
    "ONLY output valid entity-type pairs without any reasoning.\n",
    "\n",
    "\"\"\"\n",
    "\n",
    "prompt_tmpl = PromptTemplate(\n",
    "    BC5CDR_extraction_prompt, template_var_mappings=snomed_extraction_prompt_var_mappings\n",
    ")\n",
    "\n",
    "rag_start(test_id=f\"_test_pairextraction_BC5CDR\",\n",
    "            input_text_dir=input_text_dir,\n",
    "            prompt_tmpl=prompt_tmpl,\n",
    "            target_results=\"Pairs\",\n",
    "            query_engine=query_engine,\n",
    "            pipe_parser=pipe_parser,\n",
    "            cases=3)\n"
   ]
  },
  {
   "cell_type": "markdown",
   "metadata": {},
   "source": [
    "Batch test - triple extraction\n",
    "------"
   ]
  },
  {
   "cell_type": "code",
   "execution_count": null,
   "metadata": {},
   "outputs": [
    {
     "name": "stderr",
     "output_type": "stream",
     "text": [
      "0it [00:00, ?it/s]Setting `pad_token_id` to `eos_token_id`:2 for open-end generation.\n"
     ]
    },
    {
     "name": "stdout",
     "output_type": "stream",
     "text": [
      "\u001b[1;3;32mExtracted keywords: ['skin sensitizers', 'methodologies', 'Guidelines', 'skin', 'domain', 'OECD Test Guidelines', 'new approach methodologies', 'sensitizers', 'Test', 'acting', 'applicability domain', 'haptens', 'NAMs', 'hydrophobic substances', 'indirectly acting haptens', 'indirectly', 'LLNA', 'applicability', 'new', 'substances', 'assay', 'OECD', 'UVCBs', 'GARD skin assay', 'GARD', 'approach', 'hydrophobic']\n",
      "\u001b[0m"
     ]
    },
    {
     "name": "stderr",
     "output_type": "stream",
     "text": [
      "Setting `pad_token_id` to `eos_token_id`:2 for open-end generation.\n"
     ]
    },
    {
     "name": "stdout",
     "output_type": "stream",
     "text": [
      "\u001b[1;3;34mKG context:\n",
      "The following are knowledge sequence in max depth 5 in the form of directed graph like:\n",
      "`subject -[predicate]->, object, <-[predicate_next_hop]-, object_next_hop ...`\n",
      "('High risk proliferative retinopathy not amenable to photocoagulation due to diabetes mellitus (disorder)', 'type', 'Disorder')\n",
      "('Allergy to cefpodoxime (finding)', 'type', 'Clinical Finding')\n",
      "('High risk proliferative retinopathy not amenable to photocoagulation due to diabetes mellitus (disorder)', 'associated with', 'Diabetes mellitus (disorder)')\n",
      "('Monoclonal gammopathy (disorder)', 'has definitional manifestation', 'Serum gamma globulin above reference range (finding)')\n",
      "('Allergy to alpha-tocopherol (finding)', 'type', 'Clinical Finding')\n",
      "('Allergy to phthalylsulfathiazole (finding)', 'type', 'Clinical Finding')\n",
      "('Allergy to cefpirome (finding)', 'type', 'Clinical Finding')\n",
      "('Non-healing of skin donor site (finding)', 'associated morphology', 'Wound (morphologic abnormality)')\n",
      "('Allergy to fluvoxamine (finding)', 'type', 'Clinical Finding')\n",
      "('Allergy to phenol (finding)', 'type', 'Clinical Finding')\n",
      "\u001b[0m"
     ]
    },
    {
     "name": "stderr",
     "output_type": "stream",
     "text": [
      "1it [00:27, 27.21s/it]Setting `pad_token_id` to `eos_token_id`:2 for open-end generation.\n"
     ]
    },
    {
     "name": "stdout",
     "output_type": "stream",
     "text": [
      "======= Sentence 0 processed.. ========\n",
      "\u001b[1;3;32mExtracted keywords: ['colon cancer', 'non-obese', 'robotic surgery', 'cancer', 'open surgery', 'resection', 'laparoscopic', 'non', 'surgery', 'laparoscopic surgery', 'patients', 'colon', 'open', 'obese', 'robotic']\n",
      "\u001b[0m"
     ]
    },
    {
     "name": "stderr",
     "output_type": "stream",
     "text": [
      "Setting `pad_token_id` to `eos_token_id`:2 for open-end generation.\n"
     ]
    },
    {
     "name": "stdout",
     "output_type": "stream",
     "text": [
      "\u001b[1;3;34mKG context:\n",
      "The following are knowledge sequence in max depth 5 in the form of directed graph like:\n",
      "`subject -[predicate]->, object, <-[predicate_next_hop]-, object_next_hop ...`\n",
      "('International neuroblastoma pathology classification: Favorable histology group, patient of any age with ganglioneuroma (Schwannian stroma-dominant) maturing, or mature (finding)', 'type', 'Clinical Finding')\n",
      "('B-cell lymphoma unclassifiable with features intermediate between classical Hodgkin lymphoma and diffuse large B-cell lymphoma (disorder)', 'type', 'Disorder')\n",
      "('International neuroblastoma staging system stage 4 (finding)', 'type', 'Clinical Finding')\n",
      "('Tumor metastasis to non-regional lymph nodes cannot be assessed (finding)', 'type', 'Clinical Finding')\n",
      "('G2 grade (finding)', 'type', 'Clinical Finding')\n",
      "('Left iliac fossa mass (finding)', 'type', 'Clinical Finding')\n",
      "(\"Non-Hodgkin's lymphoma of uterine cervix (disorder)\", 'type', 'Disorder')\n",
      "('Lymphatic (small vessel) extramural invasion by tumor present (finding)', 'type', 'Clinical Finding')\n",
      "('G2 grade (finding)', 'associated morphology', 'Lesion (morphologic abnormality)')\n",
      "('Intergroup rhabdomyosarcoma study post-surgical clinical group IIC: Locally extensive tumor (spread to regional lymph nodes), gross total resection, but microscopic residual disease (finding)', 'type', 'Clinical Finding')\n",
      "\u001b[0m"
     ]
    },
    {
     "name": "stderr",
     "output_type": "stream",
     "text": [
      "2it [01:03, 32.35s/it]Setting `pad_token_id` to `eos_token_id`:2 for open-end generation.\n"
     ]
    },
    {
     "name": "stdout",
     "output_type": "stream",
     "text": [
      "======= Sentence 1 processed.. ========\n",
      "\u001b[1;3;32mExtracted keywords: ['natural history', 'natural', 'solid', 'Apolipoprotein', 'outcomes', 'mutations', 'organ', 'APOA1', 'history', 'finding', 'Apolipoprotein A-I', 'course', 'gene', 'site', 'amyloidosis', 'finding site', 'solid organ transplantation', 'A', 'I', 'gene mutations', 'transplantation']\n",
      "\u001b[0m"
     ]
    },
    {
     "name": "stderr",
     "output_type": "stream",
     "text": [
      "Setting `pad_token_id` to `eos_token_id`:2 for open-end generation.\n"
     ]
    },
    {
     "name": "stdout",
     "output_type": "stream",
     "text": [
      "\u001b[1;3;34mKG context:\n",
      "The following are knowledge sequence in max depth 5 in the form of directed graph like:\n",
      "`subject -[predicate]->, object, <-[predicate_next_hop]-, object_next_hop ...`\n",
      "(\"Non-familial Alzheimer's disease of late onset (disorder)\", 'type', 'Disorder')\n",
      "(\"Non-familial Alzheimer's disease of late onset (disorder)\", 'has definitional manifestation', 'Dementia (disorder)')\n",
      "('International neuroblastoma pathology classification: Favorable histology group, patient of any age with ganglioneuroma (Schwannian stroma-dominant) maturing, or mature (finding)', 'type', 'Clinical Finding')\n",
      "(\"Familial Alzheimer's disease of late onset (disorder)\", 'type', 'Disorder')\n",
      "(\"Progressive aphasia in Alzheimer's disease (disorder)\", 'has definitional manifestation', 'Dementia (disorder)')\n",
      "('Mendelian susceptibility to mycobacterial disease due to partial signal transducer and activator of transcription 1 deficiency (disorder)', 'type', 'Disorder')\n",
      "(\"Familial Alzheimer's disease of late onset (disorder)\", 'has definitional manifestation', 'Dementia (disorder)')\n",
      "('Cerebrovascular accident due to occlusion of right posterior communicating artery (disorder)', 'type', 'Disorder')\n",
      "('Open traumatic dislocation of distal interphalangeal joint of right middle finger (disorder)', 'type', 'Disorder')\n",
      "('Neoplasm of uncertain behavior of hypopharyngeal aspect of interarytenoid fold (disorder)', 'type', 'Disorder')\n",
      "\u001b[0m"
     ]
    },
    {
     "name": "stderr",
     "output_type": "stream",
     "text": [
      "3it [01:16, 25.44s/it]"
     ]
    },
    {
     "name": "stdout",
     "output_type": "stream",
     "text": [
      "======= Sentence 2 processed.. ========\n"
     ]
    },
    {
     "name": "stderr",
     "output_type": "stream",
     "text": [
      "\n"
     ]
    }
   ],
   "source": [
    "using_extractor = None\n",
    "pipe_extractor = None\n",
    "input_text_dir = \"data/pubmed_eval_datasets/2023_selected_limit_100.json\"\n",
    "snomed_extraction_prompt_var_mappings = {\"text\": \"text\"}\n",
    "\n",
    "Pubmed_snomed_triple_extraction_prompt = \"\"\"\\\n",
    "Here is the context: {text}.\\\n",
    "\n",
    "Task: Extract the SNOMED CT triples from the given context with the format of (concept 1 ; relation ; concept 2).\\\n",
    "\n",
    "Here is the optional relation list: [temporally follows, after, due to, has realization, associated with, has definitional manifestation,\n",
    "associated finding, associated aetiologic finding, associated etiologic finding, interprets, associated morphology, causative agent, course,\n",
    "finding site, temporally related to, pathological process, direct morphology, is modification of, measures, direct substance, has active ingredient, using, part of].\\\n",
    "\n",
    "The steps are as follows:\\\n",
    "1. extract the concept 1 and concept 2 from the given context sentence, using the retrieved sub-graph.\n",
    "2. select ONE most likely relation from the list for the extracted concepts.\n",
    "3. output the triples in the format of (concept 1 ; relation ; concept 2) strictly.\\\n",
    "\\\n",
    "\n",
    "Provide your answer as follows:\n",
    "\n",
    "Answer:::\n",
    "Triples: (The extracted triples)\\\n",
    "Answer End:::\\\n",
    "\n",
    "Requirements:\\\n",
    "You MUST provide values for 'Triples:' in your answer.\\\n",
    "ONLY output the triples without any other information.\\\n",
    "\"\"\"\n",
    "\n",
    "prompt_tmpl = PromptTemplate(\n",
    "    Pubmed_snomed_triple_extraction_prompt, template_var_mappings=snomed_extraction_prompt_var_mappings\n",
    ")\n",
    "\n",
    "rag_start(test_id=f\"_test_tripleextraction_pubmed\",\n",
    "            input_text_dir=input_text_dir,\n",
    "            prompt_tmpl=prompt_tmpl,\n",
    "            target_results=\"Triples\",\n",
    "            query_engine=query_engine,\n",
    "            pipe_parser=pipe_parser,\n",
    "            cases=3)\n"
   ]
  }
 ],
 "metadata": {
  "kernelspec": {
   "display_name": "hacid",
   "language": "python",
   "name": "python3"
  },
  "language_info": {
   "codemirror_mode": {
    "name": "ipython",
    "version": 3
   },
   "file_extension": ".py",
   "mimetype": "text/x-python",
   "name": "python",
   "nbconvert_exporter": "python",
   "pygments_lexer": "ipython3",
   "version": "3.8.20"
  }
 },
 "nbformat": 4,
 "nbformat_minor": 2
}
