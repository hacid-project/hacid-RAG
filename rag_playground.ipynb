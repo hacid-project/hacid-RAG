{
 "cells": [
  {
   "cell_type": "code",
   "execution_count": 1,
   "metadata": {},
   "outputs": [
    {
     "name": "stderr",
     "output_type": "stream",
     "text": [
      "/opt/conda/envs/hacid/lib/python3.8/site-packages/torch/cuda/__init__.py:628: UserWarning: Can't initialize NVML\n",
      "  warnings.warn(\"Can't initialize NVML\")\n",
      "/opt/conda/envs/hacid/lib/python3.8/site-packages/pydantic/_internal/_fields.py:160: UserWarning: Field \"model_id\" has conflict with protected namespace \"model_\".\n",
      "\n",
      "You may be able to resolve this warning by setting `model_config['protected_namespaces'] = ()`.\n",
      "  warnings.warn(\n",
      "/opt/conda/envs/hacid/lib/python3.8/site-packages/pydantic/_internal/_fields.py:160: UserWarning: Field \"model_name\" has conflict with protected namespace \"model_\".\n",
      "\n",
      "You may be able to resolve this warning by setting `model_config['protected_namespaces'] = ()`.\n",
      "  warnings.warn(\n",
      "/opt/conda/envs/hacid/lib/python3.8/site-packages/pydantic/_internal/_fields.py:160: UserWarning: Field \"model_kwargs\" has conflict with protected namespace \"model_\".\n",
      "\n",
      "You may be able to resolve this warning by setting `model_config['protected_namespaces'] = ()`.\n",
      "  warnings.warn(\n"
     ]
    }
   ],
   "source": [
    "from tqdm import tqdm\n",
    "from rag_prompt_template import *\n",
    "from rag_util import *\n",
    "# os.environ[\"CUDA_VISIBLE_DEVICES\"] = \"1\""
   ]
  },
  {
   "cell_type": "markdown",
   "metadata": {},
   "source": [
    "Initialise RAG pipeline\n",
    "------"
   ]
  },
  {
   "cell_type": "code",
   "execution_count": 2,
   "metadata": {},
   "outputs": [
    {
     "data": {
      "application/vnd.jupyter.widget-view+json": {
       "model_id": "7de4c2b212fc413dbbef1b832545047a",
       "version_major": 2,
       "version_minor": 0
      },
      "text/plain": [
       "Loading checkpoint shards:   0%|          | 0/9 [00:00<?, ?it/s]"
      ]
     },
     "metadata": {},
     "output_type": "display_data"
    }
   ],
   "source": [
    "llm = init_llm_service_context(llm_model_name=\"../llm/Mistral-Small-Instruct-2409\", \n",
    "                                tokenizer_name=\"../llm/Mistral-Small-Instruct-2409\", \n",
    "                                embed_model_name=\"../llm/embedder/HiT-MiniLM-L12-SnomedCT\",\n",
    "                                context_window=32758,\n",
    "                                max_new_tokens=2048,\n",
    "                            )"
   ]
  },
  {
   "cell_type": "code",
   "execution_count": 3,
   "metadata": {},
   "outputs": [],
   "source": [
    "kg_index = init_kg_storage_context(llm, storage_dir=\"index/snomed_dataset_nodoc_commandr_minilml6v2\")"
   ]
  },
  {
   "cell_type": "code",
   "execution_count": 4,
   "metadata": {},
   "outputs": [],
   "source": [
    "query_engine = init_rag_pipeline(kg_index, \n",
    "                                 similarity_top_k=5, \n",
    "                                 graph_store_query_depth=5, \n",
    "                                 include_text=False, \n",
    "                                 retriever_mode=\"hybrid\", \n",
    "                                 verbose=True)"
   ]
  },
  {
   "cell_type": "markdown",
   "metadata": {},
   "source": [
    "Simple Question-Ansuwer example\n",
    "------"
   ]
  },
  {
   "cell_type": "code",
   "execution_count": 5,
   "metadata": {},
   "outputs": [
    {
     "name": "stderr",
     "output_type": "stream",
     "text": [
      "Setting `pad_token_id` to `eos_token_id`:2 for open-end generation.\n"
     ]
    },
    {
     "name": "stdout",
     "output_type": "stream",
     "text": [
      "\u001b[1;3;32mExtracted keywords: ['caused', 'type', 'influenza', 'Gastroenteritis']\n",
      "\u001b[0m"
     ]
    },
    {
     "name": "stderr",
     "output_type": "stream",
     "text": [
      "Setting `pad_token_id` to `eos_token_id`:2 for open-end generation.\n"
     ]
    },
    {
     "name": "stdout",
     "output_type": "stream",
     "text": [
      "\u001b[1;3;34mKG context:\n",
      "The following are knowledge sequence in max depth 5 in the form of directed graph like:\n",
      "`subject -[predicate]->, object, <-[predicate_next_hop]-, object_next_hop ...`\n",
      "('Acute fulminating appendicitis with perforation AND peritonitis (disorder)', 'associated morphology', 'Rupture (morphologic abnormality)')\n",
      "('Viral gastroenteritis (disorder)', 'associated morphology', 'Inflammatory morphology (morphologic abnormality)')\n",
      "('Acute fulminating appendicitis with perforation AND peritonitis (disorder)', 'type', 'Disorder')\n",
      "('Bacterial gastroenteritis (disorder)', 'type', 'Disorder')\n",
      "('Viral gastroenteritis (disorder)', 'type', 'Disorder')\n",
      "\u001b[0m"
     ]
    },
    {
     "data": {
      "text/markdown": [
       "<b> The type of Gastroenteritis caused by influenza is not explicitly stated in the given context. The context only provides information about the types of Viral gastroenteritis and Bacterial gastroenteritis, but not specifically about Gastroenteritis caused by influenza.</b>"
      ],
      "text/plain": [
       "<IPython.core.display.Markdown object>"
      ]
     },
     "metadata": {},
     "output_type": "display_data"
    }
   ],
   "source": [
    "response = query_engine.query(\"what is the type of Gastroenteritis caused by influenza?\")\n",
    "display(Markdown(f\"<b>{response}</b>\"))"
   ]
  },
  {
   "cell_type": "markdown",
   "metadata": {},
   "source": [
    "Triple Extraction example\n",
    "------"
   ]
  },
  {
   "cell_type": "code",
   "execution_count": 6,
   "metadata": {},
   "outputs": [
    {
     "name": "stderr",
     "output_type": "stream",
     "text": [
      "Setting `pad_token_id` to `eos_token_id`:2 for open-end generation.\n"
     ]
    },
    {
     "name": "stdout",
     "output_type": "stream",
     "text": [
      "\u001b[1;3;32mExtracted keywords: ['didanosine', 'ultrastructural', 'biologic', 'abdomen', 'KEYWORDS', 'surgical', 'associated', 'hepatic', 'histologic', 'clinical', '---------------------\\nKEYWORDS: didanosine', 'failure']\n",
      "\u001b[0m"
     ]
    },
    {
     "name": "stderr",
     "output_type": "stream",
     "text": [
      "Setting `pad_token_id` to `eos_token_id`:2 for open-end generation.\n"
     ]
    },
    {
     "name": "stdout",
     "output_type": "stream",
     "text": [
      "\u001b[1;3;34mKG context:\n",
      "The following are knowledge sequence in max depth 5 in the form of directed graph like:\n",
      "`subject -[predicate]->, object, <-[predicate_next_hop]-, object_next_hop ...`\n",
      "('Intentional X-ray diagnostic contrast media overdose (disorder)', 'causative agent', 'Drug or medicament (substance)')\n",
      "('Three column classification system burst fracture of vertebra (disorder)', 'type', 'Disorder')\n",
      "('Closed fracture acetabulum, posterior column (disorder)', 'type', 'Disorder')\n",
      "('Fibrous obliteration of appendix (disorder)', 'type', 'Disorder')\n",
      "('Perforation of appendix (disorder)', 'type', 'Disorder')\n",
      "\u001b[0mResults:\n",
      "- (Fulminant hepatic failure ; associated with ; Didanosine)   - (Fulminant hepatic failure ; associated finding ; Surgical abdomen)\n"
     ]
    }
   ],
   "source": [
    "text = \"We report a case of fulminant hepatic failure associated with didanosine and masquerading as a surgical abdomen and compare the clinical , biologic , histologic , and ultrastructural findings with reports described previously .\"\n",
    "\n",
    "snomed_prompt = f\"\"\"\\\n",
    "Here is the context: {text}.\\\n",
    "\n",
    "Task: Extract the SNOMED CT triples from the given context with the format of (concept 1 ; relation ; concept 2).\\\n",
    "\n",
    "Here is the optional relation list: [temporally follows, after, due to, has realization, associated with, has definitional manifestation, \n",
    "associated finding, associated aetiologic finding, associated etiologic finding, interprets, associated morphology, causative agent, course, \n",
    "finding site, temporally related to, pathological process, direct morphology, is modification of, measures, direct substance, has active ingredient, using, part of].\\\n",
    "\n",
    "The steps are as follows:\\\n",
    "1. extract the concept 1 and concept 2 from the given context sentence, using the retrieved sub-graph.\n",
    "2. select ONE most likely relation from the list for the extracted concepts.\n",
    "3. output the triples in the format of (concept 1 ; relation ; concept 2) strictly.\\\n",
    "\\\n",
    "\n",
    "Provide your answer as follows:\n",
    "\n",
    "Answer:::\n",
    "Triples: (The extracted triples)\\\n",
    "Answer End:::\\\n",
    "\n",
    "You MUST provide values for 'Triples:' in your answer.\\\n",
    "\n",
    "\"\"\"\n",
    "response = query_engine.query(snomed_prompt)\n",
    "# display(Markdown(f\"<b>{response}</b>\"))\n",
    "\n",
    "print(\"Results:\")\n",
    "print(extract_triple(str(response), notebook=True).replace(\") (\", \")\\n(\"))"
   ]
  },
  {
   "cell_type": "code",
   "execution_count": 8,
   "metadata": {},
   "outputs": [
    {
     "name": "stderr",
     "output_type": "stream",
     "text": [
      "Setting `pad_token_id` to `eos_token_id`:2 for open-end generation.\n"
     ]
    },
    {
     "name": "stdout",
     "output_type": "stream",
     "text": [
      "\u001b[1;3;32mExtracted keywords: ['didanosine', 'ultrastructural', 'biologic', 'Answer', 'abdomen', 'described\\nAnswer End:::', 'described', 'reports', 'KEYWORDS', 'fulminant', 'surgical abdomen', 'surgical', 'hepatic', 'End', 'findings', 'histologic', 'Answer:::\\nKEYWORDS: fulminant hepatic failure', 'clinical', 'failure']\n",
      "\u001b[0m"
     ]
    },
    {
     "name": "stderr",
     "output_type": "stream",
     "text": [
      "Setting `pad_token_id` to `eos_token_id`:2 for open-end generation.\n"
     ]
    },
    {
     "name": "stdout",
     "output_type": "stream",
     "text": [
      "\u001b[1;3;34mKG context:\n",
      "The following are knowledge sequence in max depth 5 in the form of directed graph like:\n",
      "`subject -[predicate]->, object, <-[predicate_next_hop]-, object_next_hop ...`\n",
      "('Intentional X-ray diagnostic contrast media overdose (disorder)', 'causative agent', 'Drug or medicament (substance)')\n",
      "('Accidental poisoning caused by cholinergic (disorder)', 'causative agent', 'Drug or medicament (substance)')\n",
      "('Drug-induced hepatic necrosis (disorder)', 'causative agent', 'Drug or medicament (substance)')\n",
      "('Closed fracture acetabulum, posterior column (disorder)', 'type', 'Disorder')\n",
      "('Acute mesenteric arterial occlusion (disorder)', 'type', 'Disorder')\n",
      "\u001b[0mResults:\n",
      "1Concept: fulminant hepatic failureDescriptions: (fulminant hepatic failure ; associated with ; didanosine) (fulminant hepatic failure ; associated with ; surgical abdomen)Answer: 2Concept: didanosineDescriptions: (didanosine ; causative agent ; fulminant hepatic failure)Answer: 3Concept: surgical abdomenDescriptions: (surgical abdomen ; associated with ; fulminant hepatic failure)\n"
     ]
    }
   ],
   "source": [
    "text = \"We report a case of fulminant hepatic failure associated with didanosine and masquerading as a surgical abdomen and compare the clinical , biologic , histologic , and ultrastructural findings with reports described previously .\"\n",
    "\n",
    "snomed_description_generation_prompt = f\"\"\"\\\n",
    "Here is the context: {text}.\\\n",
    "\n",
    "Here is the optional relation list: [temporally follows, after, due to, has realization, associated with, has definitional manifestation, \n",
    "associated finding, associated aetiologic finding, associated etiologic finding, interprets, associated morphology, causative agent, course, \n",
    "finding site, temporally related to, pathological process, direct morphology, is modification of, measures, direct substance, has active ingredient, using, part of].\\\n",
    "\n",
    "Task: Generate the SNOMED CT descriptions for the given concept.\n",
    "\n",
    "The steps are as follows:\n",
    "1. extract a CONCEPT from the given context sentence, using the retrieved sub-graph.\n",
    "2. generate an EXPRESSION in human-readable phrase that can describe the CONCEPT.\n",
    "3. select one most likely relation from the list between the CONCEPT and the EXPRESSION.\n",
    "4. generate descriptions in the format of (CONCEPT ; relation ; EXPRESSION). Each CONCEPT may have multiple descriptions.\n",
    "5. repeat the step 1 to step 4.\n",
    "\n",
    "Provide your answer as follows:\n",
    "\n",
    "Answer:::\n",
    "Concept: \n",
    "Descriptions: (The generated descriptions)\n",
    "Answer End:::\\\n",
    "\n",
    "You MUST provide values for 'Concept' and 'Description' in your answer.\\\n",
    "\n",
    "Few-shot examples:\n",
    "Answer:::\n",
    "Concept: apnea\n",
    "Descriptions: (apnea ; interprets ; respiration observable) (apnea ; has interpretation ; absent) (apnea ; finding site ; structure of respiratory system)\n",
    "Answer End:::\n",
    "\n",
    "\"\"\"\n",
    "\n",
    "response = query_engine.query(snomed_description_generation_prompt)\n",
    "# display(Markdown(f\"<b>{response}</b>\"))\n",
    "\n",
    "print(f\"Results:\\n{extract_triple(str(response), notebook=True, split_str1='Answer:::')}\")"
   ]
  },
  {
   "cell_type": "markdown",
   "metadata": {},
   "source": [
    "Medical Diagnostics example\n",
    "------"
   ]
  },
  {
   "cell_type": "code",
   "execution_count": 12,
   "metadata": {},
   "outputs": [
    {
     "name": "stderr",
     "output_type": "stream",
     "text": [
      "Setting `pad_token_id` to `eos_token_id`:2 for open-end generation.\n"
     ]
    },
    {
     "name": "stdout",
     "output_type": "stream",
     "text": [
      "\u001b[1;3;32mExtracted keywords: ['fever', 'x', 'chest', 'worsening', 'ray', 'fatigue', 'wheezing', 'cough', 'normal x-ray', 'normal', 'construction', 'Ohio', 'pain', 'dyspnea', 'chest pain']\n",
      "\u001b[0m"
     ]
    },
    {
     "name": "stderr",
     "output_type": "stream",
     "text": [
      "Setting `pad_token_id` to `eos_token_id`:2 for open-end generation.\n"
     ]
    },
    {
     "name": "stdout",
     "output_type": "stream",
     "text": [
      "\u001b[1;3;34mKG context:\n",
      "The following are knowledge sequence in max depth 5 in the form of directed graph like:\n",
      "`subject -[predicate]->, object, <-[predicate_next_hop]-, object_next_hop ...`\n",
      "('Postobstructive pneumonia (disorder)', 'due to', 'Respiratory obstruction (disorder)')\n",
      "('Transient respiratory distress with sepsis (disorder)', 'type', 'Disorder')\n",
      "('Aspiration pneumonia due to near drowning (disorder)', 'type', 'Disorder')\n",
      "('Postoperative aspiration pneumonia (disorder)', 'type', 'Disorder')\n",
      "('Pneumonia due to measles (disorder)', 'type', 'Disorder')\n",
      "\u001b[0mResults:\n",
      "Diagnosis: Viral pneumoniaDiagnosis: Aspiration pneumoniaDiagnosis: BronchitisDiagnosis: AsthmaDiagnosis: Pneumonia due to measles\n"
     ]
    }
   ],
   "source": [
    "case_vignette = \"\"\"\n",
    "40 year old female presenting with chest pain\n",
    " Symptom: Worsening chest pain\n",
    " • Onset: 2 weeks ago\n",
    " • Associated with: Cough, dyspnea, fever\n",
    " • Complicated by: Fatigue\n",
    " Social history\n",
    " • Recent construction in Ohio\n",
    " Physical exam\n",
    " • Lungs: Wheezing\n",
    " Diagnostic: X-ray\n",
    " • Interpretation: Normal\n",
    "\"\"\"\n",
    "\n",
    "medical_diagnosis_prompt = \"\"\"\n",
    "Case vignette: {case_vignette}\n",
    "\n",
    "According the given case vignette, provide only the most probable differential diagnosis, no explanation, no recapitulation of the case information or task. \n",
    "Give a maximum of 5 answers, sorted by probability of being the correct diagnosis, most probable first, remove list numbering, \n",
    "and respond with each answer on a new line. Be as concise as possible, no need to be polite.\n",
    "\n",
    "Provide your answer as follows:\n",
    "\n",
    "Answer:::\n",
    "Diagnosis: (the 5 most probable diagnoses, most probable first)\n",
    "Answer End:::\\\n",
    "\n",
    "You MUST provide values for 'Diagnosis' in your answer.\\\n",
    "\"\"\"\n",
    "\n",
    "response = query_engine.query(medical_diagnosis_prompt.format(case_vignette=case_vignette))\n",
    "# display(Markdown(f\"<b>{response}</b>\"))\n",
    "print(f\"Results:\\n{extract_triple(str(response), notebook=True, split_str1='Answer:::')}\")"
   ]
  }
 ],
 "metadata": {
  "kernelspec": {
   "display_name": "hacid",
   "language": "python",
   "name": "python3"
  },
  "language_info": {
   "codemirror_mode": {
    "name": "ipython",
    "version": 3
   },
   "file_extension": ".py",
   "mimetype": "text/x-python",
   "name": "python",
   "nbconvert_exporter": "python",
   "pygments_lexer": "ipython3",
   "version": "3.8.20"
  }
 },
 "nbformat": 4,
 "nbformat_minor": 2
}
