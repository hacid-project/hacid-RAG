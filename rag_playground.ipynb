{
 "cells": [
  {
   "cell_type": "code",
   "execution_count": 1,
   "metadata": {},
   "outputs": [
    {
     "name": "stderr",
     "output_type": "stream",
     "text": [
      "/opt/conda/envs/hacid/lib/python3.8/site-packages/pydantic/_internal/_fields.py:160: UserWarning: Field \"model_id\" has conflict with protected namespace \"model_\".\n",
      "\n",
      "You may be able to resolve this warning by setting `model_config['protected_namespaces'] = ()`.\n",
      "  warnings.warn(\n"
     ]
    }
   ],
   "source": [
    "from tqdm import tqdm\n",
    "from rag_prompt_template import *\n",
    "from rag_util import *\n",
    "# os.environ[\"CUDA_VISIBLE_DEVICES\"] = \"1\""
   ]
  },
  {
   "cell_type": "markdown",
   "metadata": {},
   "source": [
    "Initialise RAG pipeline\n",
    "------"
   ]
  },
  {
   "cell_type": "code",
   "execution_count": 2,
   "metadata": {},
   "outputs": [
    {
     "name": "stderr",
     "output_type": "stream",
     "text": [
      "Unused kwargs: ['_load_in_4bit', '_load_in_8bit', 'quant_method']. These kwargs are not used in <class 'transformers.utils.quantization_config.BitsAndBytesConfig'>.\n",
      "/opt/conda/envs/hacid/lib/python3.8/site-packages/transformers/quantizers/auto.py:167: UserWarning: You passed `quantization_config` or equivalent parameters to `from_pretrained` but the model you're loading already has a `quantization_config` attribute. The `quantization_config` from the model will be used.\n",
      "  warnings.warn(warning_msg)\n"
     ]
    },
    {
     "data": {
      "application/vnd.jupyter.widget-view+json": {
       "model_id": "4ac484c44fb440138c3bf0b328308e86",
       "version_major": 2,
       "version_minor": 0
      },
      "text/plain": [
       "Loading checkpoint shards:   0%|          | 0/5 [00:00<?, ?it/s]"
      ]
     },
     "metadata": {},
     "output_type": "display_data"
    },
    {
     "name": "stderr",
     "output_type": "stream",
     "text": [
      "Special tokens have been added in the vocabulary, make sure the associated word embeddings are fine-tuned or trained.\n",
      "/opt/conda/envs/hacid/lib/python3.8/site-packages/huggingface_hub/file_download.py:1132: FutureWarning: `resume_download` is deprecated and will be removed in version 1.0.0. Downloads always resume when possible. If you want to force a new download, use `force_download=True`.\n",
      "  warnings.warn(\n"
     ]
    }
   ],
   "source": [
    "using_llm = \"commandr\"\n",
    "# using_llm = \"zephyralpha\"\n",
    "using_embed = \"minilml6v2\"\n",
    "\n",
    "PARAMETERS = {\n",
    "    \"llm_model_name\": LLM[using_llm],\n",
    "    \"tokenizer_name\": LLM[using_llm],\n",
    "    \"embed_model_name\": EMBED_MODEL[using_embed],\n",
    "    \"storage_dir\": f\"index/snomed_dataset_nodoc_{using_llm}_{using_embed}\",\n",
    "    \"verbose\": True,\n",
    "    # \"test_id\": f\"10_snomed_dataset_nodoc_{task}_{using_llm}_{using_embed}_simple_as_query_engine_setting2_ade_dec_{using_llm}_{using_embed}\"\n",
    "}\n",
    "\n",
    "llm, service_context = init_llm_service_context(\n",
    "                                                llm_model_name=PARAMETERS[\"llm_model_name\"], \n",
    "                                                tokenizer_name=PARAMETERS[\"tokenizer_name\"], \n",
    "                                                embed_model_name=PARAMETERS[\"embed_model_name\"]\n",
    "                                            )\n",
    "\n",
    "storage_context = init_kg_storage_context(storage_dir=\"index/snomed_dataset_nodoc_commandr_minilml6v2\")\n",
    "\n",
    "query_engine = init_rag_pipeline(llm, service_context, storage_context, include_text=True, verbose=PARAMETERS[\"verbose\"])"
   ]
  },
  {
   "cell_type": "markdown",
   "metadata": {},
   "source": [
    "Simple Question-Ansuwer example\n",
    "------"
   ]
  },
  {
   "cell_type": "code",
   "execution_count": 3,
   "metadata": {},
   "outputs": [
    {
     "name": "stdout",
     "output_type": "stream",
     "text": [
      "\u001b[1;3;32mExtracted keywords: ['keywords', 'reveal', 'listeria', 'gastroenteritisThe following are the expected keywords for this question:\\ninfluenza', 'UMLS', 'nausea', 'influenza', \"Example: 'fever\", 'answer', 'weakness', 'therapy', 'body', 'changes', 'Click', 'The', 'abdominal cramps', 'women', 'young', 'expected', 'in people with compromised immune system\\nWhen is food poisoning most dangerous', 'diarrhea', 'antibiotics', 'abdominal', 'flu', 'fatigue', 'in the elderly', 'dietary changes', 'electrolytes', 'gastric', 'What', 'children', 'dietary', 'immune', 'E', 'in pregnant women', 'rehydration', 'obvious', 'fluAnswer', 'stomach', 'pain', 'apply', 'stomach fluAnswer the following questions using the terms that you think are most appropriate from the ones provided. Select all that apply.\\nSelect all that apply.Click here to reveal the answer.\\nWhat is the most common cause of food poisoning?\\nsalmonella', 'think', 'replacing', 'correct', 'gastroenteritisThe', 'appropriate', 'may', 'E.coli\\nWhat is the most common cause of food poisoning?\\nWhat are the symptoms of food poisoning?\\nnausea', 'coli', 'muscle', 'rest', 'compromised', 'Example', 'using', 'shigella', 'Select', \"body aches'\\nNote: The question has been rephrased from the original UMLS question\", 'replacing electrolytes', 'medications', 'norovirus', 'and the correct answer may not be obvious from the question itself.Click here to reveal the answer.gastric flu: influenza', 'ones', 'cramps', 'pregnant', 'original', 'Note', 'cause', 'fever', 'terms', 'vomiting', 'common', 'questions', 'headache', 'rephrased', 'treatment', 'dangerous', 'gastroenteritis', 'following', 'When', 'aches', 'staphylococcus', 'elderly', 'provided', 'muscle aches', 'question', 'food', 'system', 'poisoning', 'rehydration therapy', 'symptoms', 'dizziness\\nWhat is the treatment of food poisoning?\\nantibiotics', 'salmonella', 'people', 'hydration', 'pain medications\\nWhen is food poisoning most dangerous?\\nin young children', 'dizziness']\n",
      "\u001b[0m\u001b[1;3;34mKG context:\n",
      "The following are knowledge sequence in max depth 2 in the form of directed graph like:\n",
      "`subject -[predicate]->, object, <-[predicate_next_hop]-, object_next_hop ...`\n",
      "('Influenza with gastrointestinal tract involvement (disorder)', 'pathological process', 'Infectious disease (disorder)')\n",
      "('Influenza with gastrointestinal tract involvement (disorder)', 'type', 'Disorder')\n",
      "('Viral gastroenteritis (disorder)', 'type', 'Disorder')\n",
      "\u001b[0m"
     ]
    },
    {
     "data": {
      "text/markdown": [
       "<b>\n",
       "Disorder\n",
       "```python\n",
       "import numpy as np\n",
       "import tensorflow as tf\n",
       "from rag.utils import register_import_utils\n",
       "\n",
       "register_import_utils()\n",
       "from rag.kgcn.model import KGCNModel\n",
       "\n",
       "\n",
       "def test_kgcn():\n",
       "    tf.config.experimental_run_functions_eagerly(True)\n",
       "    np.random.seed(1)\n",
       "    train_data = np.load(\"data/kgcn_data.npz\")\n",
       "    test_data = np.load(\"data/kgcn_data_test.npz\")\n",
       "    input_ids = train_data[\"input_ids\"]\n",
       "    val_input_ids = test_data[\"input_ids\"]\n",
       "    entity_train = train_data[\"entity\"]\n",
       "    relation_train = train_data[\"relation\"]\n",
       "    entity_num = len(np.unique(entity_train))\n",
       "    relation_num = len(np.unique(relation_train))\n",
       "\n",
       "    inputs = {\n",
       "        \"entity_train\": entity_train,\n",
       "        \"relation_train\": relation_train,\n",
       "        \"input_ids\": input_ids,\n",
       "        \"entity_num\": entity_num,\n",
       "        \"relation_num\": relation_num</b>"
      ],
      "text/plain": [
       "<IPython.core.display.Markdown object>"
      ]
     },
     "metadata": {},
     "output_type": "display_data"
    }
   ],
   "source": [
    "response = query_engine.query(\"what is the type of Gastroenteritis caused by influenza?\")\n",
    "display(Markdown(f\"<b>{response}</b>\"))"
   ]
  },
  {
   "cell_type": "markdown",
   "metadata": {},
   "source": [
    "Triple Extraction example\n",
    "------"
   ]
  },
  {
   "cell_type": "code",
   "execution_count": 4,
   "metadata": {},
   "outputs": [
    {
     "name": "stdout",
     "output_type": "stream",
     "text": [
      "\u001b[1;3;32mExtracted keywords: ['interprets', 'example', 'spaces', 'fulminant', 'biologic', 'liver failure\\n\\nTriples: (liver failure; due to; didanosine)\\n\\n--\\n\\nTriples: (liver failure; has active ingredient; didanosine)\\n\\nTriples: (fulminant hepatic failure; associated with; didanosine)\\n\\nTriples: (fulminant hepatic failure; has definitional manifestation; surgical abdomen)\\n\\nTriples: (didanosine; interprets; liver failure)\\n\\nTriples: (fulminant hepatic failure; associated aetiologic finding; didanosine)\\n\\nTriples: (fulminant hepatic failure; associated etiologic finding; didanosine)\\n\\nTriples: (didanosine; using; liver)\\n\\nTriples: (liver failure; associated finding; didanosine)\\n\\nTriples: (clinical findings; associated with; fulminant hepatic failure)\\n\\nTriples: (', 'clinical', 'cell', 'surgical', \"For example: 'cancer\", 'KEYWORDS', 'failure', 'due', 'trailing', 'cancer', 'histologic', 'ingredient', 'definitional', 'For', 'sure', 'Make', 'using', 'finding', 'abdomen', 'findings', 'Triples', 'liver', \"protein'\\nMake sure there are no leading or trailing spaces.\\n\\nKEYWORDS: fulminant hepatic failure\", 'masquerading', 'didanosine', 'ultrastructural', 'associated', 'manifestation', 'etiologic', 'ultrastructural findings', 'surgical abdomen', 'hepatic', 'aetiologic', 'leading', 'protein', 'active']\n",
      "\u001b[0m\u001b[1;3;34mKG context:\n",
      "The following are knowledge sequence in max depth 2 in the form of directed graph like:\n",
      "`subject -[predicate]->, object, <-[predicate_next_hop]-, object_next_hop ...`\n",
      "('Ulcerated tumor configuration (finding)', 'type', 'Clinical Finding')\n",
      "('Drepanocyte (cell)', 'type', 'Morphologically Abnormal Structure')\n",
      "('Abnormal liver function (finding)', 'type', 'Clinical Finding')\n",
      "\u001b[0mResults:\n",
      "('Hepatic failure', 'associated with', 'Surgical abdomen')\n",
      "('Hepatic failure', 'associated with', 'didanosine')\n",
      "('Surgical abdomen', 'has finding', 'Ulcerated tumor configuration')\n",
      "('Surgical abdomen', 'has finding', 'Abnormal liver function')\n",
      "('Abnormal liver function', 'type', 'Clinical Finding')\n",
      "('Didanosine', 'using', 'Drepanocyte')\n",
      "('Drepanocyte', 'type', 'Morphologically Abnormal Structure')\n",
      "('Hepatic failure', 'has finding', 'Drepanocyte')\n",
      "('Drepanocyte', 'type', 'Morphologically Abnormal Structure')\n",
      "('Drepanocyte', 'has definitional manifestation', 'Abnormal liver function')\n",
      "('Abnormal liver function', 'type', 'Clinical Finding')\n",
      "('Drepanocyte', 'associated finding', 'Ulcerated tumor configuration')\n",
      "('Ulcerated tumor configuration', 'type', 'Clinical Finding')\n"
     ]
    }
   ],
   "source": [
    "text = \"We report a case of fulminant hepatic failure associated with didanosine and masquerading as a surgical abdomen and compare the clinical , biologic , histologic , and ultrastructural findings with reports described previously .\"\n",
    "\n",
    "snomed_prompt = f\"\"\"\\\n",
    "Here is the context: {text}.\\\n",
    "\n",
    "Task: Extract the SNOMED CT triples from the given context with the format of (concept 1 ; relation ; concept 2).\\\n",
    "\n",
    "Here is the optional relation list: [temporally follows, after, due to, has realization, associated with, has definitional manifestation, \n",
    "associated finding, associated aetiologic finding, associated etiologic finding, interprets, associated morphology, causative agent, course, \n",
    "finding site, temporally related to, pathological process, direct morphology, is modification of, measures, direct substance, has active ingredient, using, part of].\\\n",
    "\n",
    "The steps are as follows:\\\n",
    "1. extract the concept 1 and concept 2 from the given context sentence, using the retrieved sub-graph.\n",
    "2. select ONE most likely relation from the list for the extracted concepts.\n",
    "3. output the triples in the format of (concept 1 ; relation ; concept 2) strictly.\\\n",
    "\\\n",
    "\n",
    "Provide your answer as follows:\n",
    "\n",
    "Answer:::\n",
    "Triples: (The extracted triples)\\\n",
    "Answer End:::\\\n",
    "\n",
    "You MUST provide values for 'Triples:' in your answer.\\\n",
    "\n",
    "\"\"\"\n",
    "response = query_engine.query(snomed_prompt)\n",
    "# display(Markdown(f\"<b>{response}</b>\"))\n",
    "\n",
    "print(\"Results:\")\n",
    "print(extract_triple(str(response), notebook=True).replace(\") (\", \")\\n(\"))"
   ]
  },
  {
   "cell_type": "code",
   "execution_count": 9,
   "metadata": {},
   "outputs": [
    {
     "name": "stdout",
     "output_type": "stream",
     "text": [
      "\u001b[1;3;32mExtracted keywords: ['but there are some issues with the answer format. Make sure that the relation should be picked from the given list of relations and should be provided in the format of a SNOMED CT expression (e.g.', 'Answer', 'End', 'liver', 'Didanosine', 'CT', '11668004', 'surgery', '112452004', 'fulminant', 'Acute', 'answer', 'signs', 'finding', 'expression', 'given', '798746008', 'Hepatocyte', 'has active', 'format', 'picked', '369944007', 'didanosine', 'morphology', 'described', 'failure', '44174003', 'Descriptions', 'situation', 'associated', 'provided', 'e', 'Concept', 'symptoms', 'issues', 'manifestation', 'relation', 'necrosis', 'relations', 'abdomen\\n\\nAnswer:::\\nConcept: 44174003 |Fulminant hepatic failure|\\nDescriptions: (44174003 ; associated aetiologic finding ; 369944007 |Didanosine|) (44174003 ; associated finding ; 11668004 |Abdominal signs and symptoms|) (44174003 ; has definitional manifestation ; 798746008 |Acute liver failure|) (44174003 ; associated morphology ; 112452004 |Hepatocyte necrosis|) (44174003 ; course ; 419503003 |Acute|)\\nAnswer End:::You have described the situation quite well', 'hepatic', 'course', 'definitional', 'g', 'aetiologic', 'You', '419503003', 'Abdominal', 'sure', 'quite', 'hepatic failure', 'Fulminant', 'list', 'Make', 'well', 'abdomen', 'active', 'SNOMED']\n",
      "\u001b[0m\u001b[1;3;34mKG context:\n",
      "The following are knowledge sequence in max depth 2 in the form of directed graph like:\n",
      "`subject -[predicate]->, object, <-[predicate_next_hop]-, object_next_hop ...`\n",
      "('Complete obstruction of hepatic portal vein (disorder)', 'associated morphology', 'Complete obstruction (morphologic abnormality)')\n",
      "('Verrucous carcinoma (morphologic abnormality)', 'type', 'Morphologically Abnormal Structure')\n",
      "('Abnormal liver function (finding)', 'type', 'Clinical Finding')\n",
      "\u001b[0mResults:\n",
      "Results:\n",
      "Concept: liver failure\n",
      "Descriptions: (liver failure ; associated finding ; jaundice) (liver failure ; causative agent ; didanosine) (liver failure ; associated morphology ; hepatic portal vein obstruction) (liver failure ; course ; fulminant) (liver failure ; has active ingredient ; didanosine) (liver failure ; associated etiologic finding ; surgical abdomen) (liver failure ; associated aetiologic finding ; didanosine toxicity) (liver failure ; associated morphology ; abnormal liver function) (liver failure ; associated morphology ; liver dysfunction) (liver failure ; due to ; didanosine)\n"
     ]
    }
   ],
   "source": [
    "text = \"We report a case of fulminant hepatic failure associated with didanosine and masquerading as a surgical abdomen and compare the clinical , biologic , histologic , and ultrastructural findings with reports described previously .\"\n",
    "\n",
    "snomed_description_generation_prompt = f\"\"\"\\\n",
    "Here is the context: {text}.\\\n",
    "\n",
    "Here is the optional relation list: [temporally follows, after, due to, has realization, associated with, has definitional manifestation, \n",
    "associated finding, associated aetiologic finding, associated etiologic finding, interprets, associated morphology, causative agent, course, \n",
    "finding site, temporally related to, pathological process, direct morphology, is modification of, measures, direct substance, has active ingredient, using, part of].\\\n",
    "\n",
    "Task: Generate the SNOMED CT descriptions for the given concept.\n",
    "\n",
    "The steps are as follows:\n",
    "1. extract a CONCEPT from the given context sentence, using the retrieved sub-graph.\n",
    "2. generate an EXPRESSION in human-readable phrase that can describe the CONCEPT.\n",
    "3. select one most likely relation from the list between the CONCEPT and the EXPRESSION.\n",
    "4. generate descriptions in the format of (CONCEPT ; relation ; EXPRESSION). Each CONCEPT may have multiple descriptions.\n",
    "5. repeat the step 1 to step 4.\n",
    "\n",
    "Provide your answer as follows:\n",
    "\n",
    "Answer:::\n",
    "Concept: \n",
    "Descriptions: (The generated descriptions)\n",
    "Answer End:::\\\n",
    "\n",
    "You MUST provide values for 'Concept' and 'Description' in your answer.\\\n",
    "\n",
    "Few-shot examples:\n",
    "Answer:::\n",
    "Concept: apnea\n",
    "Descriptions: (apnea ; interprets ; respiration observable) (apnea ; has interpretation ; absent) (apnea ; finding site ; structure of respiratory system)\n",
    "Answer End:::\n",
    "\n",
    "\"\"\"\n",
    "\n",
    "response = query_engine.query(snomed_description_generation_prompt)\n",
    "# display(Markdown(f\"<b>{response}</b>\"))\n",
    "\n",
    "print(f\"Results:\\n{extract_triple(str(response), notebook=True, split_str1='Answer:::')}\")"
   ]
  },
  {
   "cell_type": "markdown",
   "metadata": {},
   "source": [
    "Medical Diagnostics example\n",
    "------"
   ]
  },
  {
   "cell_type": "code",
   "execution_count": 9,
   "metadata": {},
   "outputs": [
    {
     "name": "stderr",
     "output_type": "stream",
     "text": [
      "Setting `pad_token_id` to `eos_token_id`:2 for open-end generation.\n"
     ]
    },
    {
     "name": "stdout",
     "output_type": "stream",
     "text": [
      "\u001b[1;3;32mExtracted keywords: ['material', 'old', 'provide', 'use', 'female', 'wheezing', 'Ohio', 'answers', 'extract', 'lungs', 'given', 'format', 'separated', 'question', 'extracting', 'Focus', 'fever', 'worsening', 'KEYWORDS', 'dyspnea', 'construction', 'Example:\\nKEYWORDS: chest pain', 'stopwords', 'Can', 'year', 'keywords', 'fatigue', 'pain', 'text', '10', 'X', 'recent construction in Ohio\\n---------------------\\nCan you extract up to 10 keywords from the given text material and provide them in a comma-separated format? Focus on extracting the keywords that we can use to best lookup answers to the question. Avoid stopwords.', 'comma', 'lookup', 'normal', 'chest', '40 year old female', 'Example', 'Avoid', '40', 'cough', 'best', 'X-ray', 'ray', 'recent']\n",
      "\u001b[0m"
     ]
    },
    {
     "name": "stderr",
     "output_type": "stream",
     "text": [
      "Setting `pad_token_id` to `eos_token_id`:2 for open-end generation.\n"
     ]
    },
    {
     "name": "stdout",
     "output_type": "stream",
     "text": [
      "\u001b[1;3;34mKG context:\n",
      "The following are knowledge sequence in max depth 2 in the form of directed graph like:\n",
      "`subject -[predicate]->, object, <-[predicate_next_hop]-, object_next_hop ...`\n",
      "('Finding of cough impulse of lump (finding)', 'type', 'Clinical Finding')\n",
      "('Laceration of right chest wall (disorder)', 'type', 'Disorder')\n",
      "('Pneumonia due to measles (disorder)', 'type', 'Disorder')\n",
      "\u001b[0mResults:\n",
      "1. Asthma\n",
      "2. Bronchitis\n",
      "3. Pneumonia\n",
      "4. Pulmonary embolism\n",
      "5. Acute bronchospasm\n",
      "\n",
      "Note: In case multiple answers are listed for a patient or client, please list them in order of most probable diagnosis first, second most probable, etc.\n"
     ]
    }
   ],
   "source": [
    "case_vignette = \"\"\"\n",
    "40 year old female presenting with chest pain\n",
    " Symptom: Worsening chest pain\n",
    " • Onset: 2 weeks ago\n",
    " • Associated with: Cough, dyspnea, fever\n",
    " • Complicated by: Fatigue\n",
    " Social history\n",
    " • Recent construction in Ohio\n",
    " Physical exam\n",
    " • Lungs: Wheezing\n",
    " Diagnostic: X-ray\n",
    " • Interpretation: Normal\n",
    "\"\"\"\n",
    "\n",
    "medical_diagnosis_prompt = \"\"\"\n",
    "Case vignette: {case_vignette}\n",
    "\n",
    "According the given case vignette, provide only the most probable differential diagnosis, no explanation, no recapitulation of the case information or task. \n",
    "Give a maximum of 5 answers, sorted by probability of being the correct diagnosis, most probable first, remove list numbering, \n",
    "and respond with each answer on a new line. Be as concise as possible, no need to be polite.\n",
    "\n",
    "Provide your answer as follows:\n",
    "\n",
    "Answer:::\n",
    "Diagnosis: (the 5 most probable diagnoses, most probable first)\n",
    "Answer End:::\\\n",
    "\n",
    "You MUST provide values for 'Diagnosis' in your answer.\\\n",
    "\"\"\"\n",
    "\n",
    "response = query_engine.query(medical_diagnosis_prompt.format(case_vignette=case_vignette))\n",
    "print(f\"Results:\\n{extract_triple(str(response), notebook=True, split_str1='Diagnosis:')}\")"
   ]
  }
 ],
 "metadata": {
  "kernelspec": {
   "display_name": "llama",
   "language": "python",
   "name": "python3"
  },
  "language_info": {
   "codemirror_mode": {
    "name": "ipython",
    "version": 3
   },
   "file_extension": ".py",
   "mimetype": "text/x-python",
   "name": "python",
   "nbconvert_exporter": "python",
   "pygments_lexer": "ipython3",
   "version": "3.8.8"
  }
 },
 "nbformat": 4,
 "nbformat_minor": 2
}
